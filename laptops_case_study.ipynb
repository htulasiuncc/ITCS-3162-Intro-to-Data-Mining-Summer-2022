{
  "cells": [
    {
      "cell_type": "markdown",
      "id": "6ccc2bda",
      "metadata": {
        "id": "6ccc2bda"
      },
      "source": [
        "# Laptops Case Study (Final Exam)\n",
        "##Hima Tulasi "
      ]
    },
    {
      "cell_type": "code",
      "execution_count": 5,
      "id": "bc6d7e90",
      "metadata": {
        "id": "bc6d7e90"
      },
      "outputs": [],
      "source": [
        "import pandas as pd\n",
        "import seaborn as sns"
      ]
    },
    {
      "cell_type": "markdown",
      "id": "b5c2f023-0c86-40c9-9ef4-85a2cded5614",
      "metadata": {
        "id": "b5c2f023-0c86-40c9-9ef4-85a2cded5614"
      },
      "source": [
        "## Get the data and examine it"
      ]
    },
    {
      "cell_type": "code",
      "execution_count": 6,
      "id": "d9a4d85e",
      "metadata": {
        "id": "d9a4d85e"
      },
      "outputs": [],
      "source": [
        "data = pd.read_csv('laptops.csv')"
      ]
    },
    {
      "cell_type": "code",
      "execution_count": 7,
      "id": "b6ade2d5",
      "metadata": {
        "colab": {
          "base_uri": "https://localhost:8080/",
          "height": 206
        },
        "id": "b6ade2d5",
        "outputId": "205ba30b-e747-447b-e30b-74bb32fadd5e"
      },
      "outputs": [
        {
          "output_type": "execute_result",
          "data": {
            "text/plain": [
              "    brand           laptop_name  display_size        processor_type  \\\n",
              "0      HP  Notebook 14-df0008nx          14.0   Intel Celeron N4000   \n",
              "1  Lenovo    IdeaPad 330S-14IKB          14.0   Intel Core i5-8250U   \n",
              "2  Huawei      MateBook D Volta          14.0   Intel Core i5-8250U   \n",
              "3    Dell      Inspiron 15 3567          15.6   Intel Core i3-7020U   \n",
              "4    Asus    VivoBook 15 X510UR          15.6   Intel Core i7-8550U   \n",
              "\n",
              "                  graphics_card     disk_space  discount_price  old_price  \\\n",
              "0         Intel HD Graphics 600   64 GB (eMMC)          1259.0     1259.0   \n",
              "1        Intel UHD Graphics 620       1 TB HDD          1849.0     2099.0   \n",
              "2   NVIDIA GeForce MX150 (2 GB)     256 GB SSD          2999.0     3799.0   \n",
              "3         Intel HD Graphics 620       1 TB HDD          1849.0     1849.0   \n",
              "4   NVIDIA GeForce 930MX (2 GB)       1 TB HDD          2499.0     3149.0   \n",
              "\n",
              "  ratings_5max  \n",
              "0        0 / 5  \n",
              "1      3.3 / 5  \n",
              "2        0 / 5  \n",
              "3        0 / 5  \n",
              "4        0 / 5  "
            ],
            "text/html": [
              "\n",
              "  <div id=\"df-f594f61b-f4c5-4576-9d3e-a7741b3ec627\">\n",
              "    <div class=\"colab-df-container\">\n",
              "      <div>\n",
              "<style scoped>\n",
              "    .dataframe tbody tr th:only-of-type {\n",
              "        vertical-align: middle;\n",
              "    }\n",
              "\n",
              "    .dataframe tbody tr th {\n",
              "        vertical-align: top;\n",
              "    }\n",
              "\n",
              "    .dataframe thead th {\n",
              "        text-align: right;\n",
              "    }\n",
              "</style>\n",
              "<table border=\"1\" class=\"dataframe\">\n",
              "  <thead>\n",
              "    <tr style=\"text-align: right;\">\n",
              "      <th></th>\n",
              "      <th>brand</th>\n",
              "      <th>laptop_name</th>\n",
              "      <th>display_size</th>\n",
              "      <th>processor_type</th>\n",
              "      <th>graphics_card</th>\n",
              "      <th>disk_space</th>\n",
              "      <th>discount_price</th>\n",
              "      <th>old_price</th>\n",
              "      <th>ratings_5max</th>\n",
              "    </tr>\n",
              "  </thead>\n",
              "  <tbody>\n",
              "    <tr>\n",
              "      <th>0</th>\n",
              "      <td>HP</td>\n",
              "      <td>Notebook 14-df0008nx</td>\n",
              "      <td>14.0</td>\n",
              "      <td>Intel Celeron N4000</td>\n",
              "      <td>Intel HD Graphics 600</td>\n",
              "      <td>64 GB (eMMC)</td>\n",
              "      <td>1259.0</td>\n",
              "      <td>1259.0</td>\n",
              "      <td>0 / 5</td>\n",
              "    </tr>\n",
              "    <tr>\n",
              "      <th>1</th>\n",
              "      <td>Lenovo</td>\n",
              "      <td>IdeaPad 330S-14IKB</td>\n",
              "      <td>14.0</td>\n",
              "      <td>Intel Core i5-8250U</td>\n",
              "      <td>Intel UHD Graphics 620</td>\n",
              "      <td>1 TB HDD</td>\n",
              "      <td>1849.0</td>\n",
              "      <td>2099.0</td>\n",
              "      <td>3.3 / 5</td>\n",
              "    </tr>\n",
              "    <tr>\n",
              "      <th>2</th>\n",
              "      <td>Huawei</td>\n",
              "      <td>MateBook D Volta</td>\n",
              "      <td>14.0</td>\n",
              "      <td>Intel Core i5-8250U</td>\n",
              "      <td>NVIDIA GeForce MX150 (2 GB)</td>\n",
              "      <td>256 GB SSD</td>\n",
              "      <td>2999.0</td>\n",
              "      <td>3799.0</td>\n",
              "      <td>0 / 5</td>\n",
              "    </tr>\n",
              "    <tr>\n",
              "      <th>3</th>\n",
              "      <td>Dell</td>\n",
              "      <td>Inspiron 15 3567</td>\n",
              "      <td>15.6</td>\n",
              "      <td>Intel Core i3-7020U</td>\n",
              "      <td>Intel HD Graphics 620</td>\n",
              "      <td>1 TB HDD</td>\n",
              "      <td>1849.0</td>\n",
              "      <td>1849.0</td>\n",
              "      <td>0 / 5</td>\n",
              "    </tr>\n",
              "    <tr>\n",
              "      <th>4</th>\n",
              "      <td>Asus</td>\n",
              "      <td>VivoBook 15 X510UR</td>\n",
              "      <td>15.6</td>\n",
              "      <td>Intel Core i7-8550U</td>\n",
              "      <td>NVIDIA GeForce 930MX (2 GB)</td>\n",
              "      <td>1 TB HDD</td>\n",
              "      <td>2499.0</td>\n",
              "      <td>3149.0</td>\n",
              "      <td>0 / 5</td>\n",
              "    </tr>\n",
              "  </tbody>\n",
              "</table>\n",
              "</div>\n",
              "      <button class=\"colab-df-convert\" onclick=\"convertToInteractive('df-f594f61b-f4c5-4576-9d3e-a7741b3ec627')\"\n",
              "              title=\"Convert this dataframe to an interactive table.\"\n",
              "              style=\"display:none;\">\n",
              "        \n",
              "  <svg xmlns=\"http://www.w3.org/2000/svg\" height=\"24px\"viewBox=\"0 0 24 24\"\n",
              "       width=\"24px\">\n",
              "    <path d=\"M0 0h24v24H0V0z\" fill=\"none\"/>\n",
              "    <path d=\"M18.56 5.44l.94 2.06.94-2.06 2.06-.94-2.06-.94-.94-2.06-.94 2.06-2.06.94zm-11 1L8.5 8.5l.94-2.06 2.06-.94-2.06-.94L8.5 2.5l-.94 2.06-2.06.94zm10 10l.94 2.06.94-2.06 2.06-.94-2.06-.94-.94-2.06-.94 2.06-2.06.94z\"/><path d=\"M17.41 7.96l-1.37-1.37c-.4-.4-.92-.59-1.43-.59-.52 0-1.04.2-1.43.59L10.3 9.45l-7.72 7.72c-.78.78-.78 2.05 0 2.83L4 21.41c.39.39.9.59 1.41.59.51 0 1.02-.2 1.41-.59l7.78-7.78 2.81-2.81c.8-.78.8-2.07 0-2.86zM5.41 20L4 18.59l7.72-7.72 1.47 1.35L5.41 20z\"/>\n",
              "  </svg>\n",
              "      </button>\n",
              "      \n",
              "  <style>\n",
              "    .colab-df-container {\n",
              "      display:flex;\n",
              "      flex-wrap:wrap;\n",
              "      gap: 12px;\n",
              "    }\n",
              "\n",
              "    .colab-df-convert {\n",
              "      background-color: #E8F0FE;\n",
              "      border: none;\n",
              "      border-radius: 50%;\n",
              "      cursor: pointer;\n",
              "      display: none;\n",
              "      fill: #1967D2;\n",
              "      height: 32px;\n",
              "      padding: 0 0 0 0;\n",
              "      width: 32px;\n",
              "    }\n",
              "\n",
              "    .colab-df-convert:hover {\n",
              "      background-color: #E2EBFA;\n",
              "      box-shadow: 0px 1px 2px rgba(60, 64, 67, 0.3), 0px 1px 3px 1px rgba(60, 64, 67, 0.15);\n",
              "      fill: #174EA6;\n",
              "    }\n",
              "\n",
              "    [theme=dark] .colab-df-convert {\n",
              "      background-color: #3B4455;\n",
              "      fill: #D2E3FC;\n",
              "    }\n",
              "\n",
              "    [theme=dark] .colab-df-convert:hover {\n",
              "      background-color: #434B5C;\n",
              "      box-shadow: 0px 1px 3px 1px rgba(0, 0, 0, 0.15);\n",
              "      filter: drop-shadow(0px 1px 2px rgba(0, 0, 0, 0.3));\n",
              "      fill: #FFFFFF;\n",
              "    }\n",
              "  </style>\n",
              "\n",
              "      <script>\n",
              "        const buttonEl =\n",
              "          document.querySelector('#df-f594f61b-f4c5-4576-9d3e-a7741b3ec627 button.colab-df-convert');\n",
              "        buttonEl.style.display =\n",
              "          google.colab.kernel.accessAllowed ? 'block' : 'none';\n",
              "\n",
              "        async function convertToInteractive(key) {\n",
              "          const element = document.querySelector('#df-f594f61b-f4c5-4576-9d3e-a7741b3ec627');\n",
              "          const dataTable =\n",
              "            await google.colab.kernel.invokeFunction('convertToInteractive',\n",
              "                                                     [key], {});\n",
              "          if (!dataTable) return;\n",
              "\n",
              "          const docLinkHtml = 'Like what you see? Visit the ' +\n",
              "            '<a target=\"_blank\" href=https://colab.research.google.com/notebooks/data_table.ipynb>data table notebook</a>'\n",
              "            + ' to learn more about interactive tables.';\n",
              "          element.innerHTML = '';\n",
              "          dataTable['output_type'] = 'display_data';\n",
              "          await google.colab.output.renderOutput(dataTable, element);\n",
              "          const docLink = document.createElement('div');\n",
              "          docLink.innerHTML = docLinkHtml;\n",
              "          element.appendChild(docLink);\n",
              "        }\n",
              "      </script>\n",
              "    </div>\n",
              "  </div>\n",
              "  "
            ]
          },
          "metadata": {},
          "execution_count": 7
        }
      ],
      "source": [
        "data.head()"
      ]
    },
    {
      "cell_type": "code",
      "execution_count": 8,
      "id": "c4a5d094-26fb-432e-9c5f-d61d7a49e70e",
      "metadata": {
        "colab": {
          "base_uri": "https://localhost:8080/"
        },
        "id": "c4a5d094-26fb-432e-9c5f-d61d7a49e70e",
        "outputId": "f9fa1916-7245-499e-d0e0-27cfc35724c3"
      },
      "outputs": [
        {
          "output_type": "stream",
          "name": "stdout",
          "text": [
            "<class 'pandas.core.frame.DataFrame'>\n",
            "RangeIndex: 205 entries, 0 to 204\n",
            "Data columns (total 9 columns):\n",
            " #   Column          Non-Null Count  Dtype  \n",
            "---  ------          --------------  -----  \n",
            " 0   brand           205 non-null    object \n",
            " 1   laptop_name     204 non-null    object \n",
            " 2   display_size    205 non-null    float64\n",
            " 3   processor_type  205 non-null    object \n",
            " 4   graphics_card   205 non-null    object \n",
            " 5   disk_space      205 non-null    object \n",
            " 6   discount_price  205 non-null    float64\n",
            " 7   old_price       205 non-null    float64\n",
            " 8   ratings_5max    205 non-null    object \n",
            "dtypes: float64(3), object(6)\n",
            "memory usage: 14.5+ KB\n"
          ]
        }
      ],
      "source": [
        "data.info()"
      ]
    },
    {
      "cell_type": "code",
      "execution_count": 9,
      "id": "3de82f5b-922d-4225-bdac-201e5300c701",
      "metadata": {
        "colab": {
          "base_uri": "https://localhost:8080/"
        },
        "id": "3de82f5b-922d-4225-bdac-201e5300c701",
        "outputId": "d74802c5-a30f-4c41-859d-70330872176f"
      },
      "outputs": [
        {
          "output_type": "execute_result",
          "data": {
            "text/plain": [
              "brand               9\n",
              "laptop_name       134\n",
              "display_size       11\n",
              "processor_type     26\n",
              "graphics_card      52\n",
              "disk_space         30\n",
              "discount_price    124\n",
              "old_price         104\n",
              "ratings_5max       16\n",
              "dtype: int64"
            ]
          },
          "metadata": {},
          "execution_count": 9
        }
      ],
      "source": [
        "data.nunique()"
      ]
    },
    {
      "cell_type": "markdown",
      "id": "8a425718",
      "metadata": {
        "id": "8a425718"
      },
      "source": [
        "## Final Exam Questions\n",
        "Several hints are given as comments; however, you are not required to use them if you have a different method to achieve the same result."
      ]
    },
    {
      "cell_type": "markdown",
      "id": "12884962",
      "metadata": {
        "id": "12884962"
      },
      "source": [
        "### 1. How many different laptop brands are there?"
      ]
    },
    {
      "cell_type": "code",
      "execution_count": 10,
      "id": "d8e43d00",
      "metadata": {
        "colab": {
          "base_uri": "https://localhost:8080/"
        },
        "id": "d8e43d00",
        "outputId": "b2e4b217-17ef-4b1c-9733-2306703118ba"
      },
      "outputs": [
        {
          "output_type": "execute_result",
          "data": {
            "text/plain": [
              "9"
            ]
          },
          "metadata": {},
          "execution_count": 10
        }
      ],
      "source": [
        "brands = data.nunique()\n",
        "brandCount=brands.count()\n",
        "brandCount"
      ]
    },
    {
      "cell_type": "markdown",
      "id": "fe69de3e",
      "metadata": {
        "id": "fe69de3e"
      },
      "source": [
        "### 2. What are the names and prices of the most and least expensive laptops?"
      ]
    },
    {
      "cell_type": "code",
      "execution_count": 11,
      "id": "aac12de4",
      "metadata": {
        "id": "aac12de4"
      },
      "outputs": [],
      "source": [
        "# Sort by old_price. Then, select the first and last rows to get the least and most expensive rows.\n",
        "\n",
        "old_sort = data.sort_values(by=['old_price'])"
      ]
    },
    {
      "cell_type": "code",
      "source": [
        "old_sort.head(1)"
      ],
      "metadata": {
        "colab": {
          "base_uri": "https://localhost:8080/",
          "height": 81
        },
        "id": "QLqsJ9SctOWH",
        "outputId": "3950b939-216f-4fd2-f030-0d8aa44f404d"
      },
      "id": "QLqsJ9SctOWH",
      "execution_count": 12,
      "outputs": [
        {
          "output_type": "execute_result",
          "data": {
            "text/plain": [
              "    brand            laptop_name  display_size        processor_type  \\\n",
              "108  Acer  Aspire 1 A114-31-C6WP          14.0   Intel Celeron N3350   \n",
              "\n",
              "              graphics_card     disk_space  discount_price  old_price  \\\n",
              "108   Intel HD Graphics 505   64 GB (eMMC)           999.0      999.0   \n",
              "\n",
              "    ratings_5max  \n",
              "108        0 / 5  "
            ],
            "text/html": [
              "\n",
              "  <div id=\"df-f6e247cc-409c-4bec-b68a-61853a3c57e8\">\n",
              "    <div class=\"colab-df-container\">\n",
              "      <div>\n",
              "<style scoped>\n",
              "    .dataframe tbody tr th:only-of-type {\n",
              "        vertical-align: middle;\n",
              "    }\n",
              "\n",
              "    .dataframe tbody tr th {\n",
              "        vertical-align: top;\n",
              "    }\n",
              "\n",
              "    .dataframe thead th {\n",
              "        text-align: right;\n",
              "    }\n",
              "</style>\n",
              "<table border=\"1\" class=\"dataframe\">\n",
              "  <thead>\n",
              "    <tr style=\"text-align: right;\">\n",
              "      <th></th>\n",
              "      <th>brand</th>\n",
              "      <th>laptop_name</th>\n",
              "      <th>display_size</th>\n",
              "      <th>processor_type</th>\n",
              "      <th>graphics_card</th>\n",
              "      <th>disk_space</th>\n",
              "      <th>discount_price</th>\n",
              "      <th>old_price</th>\n",
              "      <th>ratings_5max</th>\n",
              "    </tr>\n",
              "  </thead>\n",
              "  <tbody>\n",
              "    <tr>\n",
              "      <th>108</th>\n",
              "      <td>Acer</td>\n",
              "      <td>Aspire 1 A114-31-C6WP</td>\n",
              "      <td>14.0</td>\n",
              "      <td>Intel Celeron N3350</td>\n",
              "      <td>Intel HD Graphics 505</td>\n",
              "      <td>64 GB (eMMC)</td>\n",
              "      <td>999.0</td>\n",
              "      <td>999.0</td>\n",
              "      <td>0 / 5</td>\n",
              "    </tr>\n",
              "  </tbody>\n",
              "</table>\n",
              "</div>\n",
              "      <button class=\"colab-df-convert\" onclick=\"convertToInteractive('df-f6e247cc-409c-4bec-b68a-61853a3c57e8')\"\n",
              "              title=\"Convert this dataframe to an interactive table.\"\n",
              "              style=\"display:none;\">\n",
              "        \n",
              "  <svg xmlns=\"http://www.w3.org/2000/svg\" height=\"24px\"viewBox=\"0 0 24 24\"\n",
              "       width=\"24px\">\n",
              "    <path d=\"M0 0h24v24H0V0z\" fill=\"none\"/>\n",
              "    <path d=\"M18.56 5.44l.94 2.06.94-2.06 2.06-.94-2.06-.94-.94-2.06-.94 2.06-2.06.94zm-11 1L8.5 8.5l.94-2.06 2.06-.94-2.06-.94L8.5 2.5l-.94 2.06-2.06.94zm10 10l.94 2.06.94-2.06 2.06-.94-2.06-.94-.94-2.06-.94 2.06-2.06.94z\"/><path d=\"M17.41 7.96l-1.37-1.37c-.4-.4-.92-.59-1.43-.59-.52 0-1.04.2-1.43.59L10.3 9.45l-7.72 7.72c-.78.78-.78 2.05 0 2.83L4 21.41c.39.39.9.59 1.41.59.51 0 1.02-.2 1.41-.59l7.78-7.78 2.81-2.81c.8-.78.8-2.07 0-2.86zM5.41 20L4 18.59l7.72-7.72 1.47 1.35L5.41 20z\"/>\n",
              "  </svg>\n",
              "      </button>\n",
              "      \n",
              "  <style>\n",
              "    .colab-df-container {\n",
              "      display:flex;\n",
              "      flex-wrap:wrap;\n",
              "      gap: 12px;\n",
              "    }\n",
              "\n",
              "    .colab-df-convert {\n",
              "      background-color: #E8F0FE;\n",
              "      border: none;\n",
              "      border-radius: 50%;\n",
              "      cursor: pointer;\n",
              "      display: none;\n",
              "      fill: #1967D2;\n",
              "      height: 32px;\n",
              "      padding: 0 0 0 0;\n",
              "      width: 32px;\n",
              "    }\n",
              "\n",
              "    .colab-df-convert:hover {\n",
              "      background-color: #E2EBFA;\n",
              "      box-shadow: 0px 1px 2px rgba(60, 64, 67, 0.3), 0px 1px 3px 1px rgba(60, 64, 67, 0.15);\n",
              "      fill: #174EA6;\n",
              "    }\n",
              "\n",
              "    [theme=dark] .colab-df-convert {\n",
              "      background-color: #3B4455;\n",
              "      fill: #D2E3FC;\n",
              "    }\n",
              "\n",
              "    [theme=dark] .colab-df-convert:hover {\n",
              "      background-color: #434B5C;\n",
              "      box-shadow: 0px 1px 3px 1px rgba(0, 0, 0, 0.15);\n",
              "      filter: drop-shadow(0px 1px 2px rgba(0, 0, 0, 0.3));\n",
              "      fill: #FFFFFF;\n",
              "    }\n",
              "  </style>\n",
              "\n",
              "      <script>\n",
              "        const buttonEl =\n",
              "          document.querySelector('#df-f6e247cc-409c-4bec-b68a-61853a3c57e8 button.colab-df-convert');\n",
              "        buttonEl.style.display =\n",
              "          google.colab.kernel.accessAllowed ? 'block' : 'none';\n",
              "\n",
              "        async function convertToInteractive(key) {\n",
              "          const element = document.querySelector('#df-f6e247cc-409c-4bec-b68a-61853a3c57e8');\n",
              "          const dataTable =\n",
              "            await google.colab.kernel.invokeFunction('convertToInteractive',\n",
              "                                                     [key], {});\n",
              "          if (!dataTable) return;\n",
              "\n",
              "          const docLinkHtml = 'Like what you see? Visit the ' +\n",
              "            '<a target=\"_blank\" href=https://colab.research.google.com/notebooks/data_table.ipynb>data table notebook</a>'\n",
              "            + ' to learn more about interactive tables.';\n",
              "          element.innerHTML = '';\n",
              "          dataTable['output_type'] = 'display_data';\n",
              "          await google.colab.output.renderOutput(dataTable, element);\n",
              "          const docLink = document.createElement('div');\n",
              "          docLink.innerHTML = docLinkHtml;\n",
              "          element.appendChild(docLink);\n",
              "        }\n",
              "      </script>\n",
              "    </div>\n",
              "  </div>\n",
              "  "
            ]
          },
          "metadata": {},
          "execution_count": 12
        }
      ]
    },
    {
      "cell_type": "code",
      "source": [
        "old_sort.tail(1)"
      ],
      "metadata": {
        "colab": {
          "base_uri": "https://localhost:8080/",
          "height": 81
        },
        "id": "KBrQGqEUtPQa",
        "outputId": "9b869e18-fd89-48fc-e231-785ab9212a9d"
      },
      "id": "KBrQGqEUtPQa",
      "execution_count": 13,
      "outputs": [
        {
          "output_type": "execute_result",
          "data": {
            "text/plain": [
              "     brand                       laptop_name  display_size  processor_type  \\\n",
              "132  Apple  MacBook Pro (Retina + Touch Bar)          15.4   Intel Core i9   \n",
              "\n",
              "                     graphics_card   disk_space  discount_price  old_price  \\\n",
              "132   Radeon Pro 560X GDDR5 (4 GB)   512 GB SSD         12499.0    12499.0   \n",
              "\n",
              "    ratings_5max  \n",
              "132        0 / 5  "
            ],
            "text/html": [
              "\n",
              "  <div id=\"df-176c2e8c-e34c-4ee0-969a-f1674848143d\">\n",
              "    <div class=\"colab-df-container\">\n",
              "      <div>\n",
              "<style scoped>\n",
              "    .dataframe tbody tr th:only-of-type {\n",
              "        vertical-align: middle;\n",
              "    }\n",
              "\n",
              "    .dataframe tbody tr th {\n",
              "        vertical-align: top;\n",
              "    }\n",
              "\n",
              "    .dataframe thead th {\n",
              "        text-align: right;\n",
              "    }\n",
              "</style>\n",
              "<table border=\"1\" class=\"dataframe\">\n",
              "  <thead>\n",
              "    <tr style=\"text-align: right;\">\n",
              "      <th></th>\n",
              "      <th>brand</th>\n",
              "      <th>laptop_name</th>\n",
              "      <th>display_size</th>\n",
              "      <th>processor_type</th>\n",
              "      <th>graphics_card</th>\n",
              "      <th>disk_space</th>\n",
              "      <th>discount_price</th>\n",
              "      <th>old_price</th>\n",
              "      <th>ratings_5max</th>\n",
              "    </tr>\n",
              "  </thead>\n",
              "  <tbody>\n",
              "    <tr>\n",
              "      <th>132</th>\n",
              "      <td>Apple</td>\n",
              "      <td>MacBook Pro (Retina + Touch Bar)</td>\n",
              "      <td>15.4</td>\n",
              "      <td>Intel Core i9</td>\n",
              "      <td>Radeon Pro 560X GDDR5 (4 GB)</td>\n",
              "      <td>512 GB SSD</td>\n",
              "      <td>12499.0</td>\n",
              "      <td>12499.0</td>\n",
              "      <td>0 / 5</td>\n",
              "    </tr>\n",
              "  </tbody>\n",
              "</table>\n",
              "</div>\n",
              "      <button class=\"colab-df-convert\" onclick=\"convertToInteractive('df-176c2e8c-e34c-4ee0-969a-f1674848143d')\"\n",
              "              title=\"Convert this dataframe to an interactive table.\"\n",
              "              style=\"display:none;\">\n",
              "        \n",
              "  <svg xmlns=\"http://www.w3.org/2000/svg\" height=\"24px\"viewBox=\"0 0 24 24\"\n",
              "       width=\"24px\">\n",
              "    <path d=\"M0 0h24v24H0V0z\" fill=\"none\"/>\n",
              "    <path d=\"M18.56 5.44l.94 2.06.94-2.06 2.06-.94-2.06-.94-.94-2.06-.94 2.06-2.06.94zm-11 1L8.5 8.5l.94-2.06 2.06-.94-2.06-.94L8.5 2.5l-.94 2.06-2.06.94zm10 10l.94 2.06.94-2.06 2.06-.94-2.06-.94-.94-2.06-.94 2.06-2.06.94z\"/><path d=\"M17.41 7.96l-1.37-1.37c-.4-.4-.92-.59-1.43-.59-.52 0-1.04.2-1.43.59L10.3 9.45l-7.72 7.72c-.78.78-.78 2.05 0 2.83L4 21.41c.39.39.9.59 1.41.59.51 0 1.02-.2 1.41-.59l7.78-7.78 2.81-2.81c.8-.78.8-2.07 0-2.86zM5.41 20L4 18.59l7.72-7.72 1.47 1.35L5.41 20z\"/>\n",
              "  </svg>\n",
              "      </button>\n",
              "      \n",
              "  <style>\n",
              "    .colab-df-container {\n",
              "      display:flex;\n",
              "      flex-wrap:wrap;\n",
              "      gap: 12px;\n",
              "    }\n",
              "\n",
              "    .colab-df-convert {\n",
              "      background-color: #E8F0FE;\n",
              "      border: none;\n",
              "      border-radius: 50%;\n",
              "      cursor: pointer;\n",
              "      display: none;\n",
              "      fill: #1967D2;\n",
              "      height: 32px;\n",
              "      padding: 0 0 0 0;\n",
              "      width: 32px;\n",
              "    }\n",
              "\n",
              "    .colab-df-convert:hover {\n",
              "      background-color: #E2EBFA;\n",
              "      box-shadow: 0px 1px 2px rgba(60, 64, 67, 0.3), 0px 1px 3px 1px rgba(60, 64, 67, 0.15);\n",
              "      fill: #174EA6;\n",
              "    }\n",
              "\n",
              "    [theme=dark] .colab-df-convert {\n",
              "      background-color: #3B4455;\n",
              "      fill: #D2E3FC;\n",
              "    }\n",
              "\n",
              "    [theme=dark] .colab-df-convert:hover {\n",
              "      background-color: #434B5C;\n",
              "      box-shadow: 0px 1px 3px 1px rgba(0, 0, 0, 0.15);\n",
              "      filter: drop-shadow(0px 1px 2px rgba(0, 0, 0, 0.3));\n",
              "      fill: #FFFFFF;\n",
              "    }\n",
              "  </style>\n",
              "\n",
              "      <script>\n",
              "        const buttonEl =\n",
              "          document.querySelector('#df-176c2e8c-e34c-4ee0-969a-f1674848143d button.colab-df-convert');\n",
              "        buttonEl.style.display =\n",
              "          google.colab.kernel.accessAllowed ? 'block' : 'none';\n",
              "\n",
              "        async function convertToInteractive(key) {\n",
              "          const element = document.querySelector('#df-176c2e8c-e34c-4ee0-969a-f1674848143d');\n",
              "          const dataTable =\n",
              "            await google.colab.kernel.invokeFunction('convertToInteractive',\n",
              "                                                     [key], {});\n",
              "          if (!dataTable) return;\n",
              "\n",
              "          const docLinkHtml = 'Like what you see? Visit the ' +\n",
              "            '<a target=\"_blank\" href=https://colab.research.google.com/notebooks/data_table.ipynb>data table notebook</a>'\n",
              "            + ' to learn more about interactive tables.';\n",
              "          element.innerHTML = '';\n",
              "          dataTable['output_type'] = 'display_data';\n",
              "          await google.colab.output.renderOutput(dataTable, element);\n",
              "          const docLink = document.createElement('div');\n",
              "          docLink.innerHTML = docLinkHtml;\n",
              "          element.appendChild(docLink);\n",
              "        }\n",
              "      </script>\n",
              "    </div>\n",
              "  </div>\n",
              "  "
            ]
          },
          "metadata": {},
          "execution_count": 13
        }
      ]
    },
    {
      "cell_type": "markdown",
      "id": "717a27c2",
      "metadata": {
        "id": "717a27c2"
      },
      "source": [
        "### 3. How are the laptop prices distributed?"
      ]
    },
    {
      "cell_type": "code",
      "source": [
        "sns.histplot(data,x= 'old_price')"
      ],
      "metadata": {
        "colab": {
          "base_uri": "https://localhost:8080/",
          "height": 298
        },
        "id": "51XVY-yh2gZW",
        "outputId": "528dde64-2984-48ec-db77-f038a90d17c2"
      },
      "id": "51XVY-yh2gZW",
      "execution_count": 14,
      "outputs": [
        {
          "output_type": "execute_result",
          "data": {
            "text/plain": [
              "<matplotlib.axes._subplots.AxesSubplot at 0x7fe2d54abcd0>"
            ]
          },
          "metadata": {},
          "execution_count": 14
        },
        {
          "output_type": "display_data",
          "data": {
            "text/plain": [
              "<Figure size 432x288 with 1 Axes>"
            ],
            "image/png": "[encoded data removed]"
          },
          "metadata": {
            "needs_background": "light"
          }
        }
      ]
    },
    {
      "cell_type": "code",
      "execution_count": 15,
      "id": "1b506e3d-628c-4b96-8e81-1f41c42071d4",
      "metadata": {
        "colab": {
          "base_uri": "https://localhost:8080/",
          "height": 298
        },
        "id": "1b506e3d-628c-4b96-8e81-1f41c42071d4",
        "outputId": "5890811a-7c53-4954-a790-cbb67a3ee107"
      },
      "outputs": [
        {
          "output_type": "execute_result",
          "data": {
            "text/plain": [
              "<matplotlib.axes._subplots.AxesSubplot at 0x7fe2d5365b10>"
            ]
          },
          "metadata": {},
          "execution_count": 15
        },
        {
          "output_type": "display_data",
          "data": {
            "text/plain": [
              "<Figure size 432x288 with 1 Axes>"
            ],
            "image/png": "[encoded data removed]"
          },
          "metadata": {
            "needs_background": "light"
          }
        }
      ],
      "source": [
        "sns.histplot(data,x= 'discount_price')"
      ]
    },
    {
      "cell_type": "markdown",
      "id": "1844301a",
      "metadata": {
        "id": "1844301a"
      },
      "source": [
        "### 4. What are the min, max, and mean display sizes?"
      ]
    },
    {
      "cell_type": "code",
      "execution_count": 16,
      "id": "69821d93",
      "metadata": {
        "colab": {
          "base_uri": "https://localhost:8080/"
        },
        "id": "69821d93",
        "outputId": "0f444ae9-4698-4756-aba9-8aee250f9fa6"
      },
      "outputs": [
        {
          "output_type": "execute_result",
          "data": {
            "text/plain": [
              "display_size    12.0\n",
              "dtype: float64"
            ]
          },
          "metadata": {},
          "execution_count": 16
        }
      ],
      "source": [
        "data[['display_size']].min()"
      ]
    },
    {
      "cell_type": "code",
      "source": [
        "data[['display_size']].max()"
      ],
      "metadata": {
        "colab": {
          "base_uri": "https://localhost:8080/"
        },
        "id": "znybbLq2wJbB",
        "outputId": "99130659-7bc0-4dde-9a52-5d67dd4f8f44"
      },
      "id": "znybbLq2wJbB",
      "execution_count": 17,
      "outputs": [
        {
          "output_type": "execute_result",
          "data": {
            "text/plain": [
              "display_size    18.4\n",
              "dtype: float64"
            ]
          },
          "metadata": {},
          "execution_count": 17
        }
      ]
    },
    {
      "cell_type": "code",
      "source": [
        "data[['display_size']].mean()"
      ],
      "metadata": {
        "colab": {
          "base_uri": "https://localhost:8080/"
        },
        "id": "K4KBwIxEwJDf",
        "outputId": "4f1ebcfe-d5bd-49d4-b66c-38a1ee26db3e"
      },
      "id": "K4KBwIxEwJDf",
      "execution_count": 18,
      "outputs": [
        {
          "output_type": "execute_result",
          "data": {
            "text/plain": [
              "display_size    14.579805\n",
              "dtype: float64"
            ]
          },
          "metadata": {},
          "execution_count": 18
        }
      ]
    },
    {
      "cell_type": "markdown",
      "id": "0af91fdb-7c10-4653-afdd-782e3f063007",
      "metadata": {
        "id": "0af91fdb-7c10-4653-afdd-782e3f063007"
      },
      "source": [
        "### 5. What is the average price for each laptop brand?"
      ]
    },
    {
      "cell_type": "code",
      "source": [
        "data.groupby('brand').mean()"
      ],
      "metadata": {
        "colab": {
          "base_uri": "https://localhost:8080/",
          "height": 363
        },
        "id": "xztKQ-lyu0Je",
        "outputId": "90a8dc49-4016-426d-97be-7f51b63e1e82"
      },
      "id": "xztKQ-lyu0Je",
      "execution_count": 19,
      "outputs": [
        {
          "output_type": "execute_result",
          "data": {
            "text/plain": [
              "           display_size  discount_price    old_price\n",
              "brand                                               \n",
              "Acer          15.070833     2515.583333  2773.083333\n",
              "Apple         13.728947     6802.025000  7082.288158\n",
              "Asus          15.018182     2972.636364  3393.090909\n",
              "Dell          14.844118     3782.911765  3872.029412\n",
              "HP            14.579167     3226.916667  3382.541667\n",
              "Huawei        14.396667     3615.666667  4040.666667\n",
              "Lenovo        14.734783     1998.130435  2216.391304\n",
              "MSI           18.400000     9071.000000  9071.000000\n",
              "Microsoft     13.500000     5132.333333  5132.333333"
            ],
            "text/html": [
              "\n",
              "  <div id=\"df-846da517-bedb-4815-8448-a7f5c8c328e7\">\n",
              "    <div class=\"colab-df-container\">\n",
              "      <div>\n",
              "<style scoped>\n",
              "    .dataframe tbody tr th:only-of-type {\n",
              "        vertical-align: middle;\n",
              "    }\n",
              "\n",
              "    .dataframe tbody tr th {\n",
              "        vertical-align: top;\n",
              "    }\n",
              "\n",
              "    .dataframe thead th {\n",
              "        text-align: right;\n",
              "    }\n",
              "</style>\n",
              "<table border=\"1\" class=\"dataframe\">\n",
              "  <thead>\n",
              "    <tr style=\"text-align: right;\">\n",
              "      <th></th>\n",
              "      <th>display_size</th>\n",
              "      <th>discount_price</th>\n",
              "      <th>old_price</th>\n",
              "    </tr>\n",
              "    <tr>\n",
              "      <th>brand</th>\n",
              "      <th></th>\n",
              "      <th></th>\n",
              "      <th></th>\n",
              "    </tr>\n",
              "  </thead>\n",
              "  <tbody>\n",
              "    <tr>\n",
              "      <th>Acer</th>\n",
              "      <td>15.070833</td>\n",
              "      <td>2515.583333</td>\n",
              "      <td>2773.083333</td>\n",
              "    </tr>\n",
              "    <tr>\n",
              "      <th>Apple</th>\n",
              "      <td>13.728947</td>\n",
              "      <td>6802.025000</td>\n",
              "      <td>7082.288158</td>\n",
              "    </tr>\n",
              "    <tr>\n",
              "      <th>Asus</th>\n",
              "      <td>15.018182</td>\n",
              "      <td>2972.636364</td>\n",
              "      <td>3393.090909</td>\n",
              "    </tr>\n",
              "    <tr>\n",
              "      <th>Dell</th>\n",
              "      <td>14.844118</td>\n",
              "      <td>3782.911765</td>\n",
              "      <td>3872.029412</td>\n",
              "    </tr>\n",
              "    <tr>\n",
              "      <th>HP</th>\n",
              "      <td>14.579167</td>\n",
              "      <td>3226.916667</td>\n",
              "      <td>3382.541667</td>\n",
              "    </tr>\n",
              "    <tr>\n",
              "      <th>Huawei</th>\n",
              "      <td>14.396667</td>\n",
              "      <td>3615.666667</td>\n",
              "      <td>4040.666667</td>\n",
              "    </tr>\n",
              "    <tr>\n",
              "      <th>Lenovo</th>\n",
              "      <td>14.734783</td>\n",
              "      <td>1998.130435</td>\n",
              "      <td>2216.391304</td>\n",
              "    </tr>\n",
              "    <tr>\n",
              "      <th>MSI</th>\n",
              "      <td>18.400000</td>\n",
              "      <td>9071.000000</td>\n",
              "      <td>9071.000000</td>\n",
              "    </tr>\n",
              "    <tr>\n",
              "      <th>Microsoft</th>\n",
              "      <td>13.500000</td>\n",
              "      <td>5132.333333</td>\n",
              "      <td>5132.333333</td>\n",
              "    </tr>\n",
              "  </tbody>\n",
              "</table>\n",
              "</div>\n",
              "      <button class=\"colab-df-convert\" onclick=\"convertToInteractive('df-846da517-bedb-4815-8448-a7f5c8c328e7')\"\n",
              "              title=\"Convert this dataframe to an interactive table.\"\n",
              "              style=\"display:none;\">\n",
              "        \n",
              "  <svg xmlns=\"http://www.w3.org/2000/svg\" height=\"24px\"viewBox=\"0 0 24 24\"\n",
              "       width=\"24px\">\n",
              "    <path d=\"M0 0h24v24H0V0z\" fill=\"none\"/>\n",
              "    <path d=\"M18.56 5.44l.94 2.06.94-2.06 2.06-.94-2.06-.94-.94-2.06-.94 2.06-2.06.94zm-11 1L8.5 8.5l.94-2.06 2.06-.94-2.06-.94L8.5 2.5l-.94 2.06-2.06.94zm10 10l.94 2.06.94-2.06 2.06-.94-2.06-.94-.94-2.06-.94 2.06-2.06.94z\"/><path d=\"M17.41 7.96l-1.37-1.37c-.4-.4-.92-.59-1.43-.59-.52 0-1.04.2-1.43.59L10.3 9.45l-7.72 7.72c-.78.78-.78 2.05 0 2.83L4 21.41c.39.39.9.59 1.41.59.51 0 1.02-.2 1.41-.59l7.78-7.78 2.81-2.81c.8-.78.8-2.07 0-2.86zM5.41 20L4 18.59l7.72-7.72 1.47 1.35L5.41 20z\"/>\n",
              "  </svg>\n",
              "      </button>\n",
              "      \n",
              "  <style>\n",
              "    .colab-df-container {\n",
              "      display:flex;\n",
              "      flex-wrap:wrap;\n",
              "      gap: 12px;\n",
              "    }\n",
              "\n",
              "    .colab-df-convert {\n",
              "      background-color: #E8F0FE;\n",
              "      border: none;\n",
              "      border-radius: 50%;\n",
              "      cursor: pointer;\n",
              "      display: none;\n",
              "      fill: #1967D2;\n",
              "      height: 32px;\n",
              "      padding: 0 0 0 0;\n",
              "      width: 32px;\n",
              "    }\n",
              "\n",
              "    .colab-df-convert:hover {\n",
              "      background-color: #E2EBFA;\n",
              "      box-shadow: 0px 1px 2px rgba(60, 64, 67, 0.3), 0px 1px 3px 1px rgba(60, 64, 67, 0.15);\n",
              "      fill: #174EA6;\n",
              "    }\n",
              "\n",
              "    [theme=dark] .colab-df-convert {\n",
              "      background-color: #3B4455;\n",
              "      fill: #D2E3FC;\n",
              "    }\n",
              "\n",
              "    [theme=dark] .colab-df-convert:hover {\n",
              "      background-color: #434B5C;\n",
              "      box-shadow: 0px 1px 3px 1px rgba(0, 0, 0, 0.15);\n",
              "      filter: drop-shadow(0px 1px 2px rgba(0, 0, 0, 0.3));\n",
              "      fill: #FFFFFF;\n",
              "    }\n",
              "  </style>\n",
              "\n",
              "      <script>\n",
              "        const buttonEl =\n",
              "          document.querySelector('#df-846da517-bedb-4815-8448-a7f5c8c328e7 button.colab-df-convert');\n",
              "        buttonEl.style.display =\n",
              "          google.colab.kernel.accessAllowed ? 'block' : 'none';\n",
              "\n",
              "        async function convertToInteractive(key) {\n",
              "          const element = document.querySelector('#df-846da517-bedb-4815-8448-a7f5c8c328e7');\n",
              "          const dataTable =\n",
              "            await google.colab.kernel.invokeFunction('convertToInteractive',\n",
              "                                                     [key], {});\n",
              "          if (!dataTable) return;\n",
              "\n",
              "          const docLinkHtml = 'Like what you see? Visit the ' +\n",
              "            '<a target=\"_blank\" href=https://colab.research.google.com/notebooks/data_table.ipynb>data table notebook</a>'\n",
              "            + ' to learn more about interactive tables.';\n",
              "          element.innerHTML = '';\n",
              "          dataTable['output_type'] = 'display_data';\n",
              "          await google.colab.output.renderOutput(dataTable, element);\n",
              "          const docLink = document.createElement('div');\n",
              "          docLink.innerHTML = docLinkHtml;\n",
              "          element.appendChild(docLink);\n",
              "        }\n",
              "      </script>\n",
              "    </div>\n",
              "  </div>\n",
              "  "
            ]
          },
          "metadata": {},
          "execution_count": 19
        }
      ]
    },
    {
      "cell_type": "markdown",
      "id": "ca8f4daf",
      "metadata": {
        "id": "ca8f4daf"
      },
      "source": [
        "### 6. What is the average laptop price for each processor brand?"
      ]
    },
    {
      "cell_type": "code",
      "execution_count": 20,
      "id": "b8862c35",
      "metadata": {
        "colab": {
          "base_uri": "https://localhost:8080/"
        },
        "id": "b8862c35",
        "outputId": "21ad5de9-31f5-408e-f629-95322d653897"
      },
      "outputs": [
        {
          "output_type": "execute_result",
          "data": {
            "text/plain": [
              "processor_type    26\n",
              "dtype: int64"
            ]
          },
          "metadata": {},
          "execution_count": 20
        }
      ],
      "source": [
        "# Examine the unique values in the processor_type column\n",
        "data[['processor_type']].nunique()\n",
        "# Extract the processor brand name from the processor_type column\n",
        "\n",
        "# Group by brand and get brand with highest price"
      ]
    },
    {
      "cell_type": "markdown",
      "id": "8fc95656",
      "metadata": {
        "id": "8fc95656"
      },
      "source": [
        "### 7. What are the average ratings for each laptop brand?"
      ]
    },
    {
      "cell_type": "code",
      "execution_count": 21,
      "id": "6b253faa",
      "metadata": {
        "colab": {
          "base_uri": "https://localhost:8080/"
        },
        "id": "6b253faa",
        "outputId": "ea17d508-7ad2-4876-c897-a8f589ca4216"
      },
      "outputs": [
        {
          "output_type": "execute_result",
          "data": {
            "text/plain": [
              "0        0 / 5\n",
              "1      3.3 / 5\n",
              "2        0 / 5\n",
              "3        0 / 5\n",
              "4        0 / 5\n",
              "        ...   \n",
              "200    3.8 / 5\n",
              "201    4.0 / 5\n",
              "202      0 / 5\n",
              "203    4.4 / 5\n",
              "204      0 / 5\n",
              "Name: ratings_5max, Length: 205, dtype: object"
            ]
          },
          "metadata": {},
          "execution_count": 21
        }
      ],
      "source": [
        "from numpy import NaN\n",
        "# Examine the ratings_5max column\n",
        "data.ratings_5max\n"
      ]
    },
    {
      "cell_type": "code",
      "source": [
        "# Convert all ratings to a float value that's rounded to 1 decimal place.\n",
        "data[['ratings_Min', 'ratings_Max']] = data['ratings_5max'].str.split('/', expand=True).astype(float)  \n",
        "data['ratings_converted_back'] = data['ratings_Min']/data['ratings_Max']   \n",
        "data['ratings_converted_back']"
      ],
      "metadata": {
        "colab": {
          "base_uri": "https://localhost:8080/"
        },
        "id": "aHOO3aeuAnDW",
        "outputId": "e6388f8c-228d-4bd5-982e-b8fb5792e5d0"
      },
      "id": "aHOO3aeuAnDW",
      "execution_count": 22,
      "outputs": [
        {
          "output_type": "execute_result",
          "data": {
            "text/plain": [
              "0      0.00\n",
              "1      0.66\n",
              "2      0.00\n",
              "3      0.00\n",
              "4      0.00\n",
              "       ... \n",
              "200    0.76\n",
              "201    0.80\n",
              "202    0.00\n",
              "203    0.88\n",
              "204    0.00\n",
              "Name: ratings_converted_back, Length: 205, dtype: float64"
            ]
          },
          "metadata": {},
          "execution_count": 22
        }
      ]
    },
    {
      "cell_type": "code",
      "source": [
        "# Replace 0 values with NaN so they won't be included in aggregate functions\n",
        "ratings_converted_back_2 = data['ratings_converted_back'].replace(0, NaN)"
      ],
      "metadata": {
        "id": "SQItG4ONAm86"
      },
      "id": "SQItG4ONAm86",
      "execution_count": 23,
      "outputs": []
    },
    {
      "cell_type": "code",
      "source": [
        "# Drop the old column\n",
        "del data['ratings_converted_back']"
      ],
      "metadata": {
        "id": "UR9vhuUqAm0C"
      },
      "id": "UR9vhuUqAm0C",
      "execution_count": 24,
      "outputs": []
    },
    {
      "cell_type": "code",
      "source": [
        "# Examine the new ratings column\n",
        "print(ratings_converted_back_2)"
      ],
      "metadata": {
        "colab": {
          "base_uri": "https://localhost:8080/"
        },
        "id": "xFhFRHPZAuvZ",
        "outputId": "bae7221a-be99-4918-e325-ed375ab1dac7"
      },
      "id": "xFhFRHPZAuvZ",
      "execution_count": 25,
      "outputs": [
        {
          "output_type": "stream",
          "name": "stdout",
          "text": [
            "0       NaN\n",
            "1      0.66\n",
            "2       NaN\n",
            "3       NaN\n",
            "4       NaN\n",
            "       ... \n",
            "200    0.76\n",
            "201    0.80\n",
            "202     NaN\n",
            "203    0.88\n",
            "204     NaN\n",
            "Name: ratings_converted_back, Length: 205, dtype: float64\n"
          ]
        }
      ]
    },
    {
      "cell_type": "code",
      "source": [
        "# Calculate the average ratings for each laptop brand\n",
        "data.groupby('brand').mean()"
      ],
      "metadata": {
        "colab": {
          "base_uri": "https://localhost:8080/",
          "height": 363
        },
        "id": "dpmafR6yAult",
        "outputId": "e9c4dc7e-f07e-4b9c-859b-a33e5f44f392"
      },
      "id": "dpmafR6yAult",
      "execution_count": 26,
      "outputs": [
        {
          "output_type": "execute_result",
          "data": {
            "text/plain": [
              "           display_size  discount_price    old_price  ratings_Min  ratings_Max\n",
              "brand                                                                         \n",
              "Acer          15.070833     2515.583333  2773.083333     0.950000          5.0\n",
              "Apple         13.728947     6802.025000  7082.288158     2.281579          5.0\n",
              "Asus          15.018182     2972.636364  3393.090909     0.590909          5.0\n",
              "Dell          14.844118     3782.911765  3872.029412     1.170588          5.0\n",
              "HP            14.579167     3226.916667  3382.541667     1.056250          5.0\n",
              "Huawei        14.396667     3615.666667  4040.666667     2.425000          5.0\n",
              "Lenovo        14.734783     1998.130435  2216.391304     2.165217          5.0\n",
              "MSI           18.400000     9071.000000  9071.000000     0.000000          5.0\n",
              "Microsoft     13.500000     5132.333333  5132.333333     1.366667          5.0"
            ],
            "text/html": [
              "\n",
              "  <div id=\"df-f87dfabc-5a8a-4350-91ef-0bac71fdd827\">\n",
              "    <div class=\"colab-df-container\">\n",
              "      <div>\n",
              "<style scoped>\n",
              "    .dataframe tbody tr th:only-of-type {\n",
              "        vertical-align: middle;\n",
              "    }\n",
              "\n",
              "    .dataframe tbody tr th {\n",
              "        vertical-align: top;\n",
              "    }\n",
              "\n",
              "    .dataframe thead th {\n",
              "        text-align: right;\n",
              "    }\n",
              "</style>\n",
              "<table border=\"1\" class=\"dataframe\">\n",
              "  <thead>\n",
              "    <tr style=\"text-align: right;\">\n",
              "      <th></th>\n",
              "      <th>display_size</th>\n",
              "      <th>discount_price</th>\n",
              "      <th>old_price</th>\n",
              "      <th>ratings_Min</th>\n",
              "      <th>ratings_Max</th>\n",
              "    </tr>\n",
              "    <tr>\n",
              "      <th>brand</th>\n",
              "      <th></th>\n",
              "      <th></th>\n",
              "      <th></th>\n",
              "      <th></th>\n",
              "      <th></th>\n",
              "    </tr>\n",
              "  </thead>\n",
              "  <tbody>\n",
              "    <tr>\n",
              "      <th>Acer</th>\n",
              "      <td>15.070833</td>\n",
              "      <td>2515.583333</td>\n",
              "      <td>2773.083333</td>\n",
              "      <td>0.950000</td>\n",
              "      <td>5.0</td>\n",
              "    </tr>\n",
              "    <tr>\n",
              "      <th>Apple</th>\n",
              "      <td>13.728947</td>\n",
              "      <td>6802.025000</td>\n",
              "      <td>7082.288158</td>\n",
              "      <td>2.281579</td>\n",
              "      <td>5.0</td>\n",
              "    </tr>\n",
              "    <tr>\n",
              "      <th>Asus</th>\n",
              "      <td>15.018182</td>\n",
              "      <td>2972.636364</td>\n",
              "      <td>3393.090909</td>\n",
              "      <td>0.590909</td>\n",
              "      <td>5.0</td>\n",
              "    </tr>\n",
              "    <tr>\n",
              "      <th>Dell</th>\n",
              "      <td>14.844118</td>\n",
              "      <td>3782.911765</td>\n",
              "      <td>3872.029412</td>\n",
              "      <td>1.170588</td>\n",
              "      <td>5.0</td>\n",
              "    </tr>\n",
              "    <tr>\n",
              "      <th>HP</th>\n",
              "      <td>14.579167</td>\n",
              "      <td>3226.916667</td>\n",
              "      <td>3382.541667</td>\n",
              "      <td>1.056250</td>\n",
              "      <td>5.0</td>\n",
              "    </tr>\n",
              "    <tr>\n",
              "      <th>Huawei</th>\n",
              "      <td>14.396667</td>\n",
              "      <td>3615.666667</td>\n",
              "      <td>4040.666667</td>\n",
              "      <td>2.425000</td>\n",
              "      <td>5.0</td>\n",
              "    </tr>\n",
              "    <tr>\n",
              "      <th>Lenovo</th>\n",
              "      <td>14.734783</td>\n",
              "      <td>1998.130435</td>\n",
              "      <td>2216.391304</td>\n",
              "      <td>2.165217</td>\n",
              "      <td>5.0</td>\n",
              "    </tr>\n",
              "    <tr>\n",
              "      <th>MSI</th>\n",
              "      <td>18.400000</td>\n",
              "      <td>9071.000000</td>\n",
              "      <td>9071.000000</td>\n",
              "      <td>0.000000</td>\n",
              "      <td>5.0</td>\n",
              "    </tr>\n",
              "    <tr>\n",
              "      <th>Microsoft</th>\n",
              "      <td>13.500000</td>\n",
              "      <td>5132.333333</td>\n",
              "      <td>5132.333333</td>\n",
              "      <td>1.366667</td>\n",
              "      <td>5.0</td>\n",
              "    </tr>\n",
              "  </tbody>\n",
              "</table>\n",
              "</div>\n",
              "      <button class=\"colab-df-convert\" onclick=\"convertToInteractive('df-f87dfabc-5a8a-4350-91ef-0bac71fdd827')\"\n",
              "              title=\"Convert this dataframe to an interactive table.\"\n",
              "              style=\"display:none;\">\n",
              "        \n",
              "  <svg xmlns=\"http://www.w3.org/2000/svg\" height=\"24px\"viewBox=\"0 0 24 24\"\n",
              "       width=\"24px\">\n",
              "    <path d=\"M0 0h24v24H0V0z\" fill=\"none\"/>\n",
              "    <path d=\"M18.56 5.44l.94 2.06.94-2.06 2.06-.94-2.06-.94-.94-2.06-.94 2.06-2.06.94zm-11 1L8.5 8.5l.94-2.06 2.06-.94-2.06-.94L8.5 2.5l-.94 2.06-2.06.94zm10 10l.94 2.06.94-2.06 2.06-.94-2.06-.94-.94-2.06-.94 2.06-2.06.94z\"/><path d=\"M17.41 7.96l-1.37-1.37c-.4-.4-.92-.59-1.43-.59-.52 0-1.04.2-1.43.59L10.3 9.45l-7.72 7.72c-.78.78-.78 2.05 0 2.83L4 21.41c.39.39.9.59 1.41.59.51 0 1.02-.2 1.41-.59l7.78-7.78 2.81-2.81c.8-.78.8-2.07 0-2.86zM5.41 20L4 18.59l7.72-7.72 1.47 1.35L5.41 20z\"/>\n",
              "  </svg>\n",
              "      </button>\n",
              "      \n",
              "  <style>\n",
              "    .colab-df-container {\n",
              "      display:flex;\n",
              "      flex-wrap:wrap;\n",
              "      gap: 12px;\n",
              "    }\n",
              "\n",
              "    .colab-df-convert {\n",
              "      background-color: #E8F0FE;\n",
              "      border: none;\n",
              "      border-radius: 50%;\n",
              "      cursor: pointer;\n",
              "      display: none;\n",
              "      fill: #1967D2;\n",
              "      height: 32px;\n",
              "      padding: 0 0 0 0;\n",
              "      width: 32px;\n",
              "    }\n",
              "\n",
              "    .colab-df-convert:hover {\n",
              "      background-color: #E2EBFA;\n",
              "      box-shadow: 0px 1px 2px rgba(60, 64, 67, 0.3), 0px 1px 3px 1px rgba(60, 64, 67, 0.15);\n",
              "      fill: #174EA6;\n",
              "    }\n",
              "\n",
              "    [theme=dark] .colab-df-convert {\n",
              "      background-color: #3B4455;\n",
              "      fill: #D2E3FC;\n",
              "    }\n",
              "\n",
              "    [theme=dark] .colab-df-convert:hover {\n",
              "      background-color: #434B5C;\n",
              "      box-shadow: 0px 1px 3px 1px rgba(0, 0, 0, 0.15);\n",
              "      filter: drop-shadow(0px 1px 2px rgba(0, 0, 0, 0.3));\n",
              "      fill: #FFFFFF;\n",
              "    }\n",
              "  </style>\n",
              "\n",
              "      <script>\n",
              "        const buttonEl =\n",
              "          document.querySelector('#df-f87dfabc-5a8a-4350-91ef-0bac71fdd827 button.colab-df-convert');\n",
              "        buttonEl.style.display =\n",
              "          google.colab.kernel.accessAllowed ? 'block' : 'none';\n",
              "\n",
              "        async function convertToInteractive(key) {\n",
              "          const element = document.querySelector('#df-f87dfabc-5a8a-4350-91ef-0bac71fdd827');\n",
              "          const dataTable =\n",
              "            await google.colab.kernel.invokeFunction('convertToInteractive',\n",
              "                                                     [key], {});\n",
              "          if (!dataTable) return;\n",
              "\n",
              "          const docLinkHtml = 'Like what you see? Visit the ' +\n",
              "            '<a target=\"_blank\" href=https://colab.research.google.com/notebooks/data_table.ipynb>data table notebook</a>'\n",
              "            + ' to learn more about interactive tables.';\n",
              "          element.innerHTML = '';\n",
              "          dataTable['output_type'] = 'display_data';\n",
              "          await google.colab.output.renderOutput(dataTable, element);\n",
              "          const docLink = document.createElement('div');\n",
              "          docLink.innerHTML = docLinkHtml;\n",
              "          element.appendChild(docLink);\n",
              "        }\n",
              "      </script>\n",
              "    </div>\n",
              "  </div>\n",
              "  "
            ]
          },
          "metadata": {},
          "execution_count": 26
        }
      ]
    },
    {
      "cell_type": "markdown",
      "id": "42dffc48",
      "metadata": {
        "id": "42dffc48"
      },
      "source": [
        "### 8. How many laptops have a discount price?"
      ]
    },
    {
      "cell_type": "code",
      "execution_count": 27,
      "id": "93082b3f",
      "metadata": {
        "colab": {
          "base_uri": "https://localhost:8080/"
        },
        "id": "93082b3f",
        "outputId": "c5e135ce-807b-4345-f79a-953644b704a5"
      },
      "outputs": [
        {
          "output_type": "stream",
          "name": "stdout",
          "text": [
            "<class 'pandas.core.frame.DataFrame'>\n",
            "RangeIndex: 205 entries, 0 to 204\n",
            "Data columns (total 11 columns):\n",
            " #   Column          Non-Null Count  Dtype  \n",
            "---  ------          --------------  -----  \n",
            " 0   brand           205 non-null    object \n",
            " 1   laptop_name     204 non-null    object \n",
            " 2   display_size    205 non-null    float64\n",
            " 3   processor_type  205 non-null    object \n",
            " 4   graphics_card   205 non-null    object \n",
            " 5   disk_space      205 non-null    object \n",
            " 6   discount_price  205 non-null    float64\n",
            " 7   old_price       205 non-null    float64\n",
            " 8   ratings_5max    205 non-null    object \n",
            " 9   ratings_Min     205 non-null    float64\n",
            " 10  ratings_Max     205 non-null    float64\n",
            "dtypes: float64(5), object(6)\n",
            "memory usage: 17.7+ KB\n"
          ]
        }
      ],
      "source": [
        "data.info()\n",
        "# The number of laptops is 205 and the number of discount_price applicable laptops is also 205, so all 205 laptops have a discount price."
      ]
    },
    {
      "cell_type": "markdown",
      "id": "8088233c",
      "metadata": {
        "id": "8088233c"
      },
      "source": [
        "### 9. How is display size related to price?"
      ]
    },
    {
      "cell_type": "code",
      "execution_count": 28,
      "id": "48f95339",
      "metadata": {
        "colab": {
          "base_uri": "https://localhost:8080/",
          "height": 206
        },
        "id": "48f95339",
        "outputId": "86886639-b687-4a08-b12a-f9ab5cb7ea89"
      },
      "outputs": [
        {
          "output_type": "execute_result",
          "data": {
            "text/plain": [
              "                display_size\n",
              "display_size        1.000000\n",
              "discount_price     -0.199608\n",
              "old_price          -0.214365\n",
              "ratings_Min        -0.204323\n",
              "ratings_Max              NaN"
            ],
            "text/html": [
              "\n",
              "  <div id=\"df-34114a84-47d2-4178-8238-7a5c439f0497\">\n",
              "    <div class=\"colab-df-container\">\n",
              "      <div>\n",
              "<style scoped>\n",
              "    .dataframe tbody tr th:only-of-type {\n",
              "        vertical-align: middle;\n",
              "    }\n",
              "\n",
              "    .dataframe tbody tr th {\n",
              "        vertical-align: top;\n",
              "    }\n",
              "\n",
              "    .dataframe thead th {\n",
              "        text-align: right;\n",
              "    }\n",
              "</style>\n",
              "<table border=\"1\" class=\"dataframe\">\n",
              "  <thead>\n",
              "    <tr style=\"text-align: right;\">\n",
              "      <th></th>\n",
              "      <th>display_size</th>\n",
              "    </tr>\n",
              "  </thead>\n",
              "  <tbody>\n",
              "    <tr>\n",
              "      <th>display_size</th>\n",
              "      <td>1.000000</td>\n",
              "    </tr>\n",
              "    <tr>\n",
              "      <th>discount_price</th>\n",
              "      <td>-0.199608</td>\n",
              "    </tr>\n",
              "    <tr>\n",
              "      <th>old_price</th>\n",
              "      <td>-0.214365</td>\n",
              "    </tr>\n",
              "    <tr>\n",
              "      <th>ratings_Min</th>\n",
              "      <td>-0.204323</td>\n",
              "    </tr>\n",
              "    <tr>\n",
              "      <th>ratings_Max</th>\n",
              "      <td>NaN</td>\n",
              "    </tr>\n",
              "  </tbody>\n",
              "</table>\n",
              "</div>\n",
              "      <button class=\"colab-df-convert\" onclick=\"convertToInteractive('df-34114a84-47d2-4178-8238-7a5c439f0497')\"\n",
              "              title=\"Convert this dataframe to an interactive table.\"\n",
              "              style=\"display:none;\">\n",
              "        \n",
              "  <svg xmlns=\"http://www.w3.org/2000/svg\" height=\"24px\"viewBox=\"0 0 24 24\"\n",
              "       width=\"24px\">\n",
              "    <path d=\"M0 0h24v24H0V0z\" fill=\"none\"/>\n",
              "    <path d=\"M18.56 5.44l.94 2.06.94-2.06 2.06-.94-2.06-.94-.94-2.06-.94 2.06-2.06.94zm-11 1L8.5 8.5l.94-2.06 2.06-.94-2.06-.94L8.5 2.5l-.94 2.06-2.06.94zm10 10l.94 2.06.94-2.06 2.06-.94-2.06-.94-.94-2.06-.94 2.06-2.06.94z\"/><path d=\"M17.41 7.96l-1.37-1.37c-.4-.4-.92-.59-1.43-.59-.52 0-1.04.2-1.43.59L10.3 9.45l-7.72 7.72c-.78.78-.78 2.05 0 2.83L4 21.41c.39.39.9.59 1.41.59.51 0 1.02-.2 1.41-.59l7.78-7.78 2.81-2.81c.8-.78.8-2.07 0-2.86zM5.41 20L4 18.59l7.72-7.72 1.47 1.35L5.41 20z\"/>\n",
              "  </svg>\n",
              "      </button>\n",
              "      \n",
              "  <style>\n",
              "    .colab-df-container {\n",
              "      display:flex;\n",
              "      flex-wrap:wrap;\n",
              "      gap: 12px;\n",
              "    }\n",
              "\n",
              "    .colab-df-convert {\n",
              "      background-color: #E8F0FE;\n",
              "      border: none;\n",
              "      border-radius: 50%;\n",
              "      cursor: pointer;\n",
              "      display: none;\n",
              "      fill: #1967D2;\n",
              "      height: 32px;\n",
              "      padding: 0 0 0 0;\n",
              "      width: 32px;\n",
              "    }\n",
              "\n",
              "    .colab-df-convert:hover {\n",
              "      background-color: #E2EBFA;\n",
              "      box-shadow: 0px 1px 2px rgba(60, 64, 67, 0.3), 0px 1px 3px 1px rgba(60, 64, 67, 0.15);\n",
              "      fill: #174EA6;\n",
              "    }\n",
              "\n",
              "    [theme=dark] .colab-df-convert {\n",
              "      background-color: #3B4455;\n",
              "      fill: #D2E3FC;\n",
              "    }\n",
              "\n",
              "    [theme=dark] .colab-df-convert:hover {\n",
              "      background-color: #434B5C;\n",
              "      box-shadow: 0px 1px 3px 1px rgba(0, 0, 0, 0.15);\n",
              "      filter: drop-shadow(0px 1px 2px rgba(0, 0, 0, 0.3));\n",
              "      fill: #FFFFFF;\n",
              "    }\n",
              "  </style>\n",
              "\n",
              "      <script>\n",
              "        const buttonEl =\n",
              "          document.querySelector('#df-34114a84-47d2-4178-8238-7a5c439f0497 button.colab-df-convert');\n",
              "        buttonEl.style.display =\n",
              "          google.colab.kernel.accessAllowed ? 'block' : 'none';\n",
              "\n",
              "        async function convertToInteractive(key) {\n",
              "          const element = document.querySelector('#df-34114a84-47d2-4178-8238-7a5c439f0497');\n",
              "          const dataTable =\n",
              "            await google.colab.kernel.invokeFunction('convertToInteractive',\n",
              "                                                     [key], {});\n",
              "          if (!dataTable) return;\n",
              "\n",
              "          const docLinkHtml = 'Like what you see? Visit the ' +\n",
              "            '<a target=\"_blank\" href=https://colab.research.google.com/notebooks/data_table.ipynb>data table notebook</a>'\n",
              "            + ' to learn more about interactive tables.';\n",
              "          element.innerHTML = '';\n",
              "          dataTable['output_type'] = 'display_data';\n",
              "          await google.colab.output.renderOutput(dataTable, element);\n",
              "          const docLink = document.createElement('div');\n",
              "          docLink.innerHTML = docLinkHtml;\n",
              "          element.appendChild(docLink);\n",
              "        }\n",
              "      </script>\n",
              "    </div>\n",
              "  </div>\n",
              "  "
            ]
          },
          "metadata": {},
          "execution_count": 28
        }
      ],
      "source": [
        "data.corr()[['display_size']]\n",
        "# price has a negative corrolation when related to display size"
      ]
    },
    {
      "cell_type": "markdown",
      "id": "73a6dbd7",
      "metadata": {
        "id": "73a6dbd7"
      },
      "source": [
        "### 10. Use Scikit-learn to create and use a linear regression model to predict rating or price. \n",
        "Hint: use the Chapter 10 example as a guide as you create this model. (https://colab.research.google.com/github/plthomps/ITCS3162-Data-Mining/blob/main/ch10_examples.ipynb)\n",
        "\n",
        "Our steps are: \n",
        "1) Import necessary libraries \n",
        "2) split the dataset into train and test \n",
        "3) create model from the training dataset \n",
        "4) validate model with test dataset \n",
        "5) if model is valid, predict with it\n",
        "\n",
        "Model the linear relationship between the difference of discount_price and old_price. Use Chapter 10 Notebook as a reference: https://colab.research.google.com/github/plthomps/ITCS3162-Data-Mining/blob/main/ch10_examples.ipynb\n"
      ]
    },
    {
      "cell_type": "code",
      "execution_count": 34,
      "id": "c6c3dcda",
      "metadata": {
        "colab": {
          "base_uri": "https://localhost:8080/",
          "height": 582
        },
        "id": "c6c3dcda",
        "outputId": "7bc5dc62-1db4-4925-f8d7-9ed9c86602ac"
      },
      "outputs": [
        {
          "output_type": "execute_result",
          "data": {
            "text/plain": [
              "    predictedPrice  display_size  old_price     residual\n",
              "0      3411.280759          15.6     6499.0  3087.719241\n",
              "1      3411.280759          15.6     3249.0  -162.280759\n",
              "2      4191.677428          14.0     2949.0 -1242.677428\n",
              "3      4191.677428          14.0     3799.0  -392.677428\n",
              "4      3411.280759          15.6     1399.0 -2012.280759\n",
              "5      4533.100970          13.3     8099.0  3565.899030\n",
              "6      3411.280759          15.6     6688.0  3276.719241\n",
              "7      3411.280759          15.6     2549.0  -862.280759\n",
              "8      4533.100970          13.3     6399.0  1865.899030\n",
              "9      3411.280759          15.6     2249.0 -1162.280759\n",
              "10     4533.100970          13.3     3149.0 -1384.100970\n",
              "11     3411.280759          15.6     1429.0 -1982.280759\n",
              "12     4533.100970          13.3     8099.0  3565.899030\n",
              "13     3411.280759          15.6     2749.0  -662.280759\n",
              "14     3411.280759          15.6     2699.0  -712.280759\n",
              "15     3411.280759          15.6     1889.0 -1522.280759\n",
              "16     4533.100970          13.3     4399.0  -134.100970"
            ],
            "text/html": [
              "\n",
              "  <div id=\"df-2e81bb8a-b98c-4c86-a5d0-2a709526bde5\">\n",
              "    <div class=\"colab-df-container\">\n",
              "      <div>\n",
              "<style scoped>\n",
              "    .dataframe tbody tr th:only-of-type {\n",
              "        vertical-align: middle;\n",
              "    }\n",
              "\n",
              "    .dataframe tbody tr th {\n",
              "        vertical-align: top;\n",
              "    }\n",
              "\n",
              "    .dataframe thead th {\n",
              "        text-align: right;\n",
              "    }\n",
              "</style>\n",
              "<table border=\"1\" class=\"dataframe\">\n",
              "  <thead>\n",
              "    <tr style=\"text-align: right;\">\n",
              "      <th></th>\n",
              "      <th>predictedPrice</th>\n",
              "      <th>display_size</th>\n",
              "      <th>old_price</th>\n",
              "      <th>residual</th>\n",
              "    </tr>\n",
              "  </thead>\n",
              "  <tbody>\n",
              "    <tr>\n",
              "      <th>0</th>\n",
              "      <td>3411.280759</td>\n",
              "      <td>15.6</td>\n",
              "      <td>6499.0</td>\n",
              "      <td>3087.719241</td>\n",
              "    </tr>\n",
              "    <tr>\n",
              "      <th>1</th>\n",
              "      <td>3411.280759</td>\n",
              "      <td>15.6</td>\n",
              "      <td>3249.0</td>\n",
              "      <td>-162.280759</td>\n",
              "    </tr>\n",
              "    <tr>\n",
              "      <th>2</th>\n",
              "      <td>4191.677428</td>\n",
              "      <td>14.0</td>\n",
              "      <td>2949.0</td>\n",
              "      <td>-1242.677428</td>\n",
              "    </tr>\n",
              "    <tr>\n",
              "      <th>3</th>\n",
              "      <td>4191.677428</td>\n",
              "      <td>14.0</td>\n",
              "      <td>3799.0</td>\n",
              "      <td>-392.677428</td>\n",
              "    </tr>\n",
              "    <tr>\n",
              "      <th>4</th>\n",
              "      <td>3411.280759</td>\n",
              "      <td>15.6</td>\n",
              "      <td>1399.0</td>\n",
              "      <td>-2012.280759</td>\n",
              "    </tr>\n",
              "    <tr>\n",
              "      <th>5</th>\n",
              "      <td>4533.100970</td>\n",
              "      <td>13.3</td>\n",
              "      <td>8099.0</td>\n",
              "      <td>3565.899030</td>\n",
              "    </tr>\n",
              "    <tr>\n",
              "      <th>6</th>\n",
              "      <td>3411.280759</td>\n",
              "      <td>15.6</td>\n",
              "      <td>6688.0</td>\n",
              "      <td>3276.719241</td>\n",
              "    </tr>\n",
              "    <tr>\n",
              "      <th>7</th>\n",
              "      <td>3411.280759</td>\n",
              "      <td>15.6</td>\n",
              "      <td>2549.0</td>\n",
              "      <td>-862.280759</td>\n",
              "    </tr>\n",
              "    <tr>\n",
              "      <th>8</th>\n",
              "      <td>4533.100970</td>\n",
              "      <td>13.3</td>\n",
              "      <td>6399.0</td>\n",
              "      <td>1865.899030</td>\n",
              "    </tr>\n",
              "    <tr>\n",
              "      <th>9</th>\n",
              "      <td>3411.280759</td>\n",
              "      <td>15.6</td>\n",
              "      <td>2249.0</td>\n",
              "      <td>-1162.280759</td>\n",
              "    </tr>\n",
              "    <tr>\n",
              "      <th>10</th>\n",
              "      <td>4533.100970</td>\n",
              "      <td>13.3</td>\n",
              "      <td>3149.0</td>\n",
              "      <td>-1384.100970</td>\n",
              "    </tr>\n",
              "    <tr>\n",
              "      <th>11</th>\n",
              "      <td>3411.280759</td>\n",
              "      <td>15.6</td>\n",
              "      <td>1429.0</td>\n",
              "      <td>-1982.280759</td>\n",
              "    </tr>\n",
              "    <tr>\n",
              "      <th>12</th>\n",
              "      <td>4533.100970</td>\n",
              "      <td>13.3</td>\n",
              "      <td>8099.0</td>\n",
              "      <td>3565.899030</td>\n",
              "    </tr>\n",
              "    <tr>\n",
              "      <th>13</th>\n",
              "      <td>3411.280759</td>\n",
              "      <td>15.6</td>\n",
              "      <td>2749.0</td>\n",
              "      <td>-662.280759</td>\n",
              "    </tr>\n",
              "    <tr>\n",
              "      <th>14</th>\n",
              "      <td>3411.280759</td>\n",
              "      <td>15.6</td>\n",
              "      <td>2699.0</td>\n",
              "      <td>-712.280759</td>\n",
              "    </tr>\n",
              "    <tr>\n",
              "      <th>15</th>\n",
              "      <td>3411.280759</td>\n",
              "      <td>15.6</td>\n",
              "      <td>1889.0</td>\n",
              "      <td>-1522.280759</td>\n",
              "    </tr>\n",
              "    <tr>\n",
              "      <th>16</th>\n",
              "      <td>4533.100970</td>\n",
              "      <td>13.3</td>\n",
              "      <td>4399.0</td>\n",
              "      <td>-134.100970</td>\n",
              "    </tr>\n",
              "  </tbody>\n",
              "</table>\n",
              "</div>\n",
              "      <button class=\"colab-df-convert\" onclick=\"convertToInteractive('df-2e81bb8a-b98c-4c86-a5d0-2a709526bde5')\"\n",
              "              title=\"Convert this dataframe to an interactive table.\"\n",
              "              style=\"display:none;\">\n",
              "        \n",
              "  <svg xmlns=\"http://www.w3.org/2000/svg\" height=\"24px\"viewBox=\"0 0 24 24\"\n",
              "       width=\"24px\">\n",
              "    <path d=\"M0 0h24v24H0V0z\" fill=\"none\"/>\n",
              "    <path d=\"M18.56 5.44l.94 2.06.94-2.06 2.06-.94-2.06-.94-.94-2.06-.94 2.06-2.06.94zm-11 1L8.5 8.5l.94-2.06 2.06-.94-2.06-.94L8.5 2.5l-.94 2.06-2.06.94zm10 10l.94 2.06.94-2.06 2.06-.94-2.06-.94-.94-2.06-.94 2.06-2.06.94z\"/><path d=\"M17.41 7.96l-1.37-1.37c-.4-.4-.92-.59-1.43-.59-.52 0-1.04.2-1.43.59L10.3 9.45l-7.72 7.72c-.78.78-.78 2.05 0 2.83L4 21.41c.39.39.9.59 1.41.59.51 0 1.02-.2 1.41-.59l7.78-7.78 2.81-2.81c.8-.78.8-2.07 0-2.86zM5.41 20L4 18.59l7.72-7.72 1.47 1.35L5.41 20z\"/>\n",
              "  </svg>\n",
              "      </button>\n",
              "      \n",
              "  <style>\n",
              "    .colab-df-container {\n",
              "      display:flex;\n",
              "      flex-wrap:wrap;\n",
              "      gap: 12px;\n",
              "    }\n",
              "\n",
              "    .colab-df-convert {\n",
              "      background-color: #E8F0FE;\n",
              "      border: none;\n",
              "      border-radius: 50%;\n",
              "      cursor: pointer;\n",
              "      display: none;\n",
              "      fill: #1967D2;\n",
              "      height: 32px;\n",
              "      padding: 0 0 0 0;\n",
              "      width: 32px;\n",
              "    }\n",
              "\n",
              "    .colab-df-convert:hover {\n",
              "      background-color: #E2EBFA;\n",
              "      box-shadow: 0px 1px 2px rgba(60, 64, 67, 0.3), 0px 1px 3px 1px rgba(60, 64, 67, 0.15);\n",
              "      fill: #174EA6;\n",
              "    }\n",
              "\n",
              "    [theme=dark] .colab-df-convert {\n",
              "      background-color: #3B4455;\n",
              "      fill: #D2E3FC;\n",
              "    }\n",
              "\n",
              "    [theme=dark] .colab-df-convert:hover {\n",
              "      background-color: #434B5C;\n",
              "      box-shadow: 0px 1px 3px 1px rgba(0, 0, 0, 0.15);\n",
              "      filter: drop-shadow(0px 1px 2px rgba(0, 0, 0, 0.3));\n",
              "      fill: #FFFFFF;\n",
              "    }\n",
              "  </style>\n",
              "\n",
              "      <script>\n",
              "        const buttonEl =\n",
              "          document.querySelector('#df-2e81bb8a-b98c-4c86-a5d0-2a709526bde5 button.colab-df-convert');\n",
              "        buttonEl.style.display =\n",
              "          google.colab.kernel.accessAllowed ? 'block' : 'none';\n",
              "\n",
              "        async function convertToInteractive(key) {\n",
              "          const element = document.querySelector('#df-2e81bb8a-b98c-4c86-a5d0-2a709526bde5');\n",
              "          const dataTable =\n",
              "            await google.colab.kernel.invokeFunction('convertToInteractive',\n",
              "                                                     [key], {});\n",
              "          if (!dataTable) return;\n",
              "\n",
              "          const docLinkHtml = 'Like what you see? Visit the ' +\n",
              "            '<a target=\"_blank\" href=https://colab.research.google.com/notebooks/data_table.ipynb>data table notebook</a>'\n",
              "            + ' to learn more about interactive tables.';\n",
              "          element.innerHTML = '';\n",
              "          dataTable['output_type'] = 'display_data';\n",
              "          await google.colab.output.renderOutput(dataTable, element);\n",
              "          const docLink = document.createElement('div');\n",
              "          docLink.innerHTML = docLinkHtml;\n",
              "          element.appendChild(docLink);\n",
              "        }\n",
              "      </script>\n",
              "    </div>\n",
              "  </div>\n",
              "  "
            ]
          },
          "metadata": {},
          "execution_count": 34
        }
      ],
      "source": [
        "from sklearn import linear_model\n",
        "# Use sklearn module to create, validate, and use a linear regression model\n",
        "from sklearn.model_selection import train_test_split\n",
        "from sklearn.linear_model import LinearRegression\n",
        "\n",
        "# create the model from the training dataset\n",
        "dell = data[data['brand'] == 'Dell']\n",
        "\n",
        "x_train, x_test, y_train, y_test = train_test_split(\n",
        "    dell[['display_size']], dell[['old_price']],\n",
        "    test_size=0.5, random_state=20)\n",
        "\n",
        "model = LinearRegression()\n",
        "model.fit(x_train, y_train)\n",
        "\n",
        "\n",
        "# validate the model with the test dataset\n",
        "model.score(x_test,y_test)\n",
        "# use the model to make predictions\n",
        "y_predicted = model.predict(x_test)\n",
        "# put predicted values in a frame\n",
        "\n",
        "# combine the test data and the predicted data\n",
        "predicted = pd.DataFrame(y_predicted, columns=['predictedPrice'])\n",
        "\n",
        "final = predicted.join([x_test.reset_index(drop=True), \n",
        "                        y_test.reset_index(drop=True)])\n",
        "final[['display_size','old_price','predictedPrice']].head()\n",
        "# plot the relationship (if there is one) in a meaningful way\n",
        "\n",
        "final['residual'] = final.old_price - final.predictedPrice\n",
        "final"
      ]
    }
  ],
  "metadata": {
    "kernelspec": {
      "display_name": "Python 3.7.1 ('base')",
      "language": "python",
      "name": "python3"
    },
    "language_info": {
      "codemirror_mode": {
        "name": "ipython",
        "version": 3
      },
      "file_extension": ".py",
      "mimetype": "text/x-python",
      "name": "python",
      "nbconvert_exporter": "python",
      "pygments_lexer": "ipython3",
      "version": "3.7.1"
    },
    "vscode": {
      "interpreter": {
        "hash": "ff14bb0215deb30d93ba83fc735829a992bd0fa4f18954b7df9509c5f53e3302"
      }
    },
    "colab": {
      "name": "laptops_case_study.ipynb",
      "provenance": [],
      "collapsed_sections": []
    }
  },
  "nbformat": 4,
  "nbformat_minor": 5
}