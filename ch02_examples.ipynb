{
  "cells": [
    {
      "cell_type": "markdown",
      "metadata": {
        "id": "GeAVB6oME1U8"
      },
      "source": [
        "# Chapter 2: The Pandas essentials for data analysis"
      ]
    },
    {
      "cell_type": "code",
      "execution_count": null,
      "metadata": {
        "id": "rsCZULlRE1U_"
      },
      "outputs": [],
      "source": [
        "import pandas as pd"
      ]
    },
    {
      "cell_type": "markdown",
      "metadata": {
        "id": "_nnBwrtNE1VB"
      },
      "source": [
        "## Get the data"
      ]
    },
    {
      "cell_type": "markdown",
      "metadata": {
        "id": "nKE5B7sTE1VB"
      },
      "source": [
        "### Read a CSV file from a website into a DataFrame"
      ]
    },
    {
      "cell_type": "code",
      "execution_count": null,
      "metadata": {
        "id": "IC7toPR7E1VB"
      },
      "outputs": [],
      "source": [
        "url = 'https://data.cdc.gov/api/views/v6ab-adf5/rows.csv?accessType=DOWNLOAD'\n",
        "mortality_data = pd.read_csv(url)"
      ]
    },
    {
      "cell_type": "code",
      "execution_count": null,
      "metadata": {
        "id": "zrcSlnS-E1VC",
        "outputId": "8e780067-485c-44b4-f57e-2829b222693a"
      },
      "outputs": [
        {
          "data": {
            "text/html": [
              "<div>\n",
              "<style scoped>\n",
              "    .dataframe tbody tr th:only-of-type {\n",
              "        vertical-align: middle;\n",
              "    }\n",
              "\n",
              "    .dataframe tbody tr th {\n",
              "        vertical-align: top;\n",
              "    }\n",
              "\n",
              "    .dataframe thead th {\n",
              "        text-align: right;\n",
              "    }\n",
              "</style>\n",
              "<table border=\"1\" class=\"dataframe\">\n",
              "  <thead>\n",
              "    <tr style=\"text-align: right;\">\n",
              "      <th></th>\n",
              "      <th>Year</th>\n",
              "      <th>Age Group</th>\n",
              "      <th>Death Rate</th>\n",
              "    </tr>\n",
              "  </thead>\n",
              "  <tbody>\n",
              "    <tr>\n",
              "      <th>0</th>\n",
              "      <td>1900</td>\n",
              "      <td>1-4 Years</td>\n",
              "      <td>1983.8</td>\n",
              "    </tr>\n",
              "    <tr>\n",
              "      <th>1</th>\n",
              "      <td>1901</td>\n",
              "      <td>1-4 Years</td>\n",
              "      <td>1695.0</td>\n",
              "    </tr>\n",
              "    <tr>\n",
              "      <th>2</th>\n",
              "      <td>1902</td>\n",
              "      <td>1-4 Years</td>\n",
              "      <td>1655.7</td>\n",
              "    </tr>\n",
              "    <tr>\n",
              "      <th>3</th>\n",
              "      <td>1903</td>\n",
              "      <td>1-4 Years</td>\n",
              "      <td>1542.1</td>\n",
              "    </tr>\n",
              "    <tr>\n",
              "      <th>4</th>\n",
              "      <td>1904</td>\n",
              "      <td>1-4 Years</td>\n",
              "      <td>1591.5</td>\n",
              "    </tr>\n",
              "    <tr>\n",
              "      <th>5</th>\n",
              "      <td>1905</td>\n",
              "      <td>1-4 Years</td>\n",
              "      <td>1498.9</td>\n",
              "    </tr>\n",
              "    <tr>\n",
              "      <th>6</th>\n",
              "      <td>1906</td>\n",
              "      <td>1-4 Years</td>\n",
              "      <td>1580.0</td>\n",
              "    </tr>\n",
              "    <tr>\n",
              "      <th>7</th>\n",
              "      <td>1907</td>\n",
              "      <td>1-4 Years</td>\n",
              "      <td>1468.3</td>\n",
              "    </tr>\n",
              "    <tr>\n",
              "      <th>8</th>\n",
              "      <td>1908</td>\n",
              "      <td>1-4 Years</td>\n",
              "      <td>1396.8</td>\n",
              "    </tr>\n",
              "    <tr>\n",
              "      <th>9</th>\n",
              "      <td>1909</td>\n",
              "      <td>1-4 Years</td>\n",
              "      <td>1348.9</td>\n",
              "    </tr>\n",
              "    <tr>\n",
              "      <th>10</th>\n",
              "      <td>1910</td>\n",
              "      <td>1-4 Years</td>\n",
              "      <td>1397.3</td>\n",
              "    </tr>\n",
              "    <tr>\n",
              "      <th>11</th>\n",
              "      <td>1911</td>\n",
              "      <td>1-4 Years</td>\n",
              "      <td>1176.0</td>\n",
              "    </tr>\n",
              "    <tr>\n",
              "      <th>12</th>\n",
              "      <td>1912</td>\n",
              "      <td>1-4 Years</td>\n",
              "      <td>1094.1</td>\n",
              "    </tr>\n",
              "    <tr>\n",
              "      <th>13</th>\n",
              "      <td>1913</td>\n",
              "      <td>1-4 Years</td>\n",
              "      <td>1193.4</td>\n",
              "    </tr>\n",
              "    <tr>\n",
              "      <th>14</th>\n",
              "      <td>1914</td>\n",
              "      <td>1-4 Years</td>\n",
              "      <td>1024.2</td>\n",
              "    </tr>\n",
              "    <tr>\n",
              "      <th>15</th>\n",
              "      <td>1915</td>\n",
              "      <td>1-4 Years</td>\n",
              "      <td>924.2</td>\n",
              "    </tr>\n",
              "    <tr>\n",
              "      <th>16</th>\n",
              "      <td>1916</td>\n",
              "      <td>1-4 Years</td>\n",
              "      <td>1111.5</td>\n",
              "    </tr>\n",
              "    <tr>\n",
              "      <th>17</th>\n",
              "      <td>1917</td>\n",
              "      <td>1-4 Years</td>\n",
              "      <td>1066.0</td>\n",
              "    </tr>\n",
              "    <tr>\n",
              "      <th>18</th>\n",
              "      <td>1918</td>\n",
              "      <td>1-4 Years</td>\n",
              "      <td>1573.5</td>\n",
              "    </tr>\n",
              "    <tr>\n",
              "      <th>19</th>\n",
              "      <td>1919</td>\n",
              "      <td>1-4 Years</td>\n",
              "      <td>928.0</td>\n",
              "    </tr>\n",
              "    <tr>\n",
              "      <th>20</th>\n",
              "      <td>1920</td>\n",
              "      <td>1-4 Years</td>\n",
              "      <td>987.2</td>\n",
              "    </tr>\n",
              "    <tr>\n",
              "      <th>21</th>\n",
              "      <td>1921</td>\n",
              "      <td>1-4 Years</td>\n",
              "      <td>801.2</td>\n",
              "    </tr>\n",
              "    <tr>\n",
              "      <th>22</th>\n",
              "      <td>1922</td>\n",
              "      <td>1-4 Years</td>\n",
              "      <td>742.0</td>\n",
              "    </tr>\n",
              "    <tr>\n",
              "      <th>23</th>\n",
              "      <td>1923</td>\n",
              "      <td>1-4 Years</td>\n",
              "      <td>806.7</td>\n",
              "    </tr>\n",
              "    <tr>\n",
              "      <th>24</th>\n",
              "      <td>1924</td>\n",
              "      <td>1-4 Years</td>\n",
              "      <td>683.2</td>\n",
              "    </tr>\n",
              "    <tr>\n",
              "      <th>25</th>\n",
              "      <td>1925</td>\n",
              "      <td>1-4 Years</td>\n",
              "      <td>641.0</td>\n",
              "    </tr>\n",
              "    <tr>\n",
              "      <th>26</th>\n",
              "      <td>1926</td>\n",
              "      <td>1-4 Years</td>\n",
              "      <td>723.4</td>\n",
              "    </tr>\n",
              "    <tr>\n",
              "      <th>27</th>\n",
              "      <td>1927</td>\n",
              "      <td>1-4 Years</td>\n",
              "      <td>591.0</td>\n",
              "    </tr>\n",
              "    <tr>\n",
              "      <th>28</th>\n",
              "      <td>1928</td>\n",
              "      <td>1-4 Years</td>\n",
              "      <td>647.5</td>\n",
              "    </tr>\n",
              "    <tr>\n",
              "      <th>29</th>\n",
              "      <td>1929</td>\n",
              "      <td>1-4 Years</td>\n",
              "      <td>625.5</td>\n",
              "    </tr>\n",
              "    <tr>\n",
              "      <th>...</th>\n",
              "      <td>...</td>\n",
              "      <td>...</td>\n",
              "      <td>...</td>\n",
              "    </tr>\n",
              "    <tr>\n",
              "      <th>446</th>\n",
              "      <td>1989</td>\n",
              "      <td>15-19 Years</td>\n",
              "      <td>85.9</td>\n",
              "    </tr>\n",
              "    <tr>\n",
              "      <th>447</th>\n",
              "      <td>1990</td>\n",
              "      <td>15-19 Years</td>\n",
              "      <td>87.9</td>\n",
              "    </tr>\n",
              "    <tr>\n",
              "      <th>448</th>\n",
              "      <td>1991</td>\n",
              "      <td>15-19 Years</td>\n",
              "      <td>88.7</td>\n",
              "    </tr>\n",
              "    <tr>\n",
              "      <th>449</th>\n",
              "      <td>1992</td>\n",
              "      <td>15-19 Years</td>\n",
              "      <td>83.6</td>\n",
              "    </tr>\n",
              "    <tr>\n",
              "      <th>450</th>\n",
              "      <td>1993</td>\n",
              "      <td>15-19 Years</td>\n",
              "      <td>85.8</td>\n",
              "    </tr>\n",
              "    <tr>\n",
              "      <th>451</th>\n",
              "      <td>1994</td>\n",
              "      <td>15-19 Years</td>\n",
              "      <td>85.5</td>\n",
              "    </tr>\n",
              "    <tr>\n",
              "      <th>452</th>\n",
              "      <td>1995</td>\n",
              "      <td>15-19 Years</td>\n",
              "      <td>82.1</td>\n",
              "    </tr>\n",
              "    <tr>\n",
              "      <th>453</th>\n",
              "      <td>1996</td>\n",
              "      <td>15-19 Years</td>\n",
              "      <td>77.5</td>\n",
              "    </tr>\n",
              "    <tr>\n",
              "      <th>454</th>\n",
              "      <td>1997</td>\n",
              "      <td>15-19 Years</td>\n",
              "      <td>73.6</td>\n",
              "    </tr>\n",
              "    <tr>\n",
              "      <th>455</th>\n",
              "      <td>1998</td>\n",
              "      <td>15-19 Years</td>\n",
              "      <td>69.5</td>\n",
              "    </tr>\n",
              "    <tr>\n",
              "      <th>456</th>\n",
              "      <td>1999</td>\n",
              "      <td>15-19 Years</td>\n",
              "      <td>68.6</td>\n",
              "    </tr>\n",
              "    <tr>\n",
              "      <th>457</th>\n",
              "      <td>2000</td>\n",
              "      <td>15-19 Years</td>\n",
              "      <td>67.1</td>\n",
              "    </tr>\n",
              "    <tr>\n",
              "      <th>458</th>\n",
              "      <td>2001</td>\n",
              "      <td>15-19 Years</td>\n",
              "      <td>66.3</td>\n",
              "    </tr>\n",
              "    <tr>\n",
              "      <th>459</th>\n",
              "      <td>2002</td>\n",
              "      <td>15-19 Years</td>\n",
              "      <td>67.0</td>\n",
              "    </tr>\n",
              "    <tr>\n",
              "      <th>460</th>\n",
              "      <td>2003</td>\n",
              "      <td>15-19 Years</td>\n",
              "      <td>65.4</td>\n",
              "    </tr>\n",
              "    <tr>\n",
              "      <th>461</th>\n",
              "      <td>2004</td>\n",
              "      <td>15-19 Years</td>\n",
              "      <td>64.9</td>\n",
              "    </tr>\n",
              "    <tr>\n",
              "      <th>462</th>\n",
              "      <td>2005</td>\n",
              "      <td>15-19 Years</td>\n",
              "      <td>63.8</td>\n",
              "    </tr>\n",
              "    <tr>\n",
              "      <th>463</th>\n",
              "      <td>2006</td>\n",
              "      <td>15-19 Years</td>\n",
              "      <td>63.0</td>\n",
              "    </tr>\n",
              "    <tr>\n",
              "      <th>464</th>\n",
              "      <td>2007</td>\n",
              "      <td>15-19 Years</td>\n",
              "      <td>60.3</td>\n",
              "    </tr>\n",
              "    <tr>\n",
              "      <th>465</th>\n",
              "      <td>2008</td>\n",
              "      <td>15-19 Years</td>\n",
              "      <td>55.9</td>\n",
              "    </tr>\n",
              "    <tr>\n",
              "      <th>466</th>\n",
              "      <td>2009</td>\n",
              "      <td>15-19 Years</td>\n",
              "      <td>51.9</td>\n",
              "    </tr>\n",
              "    <tr>\n",
              "      <th>467</th>\n",
              "      <td>2010</td>\n",
              "      <td>15-19 Years</td>\n",
              "      <td>49.4</td>\n",
              "    </tr>\n",
              "    <tr>\n",
              "      <th>468</th>\n",
              "      <td>2011</td>\n",
              "      <td>15-19 Years</td>\n",
              "      <td>48.9</td>\n",
              "    </tr>\n",
              "    <tr>\n",
              "      <th>469</th>\n",
              "      <td>2012</td>\n",
              "      <td>15-19 Years</td>\n",
              "      <td>47.2</td>\n",
              "    </tr>\n",
              "    <tr>\n",
              "      <th>470</th>\n",
              "      <td>2013</td>\n",
              "      <td>15-19 Years</td>\n",
              "      <td>44.8</td>\n",
              "    </tr>\n",
              "    <tr>\n",
              "      <th>471</th>\n",
              "      <td>2014</td>\n",
              "      <td>15-19 Years</td>\n",
              "      <td>45.5</td>\n",
              "    </tr>\n",
              "    <tr>\n",
              "      <th>472</th>\n",
              "      <td>2015</td>\n",
              "      <td>15-19 Years</td>\n",
              "      <td>48.3</td>\n",
              "    </tr>\n",
              "    <tr>\n",
              "      <th>473</th>\n",
              "      <td>2016</td>\n",
              "      <td>15-19 Years</td>\n",
              "      <td>51.2</td>\n",
              "    </tr>\n",
              "    <tr>\n",
              "      <th>474</th>\n",
              "      <td>2017</td>\n",
              "      <td>15-19 Years</td>\n",
              "      <td>51.5</td>\n",
              "    </tr>\n",
              "    <tr>\n",
              "      <th>475</th>\n",
              "      <td>2018</td>\n",
              "      <td>15-19 Years</td>\n",
              "      <td>49.2</td>\n",
              "    </tr>\n",
              "  </tbody>\n",
              "</table>\n",
              "<p>476 rows × 3 columns</p>\n",
              "</div>"
            ],
            "text/plain": [
              "     Year    Age Group  Death Rate\n",
              "0    1900    1-4 Years      1983.8\n",
              "1    1901    1-4 Years      1695.0\n",
              "2    1902    1-4 Years      1655.7\n",
              "3    1903    1-4 Years      1542.1\n",
              "4    1904    1-4 Years      1591.5\n",
              "5    1905    1-4 Years      1498.9\n",
              "6    1906    1-4 Years      1580.0\n",
              "7    1907    1-4 Years      1468.3\n",
              "8    1908    1-4 Years      1396.8\n",
              "9    1909    1-4 Years      1348.9\n",
              "10   1910    1-4 Years      1397.3\n",
              "11   1911    1-4 Years      1176.0\n",
              "12   1912    1-4 Years      1094.1\n",
              "13   1913    1-4 Years      1193.4\n",
              "14   1914    1-4 Years      1024.2\n",
              "15   1915    1-4 Years       924.2\n",
              "16   1916    1-4 Years      1111.5\n",
              "17   1917    1-4 Years      1066.0\n",
              "18   1918    1-4 Years      1573.5\n",
              "19   1919    1-4 Years       928.0\n",
              "20   1920    1-4 Years       987.2\n",
              "21   1921    1-4 Years       801.2\n",
              "22   1922    1-4 Years       742.0\n",
              "23   1923    1-4 Years       806.7\n",
              "24   1924    1-4 Years       683.2\n",
              "25   1925    1-4 Years       641.0\n",
              "26   1926    1-4 Years       723.4\n",
              "27   1927    1-4 Years       591.0\n",
              "28   1928    1-4 Years       647.5\n",
              "29   1929    1-4 Years       625.5\n",
              "..    ...          ...         ...\n",
              "446  1989  15-19 Years        85.9\n",
              "447  1990  15-19 Years        87.9\n",
              "448  1991  15-19 Years        88.7\n",
              "449  1992  15-19 Years        83.6\n",
              "450  1993  15-19 Years        85.8\n",
              "451  1994  15-19 Years        85.5\n",
              "452  1995  15-19 Years        82.1\n",
              "453  1996  15-19 Years        77.5\n",
              "454  1997  15-19 Years        73.6\n",
              "455  1998  15-19 Years        69.5\n",
              "456  1999  15-19 Years        68.6\n",
              "457  2000  15-19 Years        67.1\n",
              "458  2001  15-19 Years        66.3\n",
              "459  2002  15-19 Years        67.0\n",
              "460  2003  15-19 Years        65.4\n",
              "461  2004  15-19 Years        64.9\n",
              "462  2005  15-19 Years        63.8\n",
              "463  2006  15-19 Years        63.0\n",
              "464  2007  15-19 Years        60.3\n",
              "465  2008  15-19 Years        55.9\n",
              "466  2009  15-19 Years        51.9\n",
              "467  2010  15-19 Years        49.4\n",
              "468  2011  15-19 Years        48.9\n",
              "469  2012  15-19 Years        47.2\n",
              "470  2013  15-19 Years        44.8\n",
              "471  2014  15-19 Years        45.5\n",
              "472  2015  15-19 Years        48.3\n",
              "473  2016  15-19 Years        51.2\n",
              "474  2017  15-19 Years        51.5\n",
              "475  2018  15-19 Years        49.2\n",
              "\n",
              "[476 rows x 3 columns]"
            ]
          },
          "execution_count": 3,
          "metadata": {},
          "output_type": "execute_result"
        }
      ],
      "source": [
        "mortality_data"
      ]
    },
    {
      "cell_type": "markdown",
      "metadata": {
        "id": "rN5py0xuE1VD"
      },
      "source": [
        "### Use DataFrame constructor to build a DataFrame object"
      ]
    },
    {
      "cell_type": "code",
      "execution_count": null,
      "metadata": {
        "id": "TkoYfPdHE1VE"
      },
      "outputs": [],
      "source": [
        "df_data=[[1900, '1-4 Years', 1983.8],\n",
        "         [1901, '1-4 Years', 1695.0]]\n",
        "df_columns=['Year', 'Age Group', 'Death Rate']"
      ]
    },
    {
      "cell_type": "code",
      "execution_count": null,
      "metadata": {
        "id": "uasViI8ME1VE"
      },
      "outputs": [],
      "source": [
        "mortality_df = pd.DataFrame(\n",
        "    data=df_data,\n",
        "    columns=df_columns)"
      ]
    },
    {
      "cell_type": "code",
      "execution_count": null,
      "metadata": {
        "id": "NA4NMuA_E1VF",
        "outputId": "3fb6f4eb-4327-40e8-f441-3028adb0828a"
      },
      "outputs": [
        {
          "data": {
            "text/html": [
              "<div>\n",
              "<style scoped>\n",
              "    .dataframe tbody tr th:only-of-type {\n",
              "        vertical-align: middle;\n",
              "    }\n",
              "\n",
              "    .dataframe tbody tr th {\n",
              "        vertical-align: top;\n",
              "    }\n",
              "\n",
              "    .dataframe thead th {\n",
              "        text-align: right;\n",
              "    }\n",
              "</style>\n",
              "<table border=\"1\" class=\"dataframe\">\n",
              "  <thead>\n",
              "    <tr style=\"text-align: right;\">\n",
              "      <th></th>\n",
              "      <th>Year</th>\n",
              "      <th>Age Group</th>\n",
              "      <th>Death Rate</th>\n",
              "    </tr>\n",
              "  </thead>\n",
              "  <tbody>\n",
              "    <tr>\n",
              "      <th>0</th>\n",
              "      <td>1900</td>\n",
              "      <td>1-4 Years</td>\n",
              "      <td>1983.8</td>\n",
              "    </tr>\n",
              "    <tr>\n",
              "      <th>1</th>\n",
              "      <td>1901</td>\n",
              "      <td>1-4 Years</td>\n",
              "      <td>1695.0</td>\n",
              "    </tr>\n",
              "  </tbody>\n",
              "</table>\n",
              "</div>"
            ],
            "text/plain": [
              "   Year  Age Group  Death Rate\n",
              "0  1900  1-4 Years      1983.8\n",
              "1  1901  1-4 Years      1695.0"
            ]
          },
          "execution_count": 6,
          "metadata": {},
          "output_type": "execute_result"
        }
      ],
      "source": [
        "mortality_df"
      ]
    },
    {
      "cell_type": "markdown",
      "metadata": {
        "id": "eKRy_ObdE1VH"
      },
      "source": [
        "### Save and restore a DataFrame"
      ]
    },
    {
      "cell_type": "code",
      "execution_count": null,
      "metadata": {
        "id": "BsngMj2OE1VH"
      },
      "outputs": [],
      "source": [
        "mortality_data.to_pickle('mortality_data.pkl')"
      ]
    },
    {
      "cell_type": "code",
      "execution_count": null,
      "metadata": {
        "id": "09xJ-j8UE1VH"
      },
      "outputs": [],
      "source": [
        "mortality_data = pd.read_pickle('mortality_data.pkl')"
      ]
    },
    {
      "cell_type": "code",
      "execution_count": null,
      "metadata": {
        "id": "lBOqcK8_E1VI",
        "outputId": "0fbbb63b-e9c9-4ea0-97f7-b755b0adfa31"
      },
      "outputs": [
        {
          "data": {
            "text/html": [
              "<div>\n",
              "<style scoped>\n",
              "    .dataframe tbody tr th:only-of-type {\n",
              "        vertical-align: middle;\n",
              "    }\n",
              "\n",
              "    .dataframe tbody tr th {\n",
              "        vertical-align: top;\n",
              "    }\n",
              "\n",
              "    .dataframe thead th {\n",
              "        text-align: right;\n",
              "    }\n",
              "</style>\n",
              "<table border=\"1\" class=\"dataframe\">\n",
              "  <thead>\n",
              "    <tr style=\"text-align: right;\">\n",
              "      <th></th>\n",
              "      <th>Year</th>\n",
              "      <th>Age Group</th>\n",
              "      <th>Death Rate</th>\n",
              "    </tr>\n",
              "  </thead>\n",
              "  <tbody>\n",
              "    <tr>\n",
              "      <th>0</th>\n",
              "      <td>1900</td>\n",
              "      <td>1-4 Years</td>\n",
              "      <td>1983.8</td>\n",
              "    </tr>\n",
              "    <tr>\n",
              "      <th>1</th>\n",
              "      <td>1901</td>\n",
              "      <td>1-4 Years</td>\n",
              "      <td>1695.0</td>\n",
              "    </tr>\n",
              "    <tr>\n",
              "      <th>2</th>\n",
              "      <td>1902</td>\n",
              "      <td>1-4 Years</td>\n",
              "      <td>1655.7</td>\n",
              "    </tr>\n",
              "    <tr>\n",
              "      <th>3</th>\n",
              "      <td>1903</td>\n",
              "      <td>1-4 Years</td>\n",
              "      <td>1542.1</td>\n",
              "    </tr>\n",
              "    <tr>\n",
              "      <th>4</th>\n",
              "      <td>1904</td>\n",
              "      <td>1-4 Years</td>\n",
              "      <td>1591.5</td>\n",
              "    </tr>\n",
              "  </tbody>\n",
              "</table>\n",
              "</div>"
            ],
            "text/plain": [
              "   Year  Age Group  Death Rate\n",
              "0  1900  1-4 Years      1983.8\n",
              "1  1901  1-4 Years      1695.0\n",
              "2  1902  1-4 Years      1655.7\n",
              "3  1903  1-4 Years      1542.1\n",
              "4  1904  1-4 Years      1591.5"
            ]
          },
          "execution_count": 9,
          "metadata": {},
          "output_type": "execute_result"
        }
      ],
      "source": [
        "mortality_data.head()"
      ]
    },
    {
      "cell_type": "markdown",
      "metadata": {
        "id": "1Dqfcva2E1VI"
      },
      "source": [
        "## Examine and clean the data"
      ]
    },
    {
      "cell_type": "markdown",
      "metadata": {
        "id": "DJ8gUYvzE1VJ"
      },
      "source": [
        "### Display the data"
      ]
    },
    {
      "cell_type": "code",
      "execution_count": null,
      "metadata": {
        "id": "VfK5wmvzE1VJ",
        "outputId": "48e9c3e7-65e1-4176-d692-17c6975333ba"
      },
      "outputs": [
        {
          "data": {
            "text/html": [
              "<div>\n",
              "<style scoped>\n",
              "    .dataframe tbody tr th:only-of-type {\n",
              "        vertical-align: middle;\n",
              "    }\n",
              "\n",
              "    .dataframe tbody tr th {\n",
              "        vertical-align: top;\n",
              "    }\n",
              "\n",
              "    .dataframe thead th {\n",
              "        text-align: right;\n",
              "    }\n",
              "</style>\n",
              "<table border=\"1\" class=\"dataframe\">\n",
              "  <thead>\n",
              "    <tr style=\"text-align: right;\">\n",
              "      <th></th>\n",
              "      <th>Year</th>\n",
              "      <th>Age Group</th>\n",
              "      <th>Death Rate</th>\n",
              "    </tr>\n",
              "  </thead>\n",
              "  <tbody>\n",
              "    <tr>\n",
              "      <th>0</th>\n",
              "      <td>1900</td>\n",
              "      <td>1-4 Years</td>\n",
              "      <td>1983.8</td>\n",
              "    </tr>\n",
              "    <tr>\n",
              "      <th>1</th>\n",
              "      <td>1901</td>\n",
              "      <td>1-4 Years</td>\n",
              "      <td>1695.0</td>\n",
              "    </tr>\n",
              "    <tr>\n",
              "      <th>2</th>\n",
              "      <td>1902</td>\n",
              "      <td>1-4 Years</td>\n",
              "      <td>1655.7</td>\n",
              "    </tr>\n",
              "    <tr>\n",
              "      <th>3</th>\n",
              "      <td>1903</td>\n",
              "      <td>1-4 Years</td>\n",
              "      <td>1542.1</td>\n",
              "    </tr>\n",
              "    <tr>\n",
              "      <th>4</th>\n",
              "      <td>1904</td>\n",
              "      <td>1-4 Years</td>\n",
              "      <td>1591.5</td>\n",
              "    </tr>\n",
              "    <tr>\n",
              "      <th>5</th>\n",
              "      <td>1905</td>\n",
              "      <td>1-4 Years</td>\n",
              "      <td>1498.9</td>\n",
              "    </tr>\n",
              "    <tr>\n",
              "      <th>6</th>\n",
              "      <td>1906</td>\n",
              "      <td>1-4 Years</td>\n",
              "      <td>1580.0</td>\n",
              "    </tr>\n",
              "    <tr>\n",
              "      <th>7</th>\n",
              "      <td>1907</td>\n",
              "      <td>1-4 Years</td>\n",
              "      <td>1468.3</td>\n",
              "    </tr>\n",
              "    <tr>\n",
              "      <th>8</th>\n",
              "      <td>1908</td>\n",
              "      <td>1-4 Years</td>\n",
              "      <td>1396.8</td>\n",
              "    </tr>\n",
              "    <tr>\n",
              "      <th>9</th>\n",
              "      <td>1909</td>\n",
              "      <td>1-4 Years</td>\n",
              "      <td>1348.9</td>\n",
              "    </tr>\n",
              "    <tr>\n",
              "      <th>10</th>\n",
              "      <td>1910</td>\n",
              "      <td>1-4 Years</td>\n",
              "      <td>1397.3</td>\n",
              "    </tr>\n",
              "    <tr>\n",
              "      <th>11</th>\n",
              "      <td>1911</td>\n",
              "      <td>1-4 Years</td>\n",
              "      <td>1176.0</td>\n",
              "    </tr>\n",
              "    <tr>\n",
              "      <th>12</th>\n",
              "      <td>1912</td>\n",
              "      <td>1-4 Years</td>\n",
              "      <td>1094.1</td>\n",
              "    </tr>\n",
              "    <tr>\n",
              "      <th>13</th>\n",
              "      <td>1913</td>\n",
              "      <td>1-4 Years</td>\n",
              "      <td>1193.4</td>\n",
              "    </tr>\n",
              "    <tr>\n",
              "      <th>14</th>\n",
              "      <td>1914</td>\n",
              "      <td>1-4 Years</td>\n",
              "      <td>1024.2</td>\n",
              "    </tr>\n",
              "    <tr>\n",
              "      <th>15</th>\n",
              "      <td>1915</td>\n",
              "      <td>1-4 Years</td>\n",
              "      <td>924.2</td>\n",
              "    </tr>\n",
              "    <tr>\n",
              "      <th>16</th>\n",
              "      <td>1916</td>\n",
              "      <td>1-4 Years</td>\n",
              "      <td>1111.5</td>\n",
              "    </tr>\n",
              "    <tr>\n",
              "      <th>17</th>\n",
              "      <td>1917</td>\n",
              "      <td>1-4 Years</td>\n",
              "      <td>1066.0</td>\n",
              "    </tr>\n",
              "    <tr>\n",
              "      <th>18</th>\n",
              "      <td>1918</td>\n",
              "      <td>1-4 Years</td>\n",
              "      <td>1573.5</td>\n",
              "    </tr>\n",
              "    <tr>\n",
              "      <th>19</th>\n",
              "      <td>1919</td>\n",
              "      <td>1-4 Years</td>\n",
              "      <td>928.0</td>\n",
              "    </tr>\n",
              "    <tr>\n",
              "      <th>20</th>\n",
              "      <td>1920</td>\n",
              "      <td>1-4 Years</td>\n",
              "      <td>987.2</td>\n",
              "    </tr>\n",
              "    <tr>\n",
              "      <th>21</th>\n",
              "      <td>1921</td>\n",
              "      <td>1-4 Years</td>\n",
              "      <td>801.2</td>\n",
              "    </tr>\n",
              "    <tr>\n",
              "      <th>22</th>\n",
              "      <td>1922</td>\n",
              "      <td>1-4 Years</td>\n",
              "      <td>742.0</td>\n",
              "    </tr>\n",
              "    <tr>\n",
              "      <th>23</th>\n",
              "      <td>1923</td>\n",
              "      <td>1-4 Years</td>\n",
              "      <td>806.7</td>\n",
              "    </tr>\n",
              "    <tr>\n",
              "      <th>24</th>\n",
              "      <td>1924</td>\n",
              "      <td>1-4 Years</td>\n",
              "      <td>683.2</td>\n",
              "    </tr>\n",
              "    <tr>\n",
              "      <th>25</th>\n",
              "      <td>1925</td>\n",
              "      <td>1-4 Years</td>\n",
              "      <td>641.0</td>\n",
              "    </tr>\n",
              "    <tr>\n",
              "      <th>26</th>\n",
              "      <td>1926</td>\n",
              "      <td>1-4 Years</td>\n",
              "      <td>723.4</td>\n",
              "    </tr>\n",
              "    <tr>\n",
              "      <th>27</th>\n",
              "      <td>1927</td>\n",
              "      <td>1-4 Years</td>\n",
              "      <td>591.0</td>\n",
              "    </tr>\n",
              "    <tr>\n",
              "      <th>28</th>\n",
              "      <td>1928</td>\n",
              "      <td>1-4 Years</td>\n",
              "      <td>647.5</td>\n",
              "    </tr>\n",
              "    <tr>\n",
              "      <th>29</th>\n",
              "      <td>1929</td>\n",
              "      <td>1-4 Years</td>\n",
              "      <td>625.5</td>\n",
              "    </tr>\n",
              "    <tr>\n",
              "      <th>...</th>\n",
              "      <td>...</td>\n",
              "      <td>...</td>\n",
              "      <td>...</td>\n",
              "    </tr>\n",
              "    <tr>\n",
              "      <th>446</th>\n",
              "      <td>1989</td>\n",
              "      <td>15-19 Years</td>\n",
              "      <td>85.9</td>\n",
              "    </tr>\n",
              "    <tr>\n",
              "      <th>447</th>\n",
              "      <td>1990</td>\n",
              "      <td>15-19 Years</td>\n",
              "      <td>87.9</td>\n",
              "    </tr>\n",
              "    <tr>\n",
              "      <th>448</th>\n",
              "      <td>1991</td>\n",
              "      <td>15-19 Years</td>\n",
              "      <td>88.7</td>\n",
              "    </tr>\n",
              "    <tr>\n",
              "      <th>449</th>\n",
              "      <td>1992</td>\n",
              "      <td>15-19 Years</td>\n",
              "      <td>83.6</td>\n",
              "    </tr>\n",
              "    <tr>\n",
              "      <th>450</th>\n",
              "      <td>1993</td>\n",
              "      <td>15-19 Years</td>\n",
              "      <td>85.8</td>\n",
              "    </tr>\n",
              "    <tr>\n",
              "      <th>451</th>\n",
              "      <td>1994</td>\n",
              "      <td>15-19 Years</td>\n",
              "      <td>85.5</td>\n",
              "    </tr>\n",
              "    <tr>\n",
              "      <th>452</th>\n",
              "      <td>1995</td>\n",
              "      <td>15-19 Years</td>\n",
              "      <td>82.1</td>\n",
              "    </tr>\n",
              "    <tr>\n",
              "      <th>453</th>\n",
              "      <td>1996</td>\n",
              "      <td>15-19 Years</td>\n",
              "      <td>77.5</td>\n",
              "    </tr>\n",
              "    <tr>\n",
              "      <th>454</th>\n",
              "      <td>1997</td>\n",
              "      <td>15-19 Years</td>\n",
              "      <td>73.6</td>\n",
              "    </tr>\n",
              "    <tr>\n",
              "      <th>455</th>\n",
              "      <td>1998</td>\n",
              "      <td>15-19 Years</td>\n",
              "      <td>69.5</td>\n",
              "    </tr>\n",
              "    <tr>\n",
              "      <th>456</th>\n",
              "      <td>1999</td>\n",
              "      <td>15-19 Years</td>\n",
              "      <td>68.6</td>\n",
              "    </tr>\n",
              "    <tr>\n",
              "      <th>457</th>\n",
              "      <td>2000</td>\n",
              "      <td>15-19 Years</td>\n",
              "      <td>67.1</td>\n",
              "    </tr>\n",
              "    <tr>\n",
              "      <th>458</th>\n",
              "      <td>2001</td>\n",
              "      <td>15-19 Years</td>\n",
              "      <td>66.3</td>\n",
              "    </tr>\n",
              "    <tr>\n",
              "      <th>459</th>\n",
              "      <td>2002</td>\n",
              "      <td>15-19 Years</td>\n",
              "      <td>67.0</td>\n",
              "    </tr>\n",
              "    <tr>\n",
              "      <th>460</th>\n",
              "      <td>2003</td>\n",
              "      <td>15-19 Years</td>\n",
              "      <td>65.4</td>\n",
              "    </tr>\n",
              "    <tr>\n",
              "      <th>461</th>\n",
              "      <td>2004</td>\n",
              "      <td>15-19 Years</td>\n",
              "      <td>64.9</td>\n",
              "    </tr>\n",
              "    <tr>\n",
              "      <th>462</th>\n",
              "      <td>2005</td>\n",
              "      <td>15-19 Years</td>\n",
              "      <td>63.8</td>\n",
              "    </tr>\n",
              "    <tr>\n",
              "      <th>463</th>\n",
              "      <td>2006</td>\n",
              "      <td>15-19 Years</td>\n",
              "      <td>63.0</td>\n",
              "    </tr>\n",
              "    <tr>\n",
              "      <th>464</th>\n",
              "      <td>2007</td>\n",
              "      <td>15-19 Years</td>\n",
              "      <td>60.3</td>\n",
              "    </tr>\n",
              "    <tr>\n",
              "      <th>465</th>\n",
              "      <td>2008</td>\n",
              "      <td>15-19 Years</td>\n",
              "      <td>55.9</td>\n",
              "    </tr>\n",
              "    <tr>\n",
              "      <th>466</th>\n",
              "      <td>2009</td>\n",
              "      <td>15-19 Years</td>\n",
              "      <td>51.9</td>\n",
              "    </tr>\n",
              "    <tr>\n",
              "      <th>467</th>\n",
              "      <td>2010</td>\n",
              "      <td>15-19 Years</td>\n",
              "      <td>49.4</td>\n",
              "    </tr>\n",
              "    <tr>\n",
              "      <th>468</th>\n",
              "      <td>2011</td>\n",
              "      <td>15-19 Years</td>\n",
              "      <td>48.9</td>\n",
              "    </tr>\n",
              "    <tr>\n",
              "      <th>469</th>\n",
              "      <td>2012</td>\n",
              "      <td>15-19 Years</td>\n",
              "      <td>47.2</td>\n",
              "    </tr>\n",
              "    <tr>\n",
              "      <th>470</th>\n",
              "      <td>2013</td>\n",
              "      <td>15-19 Years</td>\n",
              "      <td>44.8</td>\n",
              "    </tr>\n",
              "    <tr>\n",
              "      <th>471</th>\n",
              "      <td>2014</td>\n",
              "      <td>15-19 Years</td>\n",
              "      <td>45.5</td>\n",
              "    </tr>\n",
              "    <tr>\n",
              "      <th>472</th>\n",
              "      <td>2015</td>\n",
              "      <td>15-19 Years</td>\n",
              "      <td>48.3</td>\n",
              "    </tr>\n",
              "    <tr>\n",
              "      <th>473</th>\n",
              "      <td>2016</td>\n",
              "      <td>15-19 Years</td>\n",
              "      <td>51.2</td>\n",
              "    </tr>\n",
              "    <tr>\n",
              "      <th>474</th>\n",
              "      <td>2017</td>\n",
              "      <td>15-19 Years</td>\n",
              "      <td>51.5</td>\n",
              "    </tr>\n",
              "    <tr>\n",
              "      <th>475</th>\n",
              "      <td>2018</td>\n",
              "      <td>15-19 Years</td>\n",
              "      <td>49.2</td>\n",
              "    </tr>\n",
              "  </tbody>\n",
              "</table>\n",
              "<p>476 rows × 3 columns</p>\n",
              "</div>"
            ],
            "text/plain": [
              "     Year    Age Group  Death Rate\n",
              "0    1900    1-4 Years      1983.8\n",
              "1    1901    1-4 Years      1695.0\n",
              "2    1902    1-4 Years      1655.7\n",
              "3    1903    1-4 Years      1542.1\n",
              "4    1904    1-4 Years      1591.5\n",
              "5    1905    1-4 Years      1498.9\n",
              "6    1906    1-4 Years      1580.0\n",
              "7    1907    1-4 Years      1468.3\n",
              "8    1908    1-4 Years      1396.8\n",
              "9    1909    1-4 Years      1348.9\n",
              "10   1910    1-4 Years      1397.3\n",
              "11   1911    1-4 Years      1176.0\n",
              "12   1912    1-4 Years      1094.1\n",
              "13   1913    1-4 Years      1193.4\n",
              "14   1914    1-4 Years      1024.2\n",
              "15   1915    1-4 Years       924.2\n",
              "16   1916    1-4 Years      1111.5\n",
              "17   1917    1-4 Years      1066.0\n",
              "18   1918    1-4 Years      1573.5\n",
              "19   1919    1-4 Years       928.0\n",
              "20   1920    1-4 Years       987.2\n",
              "21   1921    1-4 Years       801.2\n",
              "22   1922    1-4 Years       742.0\n",
              "23   1923    1-4 Years       806.7\n",
              "24   1924    1-4 Years       683.2\n",
              "25   1925    1-4 Years       641.0\n",
              "26   1926    1-4 Years       723.4\n",
              "27   1927    1-4 Years       591.0\n",
              "28   1928    1-4 Years       647.5\n",
              "29   1929    1-4 Years       625.5\n",
              "..    ...          ...         ...\n",
              "446  1989  15-19 Years        85.9\n",
              "447  1990  15-19 Years        87.9\n",
              "448  1991  15-19 Years        88.7\n",
              "449  1992  15-19 Years        83.6\n",
              "450  1993  15-19 Years        85.8\n",
              "451  1994  15-19 Years        85.5\n",
              "452  1995  15-19 Years        82.1\n",
              "453  1996  15-19 Years        77.5\n",
              "454  1997  15-19 Years        73.6\n",
              "455  1998  15-19 Years        69.5\n",
              "456  1999  15-19 Years        68.6\n",
              "457  2000  15-19 Years        67.1\n",
              "458  2001  15-19 Years        66.3\n",
              "459  2002  15-19 Years        67.0\n",
              "460  2003  15-19 Years        65.4\n",
              "461  2004  15-19 Years        64.9\n",
              "462  2005  15-19 Years        63.8\n",
              "463  2006  15-19 Years        63.0\n",
              "464  2007  15-19 Years        60.3\n",
              "465  2008  15-19 Years        55.9\n",
              "466  2009  15-19 Years        51.9\n",
              "467  2010  15-19 Years        49.4\n",
              "468  2011  15-19 Years        48.9\n",
              "469  2012  15-19 Years        47.2\n",
              "470  2013  15-19 Years        44.8\n",
              "471  2014  15-19 Years        45.5\n",
              "472  2015  15-19 Years        48.3\n",
              "473  2016  15-19 Years        51.2\n",
              "474  2017  15-19 Years        51.5\n",
              "475  2018  15-19 Years        49.2\n",
              "\n",
              "[476 rows x 3 columns]"
            ]
          },
          "execution_count": 10,
          "metadata": {},
          "output_type": "execute_result"
        }
      ],
      "source": [
        "mortality_data"
      ]
    },
    {
      "cell_type": "code",
      "execution_count": null,
      "metadata": {
        "id": "Y3RvzRuBE1VK",
        "outputId": "7962f869-7c86-4d1f-bf0e-a9304a016014"
      },
      "outputs": [
        {
          "data": {
            "text/html": [
              "<div>\n",
              "<style scoped>\n",
              "    .dataframe tbody tr th:only-of-type {\n",
              "        vertical-align: middle;\n",
              "    }\n",
              "\n",
              "    .dataframe tbody tr th {\n",
              "        vertical-align: top;\n",
              "    }\n",
              "\n",
              "    .dataframe thead th {\n",
              "        text-align: right;\n",
              "    }\n",
              "</style>\n",
              "<table border=\"1\" class=\"dataframe\">\n",
              "  <thead>\n",
              "    <tr style=\"text-align: right;\">\n",
              "      <th></th>\n",
              "      <th>Year</th>\n",
              "      <th>Age Group</th>\n",
              "      <th>Death Rate</th>\n",
              "    </tr>\n",
              "  </thead>\n",
              "  <tbody>\n",
              "    <tr>\n",
              "      <th>0</th>\n",
              "      <td>1900</td>\n",
              "      <td>1-4 Years</td>\n",
              "      <td>1983.8</td>\n",
              "    </tr>\n",
              "    <tr>\n",
              "      <th>1</th>\n",
              "      <td>1901</td>\n",
              "      <td>1-4 Years</td>\n",
              "      <td>1695.0</td>\n",
              "    </tr>\n",
              "    <tr>\n",
              "      <th>2</th>\n",
              "      <td>1902</td>\n",
              "      <td>1-4 Years</td>\n",
              "      <td>1655.7</td>\n",
              "    </tr>\n",
              "    <tr>\n",
              "      <th>3</th>\n",
              "      <td>1903</td>\n",
              "      <td>1-4 Years</td>\n",
              "      <td>1542.1</td>\n",
              "    </tr>\n",
              "    <tr>\n",
              "      <th>4</th>\n",
              "      <td>1904</td>\n",
              "      <td>1-4 Years</td>\n",
              "      <td>1591.5</td>\n",
              "    </tr>\n",
              "  </tbody>\n",
              "</table>\n",
              "</div>"
            ],
            "text/plain": [
              "   Year  Age Group  Death Rate\n",
              "0  1900  1-4 Years      1983.8\n",
              "1  1901  1-4 Years      1695.0\n",
              "2  1902  1-4 Years      1655.7\n",
              "3  1903  1-4 Years      1542.1\n",
              "4  1904  1-4 Years      1591.5"
            ]
          },
          "execution_count": 11,
          "metadata": {},
          "output_type": "execute_result"
        }
      ],
      "source": [
        "mortality_data.head()"
      ]
    },
    {
      "cell_type": "code",
      "execution_count": null,
      "metadata": {
        "id": "nzgMYEsRE1VK",
        "outputId": "676d528a-3897-4f4e-c81d-e39b5c305c9a"
      },
      "outputs": [
        {
          "data": {
            "text/html": [
              "<div>\n",
              "<style scoped>\n",
              "    .dataframe tbody tr th:only-of-type {\n",
              "        vertical-align: middle;\n",
              "    }\n",
              "\n",
              "    .dataframe tbody tr th {\n",
              "        vertical-align: top;\n",
              "    }\n",
              "\n",
              "    .dataframe thead th {\n",
              "        text-align: right;\n",
              "    }\n",
              "</style>\n",
              "<table border=\"1\" class=\"dataframe\">\n",
              "  <thead>\n",
              "    <tr style=\"text-align: right;\">\n",
              "      <th></th>\n",
              "      <th>Year</th>\n",
              "      <th>Age Group</th>\n",
              "      <th>Death Rate</th>\n",
              "    </tr>\n",
              "  </thead>\n",
              "  <tbody>\n",
              "    <tr>\n",
              "      <th>473</th>\n",
              "      <td>2016</td>\n",
              "      <td>15-19 Years</td>\n",
              "      <td>51.2</td>\n",
              "    </tr>\n",
              "    <tr>\n",
              "      <th>474</th>\n",
              "      <td>2017</td>\n",
              "      <td>15-19 Years</td>\n",
              "      <td>51.5</td>\n",
              "    </tr>\n",
              "    <tr>\n",
              "      <th>475</th>\n",
              "      <td>2018</td>\n",
              "      <td>15-19 Years</td>\n",
              "      <td>49.2</td>\n",
              "    </tr>\n",
              "  </tbody>\n",
              "</table>\n",
              "</div>"
            ],
            "text/plain": [
              "     Year    Age Group  Death Rate\n",
              "473  2016  15-19 Years        51.2\n",
              "474  2017  15-19 Years        51.5\n",
              "475  2018  15-19 Years        49.2"
            ]
          },
          "execution_count": 12,
          "metadata": {},
          "output_type": "execute_result"
        }
      ],
      "source": [
        "mortality_data.tail(3)"
      ]
    },
    {
      "cell_type": "code",
      "execution_count": null,
      "metadata": {
        "id": "03nG1-ruE1VL",
        "outputId": "762855b0-231b-4685-979d-2a8bab619c6c"
      },
      "outputs": [
        {
          "data": {
            "text/html": [
              "<div>\n",
              "<style scoped>\n",
              "    .dataframe tbody tr th:only-of-type {\n",
              "        vertical-align: middle;\n",
              "    }\n",
              "\n",
              "    .dataframe tbody tr th {\n",
              "        vertical-align: top;\n",
              "    }\n",
              "\n",
              "    .dataframe thead th {\n",
              "        text-align: right;\n",
              "    }\n",
              "</style>\n",
              "<table border=\"1\" class=\"dataframe\">\n",
              "  <thead>\n",
              "    <tr style=\"text-align: right;\">\n",
              "      <th></th>\n",
              "      <th>Year</th>\n",
              "      <th>Age Group</th>\n",
              "      <th>Death Rate</th>\n",
              "    </tr>\n",
              "  </thead>\n",
              "  <tbody>\n",
              "    <tr>\n",
              "      <th>0</th>\n",
              "      <td>1900</td>\n",
              "      <td>1-4 Years</td>\n",
              "      <td>1983.8</td>\n",
              "    </tr>\n",
              "    <tr>\n",
              "      <th>1</th>\n",
              "      <td>1901</td>\n",
              "      <td>1-4 Years</td>\n",
              "      <td>1695.0</td>\n",
              "    </tr>\n",
              "    <tr>\n",
              "      <th>...</th>\n",
              "      <td>...</td>\n",
              "      <td>...</td>\n",
              "      <td>...</td>\n",
              "    </tr>\n",
              "    <tr>\n",
              "      <th>474</th>\n",
              "      <td>2017</td>\n",
              "      <td>15-19 Years</td>\n",
              "      <td>51.5</td>\n",
              "    </tr>\n",
              "    <tr>\n",
              "      <th>475</th>\n",
              "      <td>2018</td>\n",
              "      <td>15-19 Years</td>\n",
              "      <td>49.2</td>\n",
              "    </tr>\n",
              "  </tbody>\n",
              "</table>\n",
              "<p>476 rows × 3 columns</p>\n",
              "</div>"
            ],
            "text/plain": [
              "     Year    Age Group  Death Rate\n",
              "0    1900    1-4 Years      1983.8\n",
              "1    1901    1-4 Years      1695.0\n",
              "..    ...          ...         ...\n",
              "474  2017  15-19 Years        51.5\n",
              "475  2018  15-19 Years        49.2\n",
              "\n",
              "[476 rows x 3 columns]"
            ]
          },
          "metadata": {},
          "output_type": "display_data"
        }
      ],
      "source": [
        "with pd.option_context(\n",
        "    'display.max_rows', 5,\n",
        "    'display.max_columns', None):\n",
        "    display(mortality_data)"
      ]
    },
    {
      "cell_type": "markdown",
      "metadata": {
        "id": "9Jmemm-_E1VL"
      },
      "source": [
        "### Display the DataFrame attributes"
      ]
    },
    {
      "cell_type": "code",
      "execution_count": null,
      "metadata": {
        "id": "BYCqMB-4E1VM",
        "outputId": "e2646295-190b-4660-cb1e-c35c86da86e7"
      },
      "outputs": [
        {
          "data": {
            "text/plain": [
              "array([[1900, '1-4 Years', 1983.8],\n",
              "       [1901, '1-4 Years', 1695.0],\n",
              "       [1902, '1-4 Years', 1655.7],\n",
              "       ...,\n",
              "       [2016, '15-19 Years', 51.2],\n",
              "       [2017, '15-19 Years', 51.5],\n",
              "       [2018, '15-19 Years', 49.2]], dtype=object)"
            ]
          },
          "execution_count": 14,
          "metadata": {},
          "output_type": "execute_result"
        }
      ],
      "source": [
        "mortality_data.values"
      ]
    },
    {
      "cell_type": "code",
      "execution_count": null,
      "metadata": {
        "id": "pCdYZ4mVE1VM",
        "outputId": "908a9923-058c-4f63-be5b-0f14206b8eaa"
      },
      "outputs": [
        {
          "name": "stdout",
          "output_type": "stream",
          "text": [
            "Index:   RangeIndex(start=0, stop=476, step=1)\n",
            "Columns: Index(['Year', 'Age Group', 'Death Rate'], dtype='object')\n",
            "Size:    1428\n",
            "Shape:   (476, 3)\n"
          ]
        }
      ],
      "source": [
        "print(\"Index:  \", mortality_data.index)\n",
        "print(\"Columns:\", mortality_data.columns)\n",
        "print(\"Size:   \", mortality_data.size)\n",
        "print(\"Shape:  \", mortality_data.shape)"
      ]
    },
    {
      "cell_type": "markdown",
      "metadata": {
        "id": "1BL02NIcE1VM"
      },
      "source": [
        "### Use the columns attribute to replace spaces with nothing"
      ]
    },
    {
      "cell_type": "code",
      "execution_count": null,
      "metadata": {
        "id": "Wgm_mcfqE1VN"
      },
      "outputs": [],
      "source": [
        "mortality_data.columns = mortality_data.columns.str.replace(' ', '')"
      ]
    },
    {
      "cell_type": "code",
      "execution_count": null,
      "metadata": {
        "id": "ogvfIMFHE1VN",
        "outputId": "75d31f45-5667-4ab5-c4d4-ba87b1d7e8d8"
      },
      "outputs": [
        {
          "data": {
            "text/plain": [
              "Index(['Year', 'AgeGroup', 'DeathRate'], dtype='object')"
            ]
          },
          "execution_count": 17,
          "metadata": {},
          "output_type": "execute_result"
        }
      ],
      "source": [
        "mortality_data.columns"
      ]
    },
    {
      "cell_type": "code",
      "execution_count": null,
      "metadata": {
        "id": "xoncwGQuE1VN",
        "outputId": "1ede5ffd-1247-410e-881b-0c60e807bafb"
      },
      "outputs": [
        {
          "data": {
            "text/html": [
              "<div>\n",
              "<style scoped>\n",
              "    .dataframe tbody tr th:only-of-type {\n",
              "        vertical-align: middle;\n",
              "    }\n",
              "\n",
              "    .dataframe tbody tr th {\n",
              "        vertical-align: top;\n",
              "    }\n",
              "\n",
              "    .dataframe thead th {\n",
              "        text-align: right;\n",
              "    }\n",
              "</style>\n",
              "<table border=\"1\" class=\"dataframe\">\n",
              "  <thead>\n",
              "    <tr style=\"text-align: right;\">\n",
              "      <th></th>\n",
              "      <th>Year</th>\n",
              "      <th>AgeGroup</th>\n",
              "      <th>DeathRate</th>\n",
              "    </tr>\n",
              "  </thead>\n",
              "  <tbody>\n",
              "    <tr>\n",
              "      <th>0</th>\n",
              "      <td>1900</td>\n",
              "      <td>1-4 Years</td>\n",
              "      <td>1983.8</td>\n",
              "    </tr>\n",
              "    <tr>\n",
              "      <th>1</th>\n",
              "      <td>1901</td>\n",
              "      <td>1-4 Years</td>\n",
              "      <td>1695.0</td>\n",
              "    </tr>\n",
              "    <tr>\n",
              "      <th>2</th>\n",
              "      <td>1902</td>\n",
              "      <td>1-4 Years</td>\n",
              "      <td>1655.7</td>\n",
              "    </tr>\n",
              "    <tr>\n",
              "      <th>3</th>\n",
              "      <td>1903</td>\n",
              "      <td>1-4 Years</td>\n",
              "      <td>1542.1</td>\n",
              "    </tr>\n",
              "    <tr>\n",
              "      <th>4</th>\n",
              "      <td>1904</td>\n",
              "      <td>1-4 Years</td>\n",
              "      <td>1591.5</td>\n",
              "    </tr>\n",
              "  </tbody>\n",
              "</table>\n",
              "</div>"
            ],
            "text/plain": [
              "   Year   AgeGroup  DeathRate\n",
              "0  1900  1-4 Years     1983.8\n",
              "1  1901  1-4 Years     1695.0\n",
              "2  1902  1-4 Years     1655.7\n",
              "3  1903  1-4 Years     1542.1\n",
              "4  1904  1-4 Years     1591.5"
            ]
          },
          "execution_count": 18,
          "metadata": {},
          "output_type": "execute_result"
        }
      ],
      "source": [
        "mortality_data.head()"
      ]
    },
    {
      "cell_type": "markdown",
      "metadata": {
        "id": "liK7JHSVE1VN"
      },
      "source": [
        "### Use the info(), nunique(), and describe() methods"
      ]
    },
    {
      "cell_type": "code",
      "execution_count": null,
      "metadata": {
        "id": "CRer-sX1E1VO",
        "outputId": "2340eaf7-8f24-4138-e47d-d513fdcf508e"
      },
      "outputs": [
        {
          "name": "stdout",
          "output_type": "stream",
          "text": [
            "<class 'pandas.core.frame.DataFrame'>\n",
            "RangeIndex: 476 entries, 0 to 475\n",
            "Data columns (total 3 columns):\n",
            "Year         476 non-null int64\n",
            "AgeGroup     476 non-null object\n",
            "DeathRate    476 non-null float64\n",
            "dtypes: float64(1), int64(1), object(1)\n",
            "memory usage: 11.2+ KB\n"
          ]
        }
      ],
      "source": [
        "mortality_data.info()"
      ]
    },
    {
      "cell_type": "code",
      "execution_count": null,
      "metadata": {
        "id": "m-MJjYxJE1VO",
        "outputId": "83773798-6428-4176-8539-22f90b33a300"
      },
      "outputs": [
        {
          "name": "stdout",
          "output_type": "stream",
          "text": [
            "<class 'pandas.core.frame.DataFrame'>\n",
            "RangeIndex: 476 entries, 0 to 475\n",
            "Data columns (total 3 columns):\n",
            "Year         476 non-null int64\n",
            "AgeGroup     476 non-null object\n",
            "DeathRate    476 non-null float64\n",
            "dtypes: float64(1), int64(1), object(1)\n",
            "memory usage: 38.7 KB\n"
          ]
        }
      ],
      "source": [
        "mortality_data.info(memory_usage='deep')"
      ]
    },
    {
      "cell_type": "code",
      "execution_count": null,
      "metadata": {
        "id": "2N61JDxUE1VO",
        "outputId": "b3e00efd-cd16-48fc-83c8-c3f00db42067"
      },
      "outputs": [
        {
          "data": {
            "text/plain": [
              "Year         119\n",
              "AgeGroup       4\n",
              "DeathRate    430\n",
              "dtype: int64"
            ]
          },
          "execution_count": 21,
          "metadata": {},
          "output_type": "execute_result"
        }
      ],
      "source": [
        "mortality_data.nunique()"
      ]
    },
    {
      "cell_type": "code",
      "execution_count": null,
      "metadata": {
        "id": "iqMejShsE1VO",
        "outputId": "0f9ec7ec-cecd-4e1f-b1c3-f070bd975e6f"
      },
      "outputs": [
        {
          "data": {
            "text/html": [
              "<div>\n",
              "<style scoped>\n",
              "    .dataframe tbody tr th:only-of-type {\n",
              "        vertical-align: middle;\n",
              "    }\n",
              "\n",
              "    .dataframe tbody tr th {\n",
              "        vertical-align: top;\n",
              "    }\n",
              "\n",
              "    .dataframe thead th {\n",
              "        text-align: right;\n",
              "    }\n",
              "</style>\n",
              "<table border=\"1\" class=\"dataframe\">\n",
              "  <thead>\n",
              "    <tr style=\"text-align: right;\">\n",
              "      <th></th>\n",
              "      <th>Year</th>\n",
              "      <th>DeathRate</th>\n",
              "    </tr>\n",
              "  </thead>\n",
              "  <tbody>\n",
              "    <tr>\n",
              "      <th>count</th>\n",
              "      <td>476.000000</td>\n",
              "      <td>476.000000</td>\n",
              "    </tr>\n",
              "    <tr>\n",
              "      <th>mean</th>\n",
              "      <td>1959.000000</td>\n",
              "      <td>192.924160</td>\n",
              "    </tr>\n",
              "    <tr>\n",
              "      <th>std</th>\n",
              "      <td>34.387268</td>\n",
              "      <td>293.224216</td>\n",
              "    </tr>\n",
              "    <tr>\n",
              "      <th>min</th>\n",
              "      <td>1900.000000</td>\n",
              "      <td>11.400000</td>\n",
              "    </tr>\n",
              "    <tr>\n",
              "      <th>25%</th>\n",
              "      <td>1929.000000</td>\n",
              "      <td>40.575000</td>\n",
              "    </tr>\n",
              "    <tr>\n",
              "      <th>50%</th>\n",
              "      <td>1959.000000</td>\n",
              "      <td>89.500000</td>\n",
              "    </tr>\n",
              "    <tr>\n",
              "      <th>75%</th>\n",
              "      <td>1989.000000</td>\n",
              "      <td>222.575000</td>\n",
              "    </tr>\n",
              "    <tr>\n",
              "      <th>max</th>\n",
              "      <td>2018.000000</td>\n",
              "      <td>1983.800000</td>\n",
              "    </tr>\n",
              "  </tbody>\n",
              "</table>\n",
              "</div>"
            ],
            "text/plain": [
              "              Year    DeathRate\n",
              "count   476.000000   476.000000\n",
              "mean   1959.000000   192.924160\n",
              "std      34.387268   293.224216\n",
              "min    1900.000000    11.400000\n",
              "25%    1929.000000    40.575000\n",
              "50%    1959.000000    89.500000\n",
              "75%    1989.000000   222.575000\n",
              "max    2018.000000  1983.800000"
            ]
          },
          "execution_count": 22,
          "metadata": {},
          "output_type": "execute_result"
        }
      ],
      "source": [
        "mortality_data.describe()"
      ]
    },
    {
      "cell_type": "code",
      "execution_count": null,
      "metadata": {
        "id": "Z93DjwSyE1VO",
        "outputId": "96c4fe8d-3536-495e-b7ae-bab00faed343"
      },
      "outputs": [
        {
          "data": {
            "text/html": [
              "<div>\n",
              "<style scoped>\n",
              "    .dataframe tbody tr th:only-of-type {\n",
              "        vertical-align: middle;\n",
              "    }\n",
              "\n",
              "    .dataframe tbody tr th {\n",
              "        vertical-align: top;\n",
              "    }\n",
              "\n",
              "    .dataframe thead th {\n",
              "        text-align: right;\n",
              "    }\n",
              "</style>\n",
              "<table border=\"1\" class=\"dataframe\">\n",
              "  <thead>\n",
              "    <tr style=\"text-align: right;\">\n",
              "      <th></th>\n",
              "      <th>count</th>\n",
              "      <th>mean</th>\n",
              "      <th>std</th>\n",
              "      <th>min</th>\n",
              "      <th>25%</th>\n",
              "      <th>50%</th>\n",
              "      <th>75%</th>\n",
              "      <th>max</th>\n",
              "    </tr>\n",
              "  </thead>\n",
              "  <tbody>\n",
              "    <tr>\n",
              "      <th>Year</th>\n",
              "      <td>476.0</td>\n",
              "      <td>1959.00000</td>\n",
              "      <td>34.387268</td>\n",
              "      <td>1900.0</td>\n",
              "      <td>1929.000</td>\n",
              "      <td>1959.0</td>\n",
              "      <td>1989.000</td>\n",
              "      <td>2018.0</td>\n",
              "    </tr>\n",
              "    <tr>\n",
              "      <th>DeathRate</th>\n",
              "      <td>476.0</td>\n",
              "      <td>192.92416</td>\n",
              "      <td>293.224216</td>\n",
              "      <td>11.4</td>\n",
              "      <td>40.575</td>\n",
              "      <td>89.5</td>\n",
              "      <td>222.575</td>\n",
              "      <td>1983.8</td>\n",
              "    </tr>\n",
              "  </tbody>\n",
              "</table>\n",
              "</div>"
            ],
            "text/plain": [
              "           count        mean         std     min       25%     50%       75%  \\\n",
              "Year       476.0  1959.00000   34.387268  1900.0  1929.000  1959.0  1989.000   \n",
              "DeathRate  476.0   192.92416  293.224216    11.4    40.575    89.5   222.575   \n",
              "\n",
              "              max  \n",
              "Year       2018.0  \n",
              "DeathRate  1983.8  "
            ]
          },
          "execution_count": 23,
          "metadata": {},
          "output_type": "execute_result"
        }
      ],
      "source": [
        "mortality_data.describe().T"
      ]
    },
    {
      "cell_type": "markdown",
      "metadata": {
        "id": "H8rVLf7nE1VO"
      },
      "source": [
        "## Access the data"
      ]
    },
    {
      "cell_type": "markdown",
      "metadata": {
        "id": "-s2hR8zKE1VP"
      },
      "source": [
        "### Access columns"
      ]
    },
    {
      "cell_type": "code",
      "execution_count": null,
      "metadata": {
        "id": "61y7vHsiE1VP",
        "outputId": "2a42479c-f1e0-42a0-d16a-d1c194fd1b77"
      },
      "outputs": [
        {
          "data": {
            "text/plain": [
              "0    1983.8\n",
              "1    1695.0\n",
              "Name: DeathRate, dtype: float64"
            ]
          },
          "execution_count": 24,
          "metadata": {},
          "output_type": "execute_result"
        }
      ],
      "source": [
        "mortality_data.DeathRate.head(2)"
      ]
    },
    {
      "cell_type": "code",
      "execution_count": null,
      "metadata": {
        "id": "CVHMqcV-E1VP",
        "outputId": "8a34a675-204d-4e51-b86b-415dc737c526"
      },
      "outputs": [
        {
          "data": {
            "text/plain": [
              "pandas.core.series.Series"
            ]
          },
          "execution_count": 25,
          "metadata": {},
          "output_type": "execute_result"
        }
      ],
      "source": [
        "type(mortality_data.DeathRate)"
      ]
    },
    {
      "cell_type": "code",
      "execution_count": null,
      "metadata": {
        "id": "qNdj3NUNE1VP",
        "outputId": "17204171-f2dd-4231-d10c-c4a514f490e7"
      },
      "outputs": [
        {
          "data": {
            "text/plain": [
              "0    1983.8\n",
              "1    1695.0\n",
              "Name: DeathRate, dtype: float64"
            ]
          },
          "execution_count": 26,
          "metadata": {},
          "output_type": "execute_result"
        }
      ],
      "source": [
        "mortality_data['DeathRate'].head(2)"
      ]
    },
    {
      "cell_type": "code",
      "execution_count": null,
      "metadata": {
        "id": "QR94JGNsE1VP",
        "outputId": "ffd6e403-9b52-4bf8-9902-fd429cfaeb68"
      },
      "outputs": [
        {
          "data": {
            "text/html": [
              "<div>\n",
              "<style scoped>\n",
              "    .dataframe tbody tr th:only-of-type {\n",
              "        vertical-align: middle;\n",
              "    }\n",
              "\n",
              "    .dataframe tbody tr th {\n",
              "        vertical-align: top;\n",
              "    }\n",
              "\n",
              "    .dataframe thead th {\n",
              "        text-align: right;\n",
              "    }\n",
              "</style>\n",
              "<table border=\"1\" class=\"dataframe\">\n",
              "  <thead>\n",
              "    <tr style=\"text-align: right;\">\n",
              "      <th></th>\n",
              "      <th>Year</th>\n",
              "      <th>DeathRate</th>\n",
              "    </tr>\n",
              "  </thead>\n",
              "  <tbody>\n",
              "    <tr>\n",
              "      <th>0</th>\n",
              "      <td>1900</td>\n",
              "      <td>1983.8</td>\n",
              "    </tr>\n",
              "    <tr>\n",
              "      <th>1</th>\n",
              "      <td>1901</td>\n",
              "      <td>1695.0</td>\n",
              "    </tr>\n",
              "  </tbody>\n",
              "</table>\n",
              "</div>"
            ],
            "text/plain": [
              "   Year  DeathRate\n",
              "0  1900     1983.8\n",
              "1  1901     1695.0"
            ]
          },
          "execution_count": 27,
          "metadata": {},
          "output_type": "execute_result"
        }
      ],
      "source": [
        "mortality_data[['Year','DeathRate']].head(2)"
      ]
    },
    {
      "cell_type": "code",
      "execution_count": null,
      "metadata": {
        "id": "1O8uQl3jE1VQ",
        "outputId": "bf160163-e7f9-43e0-a0ea-b8896b4b5120"
      },
      "outputs": [
        {
          "data": {
            "text/plain": [
              "pandas.core.frame.DataFrame"
            ]
          },
          "execution_count": 28,
          "metadata": {},
          "output_type": "execute_result"
        }
      ],
      "source": [
        "type(mortality_data[['Year','DeathRate']])"
      ]
    },
    {
      "cell_type": "markdown",
      "metadata": {
        "id": "o8vTIO7xE1VQ"
      },
      "source": [
        "### Access rows"
      ]
    },
    {
      "cell_type": "code",
      "execution_count": null,
      "metadata": {
        "id": "ubGkEFOoE1VQ",
        "outputId": "3804c989-cb74-4de1-cb26-058f8ba73ccd"
      },
      "outputs": [
        {
          "data": {
            "text/html": [
              "<div>\n",
              "<style scoped>\n",
              "    .dataframe tbody tr th:only-of-type {\n",
              "        vertical-align: middle;\n",
              "    }\n",
              "\n",
              "    .dataframe tbody tr th {\n",
              "        vertical-align: top;\n",
              "    }\n",
              "\n",
              "    .dataframe thead th {\n",
              "        text-align: right;\n",
              "    }\n",
              "</style>\n",
              "<table border=\"1\" class=\"dataframe\">\n",
              "  <thead>\n",
              "    <tr style=\"text-align: right;\">\n",
              "      <th></th>\n",
              "      <th>Year</th>\n",
              "      <th>AgeGroup</th>\n",
              "      <th>DeathRate</th>\n",
              "    </tr>\n",
              "  </thead>\n",
              "  <tbody>\n",
              "    <tr>\n",
              "      <th>0</th>\n",
              "      <td>1900</td>\n",
              "      <td>1-4 Years</td>\n",
              "      <td>1983.8</td>\n",
              "    </tr>\n",
              "    <tr>\n",
              "      <th>119</th>\n",
              "      <td>1900</td>\n",
              "      <td>5-9 Years</td>\n",
              "      <td>466.1</td>\n",
              "    </tr>\n",
              "    <tr>\n",
              "      <th>238</th>\n",
              "      <td>1900</td>\n",
              "      <td>10-14 Years</td>\n",
              "      <td>298.3</td>\n",
              "    </tr>\n",
              "    <tr>\n",
              "      <th>357</th>\n",
              "      <td>1900</td>\n",
              "      <td>15-19 Years</td>\n",
              "      <td>484.8</td>\n",
              "    </tr>\n",
              "  </tbody>\n",
              "</table>\n",
              "</div>"
            ],
            "text/plain": [
              "     Year     AgeGroup  DeathRate\n",
              "0    1900    1-4 Years     1983.8\n",
              "119  1900    5-9 Years      466.1\n",
              "238  1900  10-14 Years      298.3\n",
              "357  1900  15-19 Years      484.8"
            ]
          },
          "execution_count": 29,
          "metadata": {},
          "output_type": "execute_result"
        }
      ],
      "source": [
        "mortality_data.query('Year==1900')"
      ]
    },
    {
      "cell_type": "code",
      "execution_count": null,
      "metadata": {
        "id": "_7JbojKWE1VQ",
        "outputId": "1aa3cc92-de41-4a1f-af6b-89370b742fb7"
      },
      "outputs": [
        {
          "data": {
            "text/html": [
              "<div>\n",
              "<style scoped>\n",
              "    .dataframe tbody tr th:only-of-type {\n",
              "        vertical-align: middle;\n",
              "    }\n",
              "\n",
              "    .dataframe tbody tr th {\n",
              "        vertical-align: top;\n",
              "    }\n",
              "\n",
              "    .dataframe thead th {\n",
              "        text-align: right;\n",
              "    }\n",
              "</style>\n",
              "<table border=\"1\" class=\"dataframe\">\n",
              "  <thead>\n",
              "    <tr style=\"text-align: right;\">\n",
              "      <th></th>\n",
              "      <th>Year</th>\n",
              "      <th>AgeGroup</th>\n",
              "      <th>DeathRate</th>\n",
              "    </tr>\n",
              "  </thead>\n",
              "  <tbody>\n",
              "    <tr>\n",
              "      <th>219</th>\n",
              "      <td>2000</td>\n",
              "      <td>5-9 Years</td>\n",
              "      <td>15.8</td>\n",
              "    </tr>\n",
              "    <tr>\n",
              "      <th>338</th>\n",
              "      <td>2000</td>\n",
              "      <td>10-14 Years</td>\n",
              "      <td>20.3</td>\n",
              "    </tr>\n",
              "    <tr>\n",
              "      <th>457</th>\n",
              "      <td>2000</td>\n",
              "      <td>15-19 Years</td>\n",
              "      <td>67.1</td>\n",
              "    </tr>\n",
              "  </tbody>\n",
              "</table>\n",
              "</div>"
            ],
            "text/plain": [
              "     Year     AgeGroup  DeathRate\n",
              "219  2000    5-9 Years       15.8\n",
              "338  2000  10-14 Years       20.3\n",
              "457  2000  15-19 Years       67.1"
            ]
          },
          "execution_count": 30,
          "metadata": {},
          "output_type": "execute_result"
        }
      ],
      "source": [
        "mortality_data.query('Year == 2000 and AgeGroup != \"1-4 Years\"')"
      ]
    },
    {
      "cell_type": "code",
      "execution_count": null,
      "metadata": {
        "id": "y7ahJvXOE1VQ",
        "outputId": "8587dd38-ac77-4502-8fc2-ff7b3ab1649b"
      },
      "outputs": [
        {
          "data": {
            "text/html": [
              "<div>\n",
              "<style scoped>\n",
              "    .dataframe tbody tr th:only-of-type {\n",
              "        vertical-align: middle;\n",
              "    }\n",
              "\n",
              "    .dataframe tbody tr th {\n",
              "        vertical-align: top;\n",
              "    }\n",
              "\n",
              "    .dataframe thead th {\n",
              "        text-align: right;\n",
              "    }\n",
              "</style>\n",
              "<table border=\"1\" class=\"dataframe\">\n",
              "  <thead>\n",
              "    <tr style=\"text-align: right;\">\n",
              "      <th></th>\n",
              "      <th>Year</th>\n",
              "      <th>AgeGroup</th>\n",
              "      <th>DeathRate</th>\n",
              "    </tr>\n",
              "  </thead>\n",
              "  <tbody>\n",
              "    <tr>\n",
              "      <th>0</th>\n",
              "      <td>1900</td>\n",
              "      <td>1-4 Years</td>\n",
              "      <td>1983.8</td>\n",
              "    </tr>\n",
              "    <tr>\n",
              "      <th>100</th>\n",
              "      <td>2000</td>\n",
              "      <td>1-4 Years</td>\n",
              "      <td>32.4</td>\n",
              "    </tr>\n",
              "    <tr>\n",
              "      <th>119</th>\n",
              "      <td>1900</td>\n",
              "      <td>5-9 Years</td>\n",
              "      <td>466.1</td>\n",
              "    </tr>\n",
              "    <tr>\n",
              "      <th>219</th>\n",
              "      <td>2000</td>\n",
              "      <td>5-9 Years</td>\n",
              "      <td>15.8</td>\n",
              "    </tr>\n",
              "    <tr>\n",
              "      <th>238</th>\n",
              "      <td>1900</td>\n",
              "      <td>10-14 Years</td>\n",
              "      <td>298.3</td>\n",
              "    </tr>\n",
              "  </tbody>\n",
              "</table>\n",
              "</div>"
            ],
            "text/plain": [
              "     Year     AgeGroup  DeathRate\n",
              "0    1900    1-4 Years     1983.8\n",
              "100  2000    1-4 Years       32.4\n",
              "119  1900    5-9 Years      466.1\n",
              "219  2000    5-9 Years       15.8\n",
              "238  1900  10-14 Years      298.3"
            ]
          },
          "execution_count": 31,
          "metadata": {},
          "output_type": "execute_result"
        }
      ],
      "source": [
        "mortality_data.query('Year == 1900 or Year == 2000').head()"
      ]
    },
    {
      "cell_type": "code",
      "execution_count": null,
      "metadata": {
        "id": "-B1rlKwGE1VQ"
      },
      "outputs": [],
      "source": [
        "# use backticks if a column name contains spaces\n",
        "# mortality_data.query('Year == 2000 and `Age Group` != \"1-4 Years\"')"
      ]
    },
    {
      "cell_type": "markdown",
      "metadata": {
        "id": "gXIPPdNFE1VR"
      },
      "source": [
        "### Access a subset of rows and columns"
      ]
    },
    {
      "cell_type": "code",
      "execution_count": null,
      "metadata": {
        "id": "v8R1Vl36E1VR",
        "outputId": "fc0812ad-0035-4061-8a4b-9941e121b48f"
      },
      "outputs": [
        {
          "data": {
            "text/plain": [
              "0      1983.8\n",
              "119     466.1\n",
              "238     298.3\n",
              "357     484.8\n",
              "Name: DeathRate, dtype: float64"
            ]
          },
          "execution_count": 33,
          "metadata": {},
          "output_type": "execute_result"
        }
      ],
      "source": [
        "mortality_data.query('Year == 1900').DeathRate.head()"
      ]
    },
    {
      "cell_type": "code",
      "execution_count": null,
      "metadata": {
        "id": "LB5HGKYsE1VR",
        "outputId": "c9efc0c5-31b8-48f1-eefb-9f2f11008339"
      },
      "outputs": [
        {
          "data": {
            "text/plain": [
              "0      1983.8\n",
              "119     466.1\n",
              "238     298.3\n",
              "357     484.8\n",
              "Name: DeathRate, dtype: float64"
            ]
          },
          "execution_count": 34,
          "metadata": {},
          "output_type": "execute_result"
        }
      ],
      "source": [
        "mortality_data.query('Year == 1900')['DeathRate'].head()"
      ]
    },
    {
      "cell_type": "code",
      "execution_count": null,
      "metadata": {
        "id": "b0EYd-_rE1VR",
        "outputId": "04cbdbfd-7f48-46e1-b550-a2bc74aa8fc9"
      },
      "outputs": [
        {
          "data": {
            "text/html": [
              "<div>\n",
              "<style scoped>\n",
              "    .dataframe tbody tr th:only-of-type {\n",
              "        vertical-align: middle;\n",
              "    }\n",
              "\n",
              "    .dataframe tbody tr th {\n",
              "        vertical-align: top;\n",
              "    }\n",
              "\n",
              "    .dataframe thead th {\n",
              "        text-align: right;\n",
              "    }\n",
              "</style>\n",
              "<table border=\"1\" class=\"dataframe\">\n",
              "  <thead>\n",
              "    <tr style=\"text-align: right;\">\n",
              "      <th></th>\n",
              "      <th>DeathRate</th>\n",
              "    </tr>\n",
              "  </thead>\n",
              "  <tbody>\n",
              "    <tr>\n",
              "      <th>0</th>\n",
              "      <td>1983.8</td>\n",
              "    </tr>\n",
              "    <tr>\n",
              "      <th>119</th>\n",
              "      <td>466.1</td>\n",
              "    </tr>\n",
              "    <tr>\n",
              "      <th>238</th>\n",
              "      <td>298.3</td>\n",
              "    </tr>\n",
              "    <tr>\n",
              "      <th>357</th>\n",
              "      <td>484.8</td>\n",
              "    </tr>\n",
              "  </tbody>\n",
              "</table>\n",
              "</div>"
            ],
            "text/plain": [
              "     DeathRate\n",
              "0       1983.8\n",
              "119      466.1\n",
              "238      298.3\n",
              "357      484.8"
            ]
          },
          "execution_count": 35,
          "metadata": {},
          "output_type": "execute_result"
        }
      ],
      "source": [
        "mortality_data.query('Year == 1900')[['DeathRate']].head()"
      ]
    },
    {
      "cell_type": "code",
      "execution_count": null,
      "metadata": {
        "id": "z47okCP4E1VR",
        "outputId": "318b0ea6-d797-4d3e-fd23-6ccd70433e39"
      },
      "outputs": [
        {
          "data": {
            "text/html": [
              "<div>\n",
              "<style scoped>\n",
              "    .dataframe tbody tr th:only-of-type {\n",
              "        vertical-align: middle;\n",
              "    }\n",
              "\n",
              "    .dataframe tbody tr th {\n",
              "        vertical-align: top;\n",
              "    }\n",
              "\n",
              "    .dataframe thead th {\n",
              "        text-align: right;\n",
              "    }\n",
              "</style>\n",
              "<table border=\"1\" class=\"dataframe\">\n",
              "  <thead>\n",
              "    <tr style=\"text-align: right;\">\n",
              "      <th></th>\n",
              "      <th>AgeGroup</th>\n",
              "      <th>DeathRate</th>\n",
              "    </tr>\n",
              "  </thead>\n",
              "  <tbody>\n",
              "    <tr>\n",
              "      <th>0</th>\n",
              "      <td>1-4 Years</td>\n",
              "      <td>1983.8</td>\n",
              "    </tr>\n",
              "    <tr>\n",
              "      <th>119</th>\n",
              "      <td>5-9 Years</td>\n",
              "      <td>466.1</td>\n",
              "    </tr>\n",
              "    <tr>\n",
              "      <th>238</th>\n",
              "      <td>10-14 Years</td>\n",
              "      <td>298.3</td>\n",
              "    </tr>\n",
              "    <tr>\n",
              "      <th>357</th>\n",
              "      <td>15-19 Years</td>\n",
              "      <td>484.8</td>\n",
              "    </tr>\n",
              "  </tbody>\n",
              "</table>\n",
              "</div>"
            ],
            "text/plain": [
              "        AgeGroup  DeathRate\n",
              "0      1-4 Years     1983.8\n",
              "119    5-9 Years      466.1\n",
              "238  10-14 Years      298.3\n",
              "357  15-19 Years      484.8"
            ]
          },
          "execution_count": 36,
          "metadata": {},
          "output_type": "execute_result"
        }
      ],
      "source": [
        "mortality_data.query('Year == 1900')[['AgeGroup','DeathRate']].head()"
      ]
    },
    {
      "cell_type": "markdown",
      "metadata": {
        "id": "tRFNnc6ME1VR"
      },
      "source": [
        "### Access rows with the loc[] accessor"
      ]
    },
    {
      "cell_type": "code",
      "execution_count": null,
      "metadata": {
        "id": "5L-cOqhUE1VS",
        "outputId": "330f3dbd-7ff5-47eb-83ee-8b974cce3802"
      },
      "outputs": [
        {
          "data": {
            "text/html": [
              "<div>\n",
              "<style scoped>\n",
              "    .dataframe tbody tr th:only-of-type {\n",
              "        vertical-align: middle;\n",
              "    }\n",
              "\n",
              "    .dataframe tbody tr th {\n",
              "        vertical-align: top;\n",
              "    }\n",
              "\n",
              "    .dataframe thead th {\n",
              "        text-align: right;\n",
              "    }\n",
              "</style>\n",
              "<table border=\"1\" class=\"dataframe\">\n",
              "  <thead>\n",
              "    <tr style=\"text-align: right;\">\n",
              "      <th></th>\n",
              "      <th>Year</th>\n",
              "      <th>AgeGroup</th>\n",
              "      <th>DeathRate</th>\n",
              "    </tr>\n",
              "  </thead>\n",
              "  <tbody>\n",
              "    <tr>\n",
              "      <th>0</th>\n",
              "      <td>1900</td>\n",
              "      <td>1-4 Years</td>\n",
              "      <td>1983.8</td>\n",
              "    </tr>\n",
              "    <tr>\n",
              "      <th>5</th>\n",
              "      <td>1905</td>\n",
              "      <td>1-4 Years</td>\n",
              "      <td>1498.9</td>\n",
              "    </tr>\n",
              "    <tr>\n",
              "      <th>10</th>\n",
              "      <td>1910</td>\n",
              "      <td>1-4 Years</td>\n",
              "      <td>1397.3</td>\n",
              "    </tr>\n",
              "  </tbody>\n",
              "</table>\n",
              "</div>"
            ],
            "text/plain": [
              "    Year   AgeGroup  DeathRate\n",
              "0   1900  1-4 Years     1983.8\n",
              "5   1905  1-4 Years     1498.9\n",
              "10  1910  1-4 Years     1397.3"
            ]
          },
          "execution_count": 37,
          "metadata": {},
          "output_type": "execute_result"
        }
      ],
      "source": [
        "mortality_data.loc[[0,5,10]]"
      ]
    },
    {
      "cell_type": "code",
      "execution_count": null,
      "metadata": {
        "id": "QWdO4v4LE1VS",
        "outputId": "b265b34e-e6eb-44fb-9e05-4cfa58abd868"
      },
      "outputs": [
        {
          "data": {
            "text/html": [
              "<div>\n",
              "<style scoped>\n",
              "    .dataframe tbody tr th:only-of-type {\n",
              "        vertical-align: middle;\n",
              "    }\n",
              "\n",
              "    .dataframe tbody tr th {\n",
              "        vertical-align: top;\n",
              "    }\n",
              "\n",
              "    .dataframe thead th {\n",
              "        text-align: right;\n",
              "    }\n",
              "</style>\n",
              "<table border=\"1\" class=\"dataframe\">\n",
              "  <thead>\n",
              "    <tr style=\"text-align: right;\">\n",
              "      <th></th>\n",
              "      <th>Year</th>\n",
              "      <th>AgeGroup</th>\n",
              "      <th>DeathRate</th>\n",
              "    </tr>\n",
              "  </thead>\n",
              "  <tbody>\n",
              "    <tr>\n",
              "      <th>4</th>\n",
              "      <td>1904</td>\n",
              "      <td>1-4 Years</td>\n",
              "      <td>1591.5</td>\n",
              "    </tr>\n",
              "    <tr>\n",
              "      <th>5</th>\n",
              "      <td>1905</td>\n",
              "      <td>1-4 Years</td>\n",
              "      <td>1498.9</td>\n",
              "    </tr>\n",
              "    <tr>\n",
              "      <th>6</th>\n",
              "      <td>1906</td>\n",
              "      <td>1-4 Years</td>\n",
              "      <td>1580.0</td>\n",
              "    </tr>\n",
              "  </tbody>\n",
              "</table>\n",
              "</div>"
            ],
            "text/plain": [
              "   Year   AgeGroup  DeathRate\n",
              "4  1904  1-4 Years     1591.5\n",
              "5  1905  1-4 Years     1498.9\n",
              "6  1906  1-4 Years     1580.0"
            ]
          },
          "execution_count": 38,
          "metadata": {},
          "output_type": "execute_result"
        }
      ],
      "source": [
        "mortality_data.loc[4:6]"
      ]
    },
    {
      "cell_type": "code",
      "execution_count": null,
      "metadata": {
        "id": "AlDtimw3E1VS",
        "outputId": "4d414d3b-3c56-4a35-fa8c-793499a387b8"
      },
      "outputs": [
        {
          "data": {
            "text/html": [
              "<div>\n",
              "<style scoped>\n",
              "    .dataframe tbody tr th:only-of-type {\n",
              "        vertical-align: middle;\n",
              "    }\n",
              "\n",
              "    .dataframe tbody tr th {\n",
              "        vertical-align: top;\n",
              "    }\n",
              "\n",
              "    .dataframe thead th {\n",
              "        text-align: right;\n",
              "    }\n",
              "</style>\n",
              "<table border=\"1\" class=\"dataframe\">\n",
              "  <thead>\n",
              "    <tr style=\"text-align: right;\">\n",
              "      <th></th>\n",
              "      <th>Year</th>\n",
              "      <th>AgeGroup</th>\n",
              "      <th>DeathRate</th>\n",
              "    </tr>\n",
              "  </thead>\n",
              "  <tbody>\n",
              "    <tr>\n",
              "      <th>0</th>\n",
              "      <td>1900</td>\n",
              "      <td>1-4 Years</td>\n",
              "      <td>1983.8</td>\n",
              "    </tr>\n",
              "    <tr>\n",
              "      <th>5</th>\n",
              "      <td>1905</td>\n",
              "      <td>1-4 Years</td>\n",
              "      <td>1498.9</td>\n",
              "    </tr>\n",
              "    <tr>\n",
              "      <th>10</th>\n",
              "      <td>1910</td>\n",
              "      <td>1-4 Years</td>\n",
              "      <td>1397.3</td>\n",
              "    </tr>\n",
              "    <tr>\n",
              "      <th>15</th>\n",
              "      <td>1915</td>\n",
              "      <td>1-4 Years</td>\n",
              "      <td>924.2</td>\n",
              "    </tr>\n",
              "    <tr>\n",
              "      <th>20</th>\n",
              "      <td>1920</td>\n",
              "      <td>1-4 Years</td>\n",
              "      <td>987.2</td>\n",
              "    </tr>\n",
              "  </tbody>\n",
              "</table>\n",
              "</div>"
            ],
            "text/plain": [
              "    Year   AgeGroup  DeathRate\n",
              "0   1900  1-4 Years     1983.8\n",
              "5   1905  1-4 Years     1498.9\n",
              "10  1910  1-4 Years     1397.3\n",
              "15  1915  1-4 Years      924.2\n",
              "20  1920  1-4 Years      987.2"
            ]
          },
          "execution_count": 39,
          "metadata": {},
          "output_type": "execute_result"
        }
      ],
      "source": [
        "mortality_data.loc[0:20:5]"
      ]
    },
    {
      "cell_type": "code",
      "execution_count": null,
      "metadata": {
        "id": "RJshxn-gE1VS",
        "outputId": "371383ff-5be6-4e23-efac-361f3642d010"
      },
      "outputs": [
        {
          "data": {
            "text/html": [
              "<div>\n",
              "<style scoped>\n",
              "    .dataframe tbody tr th:only-of-type {\n",
              "        vertical-align: middle;\n",
              "    }\n",
              "\n",
              "    .dataframe tbody tr th {\n",
              "        vertical-align: top;\n",
              "    }\n",
              "\n",
              "    .dataframe thead th {\n",
              "        text-align: right;\n",
              "    }\n",
              "</style>\n",
              "<table border=\"1\" class=\"dataframe\">\n",
              "  <thead>\n",
              "    <tr style=\"text-align: right;\">\n",
              "      <th></th>\n",
              "      <th>Year</th>\n",
              "      <th>AgeGroup</th>\n",
              "      <th>DeathRate</th>\n",
              "    </tr>\n",
              "  </thead>\n",
              "  <tbody>\n",
              "    <tr>\n",
              "      <th>17</th>\n",
              "      <td>1917</td>\n",
              "      <td>1-4 Years</td>\n",
              "      <td>1066.0</td>\n",
              "    </tr>\n",
              "    <tr>\n",
              "      <th>136</th>\n",
              "      <td>1917</td>\n",
              "      <td>5-9 Years</td>\n",
              "      <td>290.7</td>\n",
              "    </tr>\n",
              "    <tr>\n",
              "      <th>255</th>\n",
              "      <td>1917</td>\n",
              "      <td>10-14 Years</td>\n",
              "      <td>218.9</td>\n",
              "    </tr>\n",
              "    <tr>\n",
              "      <th>374</th>\n",
              "      <td>1917</td>\n",
              "      <td>15-19 Years</td>\n",
              "      <td>380.3</td>\n",
              "    </tr>\n",
              "  </tbody>\n",
              "</table>\n",
              "</div>"
            ],
            "text/plain": [
              "     Year     AgeGroup  DeathRate\n",
              "17   1917    1-4 Years     1066.0\n",
              "136  1917    5-9 Years      290.7\n",
              "255  1917  10-14 Years      218.9\n",
              "374  1917  15-19 Years      380.3"
            ]
          },
          "execution_count": 40,
          "metadata": {},
          "output_type": "execute_result"
        }
      ],
      "source": [
        "mortality_data.loc[mortality_data.Year == 1917]"
      ]
    },
    {
      "cell_type": "markdown",
      "metadata": {
        "id": "C3y06nKhE1VU"
      },
      "source": [
        "### Access columns with the loc[] accessor"
      ]
    },
    {
      "cell_type": "code",
      "execution_count": null,
      "metadata": {
        "id": "FV8C8vMAE1VU",
        "outputId": "4eddf2db-e268-4904-b87b-e4d2e8b98da5"
      },
      "outputs": [
        {
          "data": {
            "text/html": [
              "<div>\n",
              "<style scoped>\n",
              "    .dataframe tbody tr th:only-of-type {\n",
              "        vertical-align: middle;\n",
              "    }\n",
              "\n",
              "    .dataframe tbody tr th {\n",
              "        vertical-align: top;\n",
              "    }\n",
              "\n",
              "    .dataframe thead th {\n",
              "        text-align: right;\n",
              "    }\n",
              "</style>\n",
              "<table border=\"1\" class=\"dataframe\">\n",
              "  <thead>\n",
              "    <tr style=\"text-align: right;\">\n",
              "      <th></th>\n",
              "      <th>Year</th>\n",
              "      <th>AgeGroup</th>\n",
              "    </tr>\n",
              "  </thead>\n",
              "  <tbody>\n",
              "    <tr>\n",
              "      <th>0</th>\n",
              "      <td>1900</td>\n",
              "      <td>1-4 Years</td>\n",
              "    </tr>\n",
              "    <tr>\n",
              "      <th>1</th>\n",
              "      <td>1901</td>\n",
              "      <td>1-4 Years</td>\n",
              "    </tr>\n",
              "    <tr>\n",
              "      <th>2</th>\n",
              "      <td>1902</td>\n",
              "      <td>1-4 Years</td>\n",
              "    </tr>\n",
              "    <tr>\n",
              "      <th>3</th>\n",
              "      <td>1903</td>\n",
              "      <td>1-4 Years</td>\n",
              "    </tr>\n",
              "    <tr>\n",
              "      <th>4</th>\n",
              "      <td>1904</td>\n",
              "      <td>1-4 Years</td>\n",
              "    </tr>\n",
              "    <tr>\n",
              "      <th>5</th>\n",
              "      <td>1905</td>\n",
              "      <td>1-4 Years</td>\n",
              "    </tr>\n",
              "    <tr>\n",
              "      <th>6</th>\n",
              "      <td>1906</td>\n",
              "      <td>1-4 Years</td>\n",
              "    </tr>\n",
              "    <tr>\n",
              "      <th>7</th>\n",
              "      <td>1907</td>\n",
              "      <td>1-4 Years</td>\n",
              "    </tr>\n",
              "    <tr>\n",
              "      <th>8</th>\n",
              "      <td>1908</td>\n",
              "      <td>1-4 Years</td>\n",
              "    </tr>\n",
              "    <tr>\n",
              "      <th>9</th>\n",
              "      <td>1909</td>\n",
              "      <td>1-4 Years</td>\n",
              "    </tr>\n",
              "    <tr>\n",
              "      <th>10</th>\n",
              "      <td>1910</td>\n",
              "      <td>1-4 Years</td>\n",
              "    </tr>\n",
              "    <tr>\n",
              "      <th>11</th>\n",
              "      <td>1911</td>\n",
              "      <td>1-4 Years</td>\n",
              "    </tr>\n",
              "    <tr>\n",
              "      <th>12</th>\n",
              "      <td>1912</td>\n",
              "      <td>1-4 Years</td>\n",
              "    </tr>\n",
              "    <tr>\n",
              "      <th>13</th>\n",
              "      <td>1913</td>\n",
              "      <td>1-4 Years</td>\n",
              "    </tr>\n",
              "    <tr>\n",
              "      <th>14</th>\n",
              "      <td>1914</td>\n",
              "      <td>1-4 Years</td>\n",
              "    </tr>\n",
              "    <tr>\n",
              "      <th>15</th>\n",
              "      <td>1915</td>\n",
              "      <td>1-4 Years</td>\n",
              "    </tr>\n",
              "    <tr>\n",
              "      <th>16</th>\n",
              "      <td>1916</td>\n",
              "      <td>1-4 Years</td>\n",
              "    </tr>\n",
              "    <tr>\n",
              "      <th>17</th>\n",
              "      <td>1917</td>\n",
              "      <td>1-4 Years</td>\n",
              "    </tr>\n",
              "    <tr>\n",
              "      <th>18</th>\n",
              "      <td>1918</td>\n",
              "      <td>1-4 Years</td>\n",
              "    </tr>\n",
              "    <tr>\n",
              "      <th>19</th>\n",
              "      <td>1919</td>\n",
              "      <td>1-4 Years</td>\n",
              "    </tr>\n",
              "    <tr>\n",
              "      <th>20</th>\n",
              "      <td>1920</td>\n",
              "      <td>1-4 Years</td>\n",
              "    </tr>\n",
              "    <tr>\n",
              "      <th>21</th>\n",
              "      <td>1921</td>\n",
              "      <td>1-4 Years</td>\n",
              "    </tr>\n",
              "    <tr>\n",
              "      <th>22</th>\n",
              "      <td>1922</td>\n",
              "      <td>1-4 Years</td>\n",
              "    </tr>\n",
              "    <tr>\n",
              "      <th>23</th>\n",
              "      <td>1923</td>\n",
              "      <td>1-4 Years</td>\n",
              "    </tr>\n",
              "    <tr>\n",
              "      <th>24</th>\n",
              "      <td>1924</td>\n",
              "      <td>1-4 Years</td>\n",
              "    </tr>\n",
              "    <tr>\n",
              "      <th>25</th>\n",
              "      <td>1925</td>\n",
              "      <td>1-4 Years</td>\n",
              "    </tr>\n",
              "    <tr>\n",
              "      <th>26</th>\n",
              "      <td>1926</td>\n",
              "      <td>1-4 Years</td>\n",
              "    </tr>\n",
              "    <tr>\n",
              "      <th>27</th>\n",
              "      <td>1927</td>\n",
              "      <td>1-4 Years</td>\n",
              "    </tr>\n",
              "    <tr>\n",
              "      <th>28</th>\n",
              "      <td>1928</td>\n",
              "      <td>1-4 Years</td>\n",
              "    </tr>\n",
              "    <tr>\n",
              "      <th>29</th>\n",
              "      <td>1929</td>\n",
              "      <td>1-4 Years</td>\n",
              "    </tr>\n",
              "    <tr>\n",
              "      <th>...</th>\n",
              "      <td>...</td>\n",
              "      <td>...</td>\n",
              "    </tr>\n",
              "    <tr>\n",
              "      <th>446</th>\n",
              "      <td>1989</td>\n",
              "      <td>15-19 Years</td>\n",
              "    </tr>\n",
              "    <tr>\n",
              "      <th>447</th>\n",
              "      <td>1990</td>\n",
              "      <td>15-19 Years</td>\n",
              "    </tr>\n",
              "    <tr>\n",
              "      <th>448</th>\n",
              "      <td>1991</td>\n",
              "      <td>15-19 Years</td>\n",
              "    </tr>\n",
              "    <tr>\n",
              "      <th>449</th>\n",
              "      <td>1992</td>\n",
              "      <td>15-19 Years</td>\n",
              "    </tr>\n",
              "    <tr>\n",
              "      <th>450</th>\n",
              "      <td>1993</td>\n",
              "      <td>15-19 Years</td>\n",
              "    </tr>\n",
              "    <tr>\n",
              "      <th>451</th>\n",
              "      <td>1994</td>\n",
              "      <td>15-19 Years</td>\n",
              "    </tr>\n",
              "    <tr>\n",
              "      <th>452</th>\n",
              "      <td>1995</td>\n",
              "      <td>15-19 Years</td>\n",
              "    </tr>\n",
              "    <tr>\n",
              "      <th>453</th>\n",
              "      <td>1996</td>\n",
              "      <td>15-19 Years</td>\n",
              "    </tr>\n",
              "    <tr>\n",
              "      <th>454</th>\n",
              "      <td>1997</td>\n",
              "      <td>15-19 Years</td>\n",
              "    </tr>\n",
              "    <tr>\n",
              "      <th>455</th>\n",
              "      <td>1998</td>\n",
              "      <td>15-19 Years</td>\n",
              "    </tr>\n",
              "    <tr>\n",
              "      <th>456</th>\n",
              "      <td>1999</td>\n",
              "      <td>15-19 Years</td>\n",
              "    </tr>\n",
              "    <tr>\n",
              "      <th>457</th>\n",
              "      <td>2000</td>\n",
              "      <td>15-19 Years</td>\n",
              "    </tr>\n",
              "    <tr>\n",
              "      <th>458</th>\n",
              "      <td>2001</td>\n",
              "      <td>15-19 Years</td>\n",
              "    </tr>\n",
              "    <tr>\n",
              "      <th>459</th>\n",
              "      <td>2002</td>\n",
              "      <td>15-19 Years</td>\n",
              "    </tr>\n",
              "    <tr>\n",
              "      <th>460</th>\n",
              "      <td>2003</td>\n",
              "      <td>15-19 Years</td>\n",
              "    </tr>\n",
              "    <tr>\n",
              "      <th>461</th>\n",
              "      <td>2004</td>\n",
              "      <td>15-19 Years</td>\n",
              "    </tr>\n",
              "    <tr>\n",
              "      <th>462</th>\n",
              "      <td>2005</td>\n",
              "      <td>15-19 Years</td>\n",
              "    </tr>\n",
              "    <tr>\n",
              "      <th>463</th>\n",
              "      <td>2006</td>\n",
              "      <td>15-19 Years</td>\n",
              "    </tr>\n",
              "    <tr>\n",
              "      <th>464</th>\n",
              "      <td>2007</td>\n",
              "      <td>15-19 Years</td>\n",
              "    </tr>\n",
              "    <tr>\n",
              "      <th>465</th>\n",
              "      <td>2008</td>\n",
              "      <td>15-19 Years</td>\n",
              "    </tr>\n",
              "    <tr>\n",
              "      <th>466</th>\n",
              "      <td>2009</td>\n",
              "      <td>15-19 Years</td>\n",
              "    </tr>\n",
              "    <tr>\n",
              "      <th>467</th>\n",
              "      <td>2010</td>\n",
              "      <td>15-19 Years</td>\n",
              "    </tr>\n",
              "    <tr>\n",
              "      <th>468</th>\n",
              "      <td>2011</td>\n",
              "      <td>15-19 Years</td>\n",
              "    </tr>\n",
              "    <tr>\n",
              "      <th>469</th>\n",
              "      <td>2012</td>\n",
              "      <td>15-19 Years</td>\n",
              "    </tr>\n",
              "    <tr>\n",
              "      <th>470</th>\n",
              "      <td>2013</td>\n",
              "      <td>15-19 Years</td>\n",
              "    </tr>\n",
              "    <tr>\n",
              "      <th>471</th>\n",
              "      <td>2014</td>\n",
              "      <td>15-19 Years</td>\n",
              "    </tr>\n",
              "    <tr>\n",
              "      <th>472</th>\n",
              "      <td>2015</td>\n",
              "      <td>15-19 Years</td>\n",
              "    </tr>\n",
              "    <tr>\n",
              "      <th>473</th>\n",
              "      <td>2016</td>\n",
              "      <td>15-19 Years</td>\n",
              "    </tr>\n",
              "    <tr>\n",
              "      <th>474</th>\n",
              "      <td>2017</td>\n",
              "      <td>15-19 Years</td>\n",
              "    </tr>\n",
              "    <tr>\n",
              "      <th>475</th>\n",
              "      <td>2018</td>\n",
              "      <td>15-19 Years</td>\n",
              "    </tr>\n",
              "  </tbody>\n",
              "</table>\n",
              "<p>476 rows × 2 columns</p>\n",
              "</div>"
            ],
            "text/plain": [
              "     Year     AgeGroup\n",
              "0    1900    1-4 Years\n",
              "1    1901    1-4 Years\n",
              "2    1902    1-4 Years\n",
              "3    1903    1-4 Years\n",
              "4    1904    1-4 Years\n",
              "5    1905    1-4 Years\n",
              "6    1906    1-4 Years\n",
              "7    1907    1-4 Years\n",
              "8    1908    1-4 Years\n",
              "9    1909    1-4 Years\n",
              "10   1910    1-4 Years\n",
              "11   1911    1-4 Years\n",
              "12   1912    1-4 Years\n",
              "13   1913    1-4 Years\n",
              "14   1914    1-4 Years\n",
              "15   1915    1-4 Years\n",
              "16   1916    1-4 Years\n",
              "17   1917    1-4 Years\n",
              "18   1918    1-4 Years\n",
              "19   1919    1-4 Years\n",
              "20   1920    1-4 Years\n",
              "21   1921    1-4 Years\n",
              "22   1922    1-4 Years\n",
              "23   1923    1-4 Years\n",
              "24   1924    1-4 Years\n",
              "25   1925    1-4 Years\n",
              "26   1926    1-4 Years\n",
              "27   1927    1-4 Years\n",
              "28   1928    1-4 Years\n",
              "29   1929    1-4 Years\n",
              "..    ...          ...\n",
              "446  1989  15-19 Years\n",
              "447  1990  15-19 Years\n",
              "448  1991  15-19 Years\n",
              "449  1992  15-19 Years\n",
              "450  1993  15-19 Years\n",
              "451  1994  15-19 Years\n",
              "452  1995  15-19 Years\n",
              "453  1996  15-19 Years\n",
              "454  1997  15-19 Years\n",
              "455  1998  15-19 Years\n",
              "456  1999  15-19 Years\n",
              "457  2000  15-19 Years\n",
              "458  2001  15-19 Years\n",
              "459  2002  15-19 Years\n",
              "460  2003  15-19 Years\n",
              "461  2004  15-19 Years\n",
              "462  2005  15-19 Years\n",
              "463  2006  15-19 Years\n",
              "464  2007  15-19 Years\n",
              "465  2008  15-19 Years\n",
              "466  2009  15-19 Years\n",
              "467  2010  15-19 Years\n",
              "468  2011  15-19 Years\n",
              "469  2012  15-19 Years\n",
              "470  2013  15-19 Years\n",
              "471  2014  15-19 Years\n",
              "472  2015  15-19 Years\n",
              "473  2016  15-19 Years\n",
              "474  2017  15-19 Years\n",
              "475  2018  15-19 Years\n",
              "\n",
              "[476 rows x 2 columns]"
            ]
          },
          "execution_count": 41,
          "metadata": {},
          "output_type": "execute_result"
        }
      ],
      "source": [
        "mortality_data.loc[:, ['Year', 'AgeGroup']]"
      ]
    },
    {
      "cell_type": "markdown",
      "metadata": {
        "id": "2jYJSH-rE1VU"
      },
      "source": [
        "### Access rows and columns with the loc[] accessor"
      ]
    },
    {
      "cell_type": "code",
      "execution_count": null,
      "metadata": {
        "id": "gXXKf0Z0E1VV",
        "outputId": "89db2ff2-3c3a-4616-a440-30fb46f17a2b"
      },
      "outputs": [
        {
          "data": {
            "text/html": [
              "<div>\n",
              "<style scoped>\n",
              "    .dataframe tbody tr th:only-of-type {\n",
              "        vertical-align: middle;\n",
              "    }\n",
              "\n",
              "    .dataframe tbody tr th {\n",
              "        vertical-align: top;\n",
              "    }\n",
              "\n",
              "    .dataframe thead th {\n",
              "        text-align: right;\n",
              "    }\n",
              "</style>\n",
              "<table border=\"1\" class=\"dataframe\">\n",
              "  <thead>\n",
              "    <tr style=\"text-align: right;\">\n",
              "      <th></th>\n",
              "      <th>AgeGroup</th>\n",
              "      <th>DeathRate</th>\n",
              "    </tr>\n",
              "  </thead>\n",
              "  <tbody>\n",
              "    <tr>\n",
              "      <th>0</th>\n",
              "      <td>1-4 Years</td>\n",
              "      <td>1983.8</td>\n",
              "    </tr>\n",
              "    <tr>\n",
              "      <th>5</th>\n",
              "      <td>1-4 Years</td>\n",
              "      <td>1498.9</td>\n",
              "    </tr>\n",
              "    <tr>\n",
              "      <th>10</th>\n",
              "      <td>1-4 Years</td>\n",
              "      <td>1397.3</td>\n",
              "    </tr>\n",
              "  </tbody>\n",
              "</table>\n",
              "</div>"
            ],
            "text/plain": [
              "     AgeGroup  DeathRate\n",
              "0   1-4 Years     1983.8\n",
              "5   1-4 Years     1498.9\n",
              "10  1-4 Years     1397.3"
            ]
          },
          "execution_count": 42,
          "metadata": {},
          "output_type": "execute_result"
        }
      ],
      "source": [
        "mortality_data.loc[[0,5,10],['AgeGroup','DeathRate']]"
      ]
    },
    {
      "cell_type": "code",
      "execution_count": null,
      "metadata": {
        "id": "t3vJ1GI4E1VV",
        "outputId": "04d84e46-6e45-450f-ffdf-18bcf2114ac1"
      },
      "outputs": [
        {
          "data": {
            "text/html": [
              "<div>\n",
              "<style scoped>\n",
              "    .dataframe tbody tr th:only-of-type {\n",
              "        vertical-align: middle;\n",
              "    }\n",
              "\n",
              "    .dataframe tbody tr th {\n",
              "        vertical-align: top;\n",
              "    }\n",
              "\n",
              "    .dataframe thead th {\n",
              "        text-align: right;\n",
              "    }\n",
              "</style>\n",
              "<table border=\"1\" class=\"dataframe\">\n",
              "  <thead>\n",
              "    <tr style=\"text-align: right;\">\n",
              "      <th></th>\n",
              "      <th>AgeGroup</th>\n",
              "      <th>DeathRate</th>\n",
              "    </tr>\n",
              "  </thead>\n",
              "  <tbody>\n",
              "    <tr>\n",
              "      <th>4</th>\n",
              "      <td>1-4 Years</td>\n",
              "      <td>1591.5</td>\n",
              "    </tr>\n",
              "    <tr>\n",
              "      <th>5</th>\n",
              "      <td>1-4 Years</td>\n",
              "      <td>1498.9</td>\n",
              "    </tr>\n",
              "    <tr>\n",
              "      <th>6</th>\n",
              "      <td>1-4 Years</td>\n",
              "      <td>1580.0</td>\n",
              "    </tr>\n",
              "  </tbody>\n",
              "</table>\n",
              "</div>"
            ],
            "text/plain": [
              "    AgeGroup  DeathRate\n",
              "4  1-4 Years     1591.5\n",
              "5  1-4 Years     1498.9\n",
              "6  1-4 Years     1580.0"
            ]
          },
          "execution_count": 43,
          "metadata": {},
          "output_type": "execute_result"
        }
      ],
      "source": [
        "mortality_data.loc[4:6,'AgeGroup':'DeathRate']"
      ]
    },
    {
      "cell_type": "markdown",
      "metadata": {
        "id": "QO7yq0ZbE1VV"
      },
      "source": [
        "### How to access rows and columns with the iloc[] accessor"
      ]
    },
    {
      "cell_type": "code",
      "execution_count": null,
      "metadata": {
        "id": "oXKsUkiUE1VW",
        "outputId": "4d72e1ee-899b-4df2-dd63-83eb97fc9796"
      },
      "outputs": [
        {
          "data": {
            "text/html": [
              "<div>\n",
              "<style scoped>\n",
              "    .dataframe tbody tr th:only-of-type {\n",
              "        vertical-align: middle;\n",
              "    }\n",
              "\n",
              "    .dataframe tbody tr th {\n",
              "        vertical-align: top;\n",
              "    }\n",
              "\n",
              "    .dataframe thead th {\n",
              "        text-align: right;\n",
              "    }\n",
              "</style>\n",
              "<table border=\"1\" class=\"dataframe\">\n",
              "  <thead>\n",
              "    <tr style=\"text-align: right;\">\n",
              "      <th></th>\n",
              "      <th>AgeGroup</th>\n",
              "      <th>DeathRate</th>\n",
              "    </tr>\n",
              "  </thead>\n",
              "  <tbody>\n",
              "    <tr>\n",
              "      <th>4</th>\n",
              "      <td>1-4 Years</td>\n",
              "      <td>1591.5</td>\n",
              "    </tr>\n",
              "    <tr>\n",
              "      <th>5</th>\n",
              "      <td>1-4 Years</td>\n",
              "      <td>1498.9</td>\n",
              "    </tr>\n",
              "    <tr>\n",
              "      <th>6</th>\n",
              "      <td>1-4 Years</td>\n",
              "      <td>1580.0</td>\n",
              "    </tr>\n",
              "  </tbody>\n",
              "</table>\n",
              "</div>"
            ],
            "text/plain": [
              "    AgeGroup  DeathRate\n",
              "4  1-4 Years     1591.5\n",
              "5  1-4 Years     1498.9\n",
              "6  1-4 Years     1580.0"
            ]
          },
          "execution_count": 44,
          "metadata": {},
          "output_type": "execute_result"
        }
      ],
      "source": [
        "mortality_data.iloc[[4,5,6],[1,2]]"
      ]
    },
    {
      "cell_type": "code",
      "execution_count": null,
      "metadata": {
        "id": "aPJCm5QIE1VW",
        "outputId": "18f4ef7d-379a-4388-87b5-1519ae44c9bb"
      },
      "outputs": [
        {
          "data": {
            "text/html": [
              "<div>\n",
              "<style scoped>\n",
              "    .dataframe tbody tr th:only-of-type {\n",
              "        vertical-align: middle;\n",
              "    }\n",
              "\n",
              "    .dataframe tbody tr th {\n",
              "        vertical-align: top;\n",
              "    }\n",
              "\n",
              "    .dataframe thead th {\n",
              "        text-align: right;\n",
              "    }\n",
              "</style>\n",
              "<table border=\"1\" class=\"dataframe\">\n",
              "  <thead>\n",
              "    <tr style=\"text-align: right;\">\n",
              "      <th></th>\n",
              "      <th>AgeGroup</th>\n",
              "      <th>DeathRate</th>\n",
              "    </tr>\n",
              "  </thead>\n",
              "  <tbody>\n",
              "    <tr>\n",
              "      <th>4</th>\n",
              "      <td>1-4 Years</td>\n",
              "      <td>1591.5</td>\n",
              "    </tr>\n",
              "    <tr>\n",
              "      <th>5</th>\n",
              "      <td>1-4 Years</td>\n",
              "      <td>1498.9</td>\n",
              "    </tr>\n",
              "    <tr>\n",
              "      <th>6</th>\n",
              "      <td>1-4 Years</td>\n",
              "      <td>1580.0</td>\n",
              "    </tr>\n",
              "  </tbody>\n",
              "</table>\n",
              "</div>"
            ],
            "text/plain": [
              "    AgeGroup  DeathRate\n",
              "4  1-4 Years     1591.5\n",
              "5  1-4 Years     1498.9\n",
              "6  1-4 Years     1580.0"
            ]
          },
          "execution_count": 45,
          "metadata": {},
          "output_type": "execute_result"
        }
      ],
      "source": [
        "mortality_data.iloc[4:7,1:3]"
      ]
    },
    {
      "cell_type": "code",
      "execution_count": null,
      "metadata": {
        "id": "_2o8w8nWE1VX",
        "outputId": "f04fded2-d79b-4d9d-c769-ec4d63ba060f"
      },
      "outputs": [
        {
          "data": {
            "text/html": [
              "<div>\n",
              "<style scoped>\n",
              "    .dataframe tbody tr th:only-of-type {\n",
              "        vertical-align: middle;\n",
              "    }\n",
              "\n",
              "    .dataframe tbody tr th {\n",
              "        vertical-align: top;\n",
              "    }\n",
              "\n",
              "    .dataframe thead th {\n",
              "        text-align: right;\n",
              "    }\n",
              "</style>\n",
              "<table border=\"1\" class=\"dataframe\">\n",
              "  <thead>\n",
              "    <tr style=\"text-align: right;\">\n",
              "      <th></th>\n",
              "      <th>Year</th>\n",
              "      <th>AgeGroup</th>\n",
              "      <th>DeathRate</th>\n",
              "    </tr>\n",
              "  </thead>\n",
              "  <tbody>\n",
              "    <tr>\n",
              "      <th>466</th>\n",
              "      <td>2009</td>\n",
              "      <td>15-19 Years</td>\n",
              "      <td>51.9</td>\n",
              "    </tr>\n",
              "    <tr>\n",
              "      <th>467</th>\n",
              "      <td>2010</td>\n",
              "      <td>15-19 Years</td>\n",
              "      <td>49.4</td>\n",
              "    </tr>\n",
              "    <tr>\n",
              "      <th>468</th>\n",
              "      <td>2011</td>\n",
              "      <td>15-19 Years</td>\n",
              "      <td>48.9</td>\n",
              "    </tr>\n",
              "    <tr>\n",
              "      <th>469</th>\n",
              "      <td>2012</td>\n",
              "      <td>15-19 Years</td>\n",
              "      <td>47.2</td>\n",
              "    </tr>\n",
              "    <tr>\n",
              "      <th>470</th>\n",
              "      <td>2013</td>\n",
              "      <td>15-19 Years</td>\n",
              "      <td>44.8</td>\n",
              "    </tr>\n",
              "    <tr>\n",
              "      <th>471</th>\n",
              "      <td>2014</td>\n",
              "      <td>15-19 Years</td>\n",
              "      <td>45.5</td>\n",
              "    </tr>\n",
              "    <tr>\n",
              "      <th>472</th>\n",
              "      <td>2015</td>\n",
              "      <td>15-19 Years</td>\n",
              "      <td>48.3</td>\n",
              "    </tr>\n",
              "    <tr>\n",
              "      <th>473</th>\n",
              "      <td>2016</td>\n",
              "      <td>15-19 Years</td>\n",
              "      <td>51.2</td>\n",
              "    </tr>\n",
              "    <tr>\n",
              "      <th>474</th>\n",
              "      <td>2017</td>\n",
              "      <td>15-19 Years</td>\n",
              "      <td>51.5</td>\n",
              "    </tr>\n",
              "    <tr>\n",
              "      <th>475</th>\n",
              "      <td>2018</td>\n",
              "      <td>15-19 Years</td>\n",
              "      <td>49.2</td>\n",
              "    </tr>\n",
              "  </tbody>\n",
              "</table>\n",
              "</div>"
            ],
            "text/plain": [
              "     Year     AgeGroup  DeathRate\n",
              "466  2009  15-19 Years       51.9\n",
              "467  2010  15-19 Years       49.4\n",
              "468  2011  15-19 Years       48.9\n",
              "469  2012  15-19 Years       47.2\n",
              "470  2013  15-19 Years       44.8\n",
              "471  2014  15-19 Years       45.5\n",
              "472  2015  15-19 Years       48.3\n",
              "473  2016  15-19 Years       51.2\n",
              "474  2017  15-19 Years       51.5\n",
              "475  2018  15-19 Years       49.2"
            ]
          },
          "execution_count": 46,
          "metadata": {},
          "output_type": "execute_result"
        }
      ],
      "source": [
        "mortality_data.iloc[-10:]"
      ]
    },
    {
      "cell_type": "markdown",
      "metadata": {
        "id": "c49v4r9EE1VX"
      },
      "source": [
        "## Prepare the data"
      ]
    },
    {
      "cell_type": "markdown",
      "metadata": {
        "id": "p7g1rrUmE1VX"
      },
      "source": [
        "### Sort the data"
      ]
    },
    {
      "cell_type": "code",
      "execution_count": null,
      "metadata": {
        "id": "d7r8syovE1VX",
        "outputId": "e06b7d5a-d30c-47e0-a9f1-3b4e37765e47"
      },
      "outputs": [
        {
          "data": {
            "text/html": [
              "<div>\n",
              "<style scoped>\n",
              "    .dataframe tbody tr th:only-of-type {\n",
              "        vertical-align: middle;\n",
              "    }\n",
              "\n",
              "    .dataframe tbody tr th {\n",
              "        vertical-align: top;\n",
              "    }\n",
              "\n",
              "    .dataframe thead th {\n",
              "        text-align: right;\n",
              "    }\n",
              "</style>\n",
              "<table border=\"1\" class=\"dataframe\">\n",
              "  <thead>\n",
              "    <tr style=\"text-align: right;\">\n",
              "      <th></th>\n",
              "      <th>Year</th>\n",
              "      <th>AgeGroup</th>\n",
              "      <th>DeathRate</th>\n",
              "    </tr>\n",
              "  </thead>\n",
              "  <tbody>\n",
              "    <tr>\n",
              "      <th>0</th>\n",
              "      <td>1900</td>\n",
              "      <td>1-4 Years</td>\n",
              "      <td>1983.8</td>\n",
              "    </tr>\n",
              "    <tr>\n",
              "      <th>1</th>\n",
              "      <td>1901</td>\n",
              "      <td>1-4 Years</td>\n",
              "      <td>1695.0</td>\n",
              "    </tr>\n",
              "    <tr>\n",
              "      <th>2</th>\n",
              "      <td>1902</td>\n",
              "      <td>1-4 Years</td>\n",
              "      <td>1655.7</td>\n",
              "    </tr>\n",
              "  </tbody>\n",
              "</table>\n",
              "</div>"
            ],
            "text/plain": [
              "   Year   AgeGroup  DeathRate\n",
              "0  1900  1-4 Years     1983.8\n",
              "1  1901  1-4 Years     1695.0\n",
              "2  1902  1-4 Years     1655.7"
            ]
          },
          "execution_count": 47,
          "metadata": {},
          "output_type": "execute_result"
        }
      ],
      "source": [
        "mortality_data.sort_values('DeathRate', ascending=False).head(3)"
      ]
    },
    {
      "cell_type": "code",
      "execution_count": null,
      "metadata": {
        "id": "1VN_92b6E1VY",
        "outputId": "a0f3e023-d089-4e2d-b4bc-3153469662fc"
      },
      "outputs": [
        {
          "data": {
            "text/html": [
              "<div>\n",
              "<style scoped>\n",
              "    .dataframe tbody tr th:only-of-type {\n",
              "        vertical-align: middle;\n",
              "    }\n",
              "\n",
              "    .dataframe tbody tr th {\n",
              "        vertical-align: top;\n",
              "    }\n",
              "\n",
              "    .dataframe thead th {\n",
              "        text-align: right;\n",
              "    }\n",
              "</style>\n",
              "<table border=\"1\" class=\"dataframe\">\n",
              "  <thead>\n",
              "    <tr style=\"text-align: right;\">\n",
              "      <th></th>\n",
              "      <th>Year</th>\n",
              "      <th>AgeGroup</th>\n",
              "      <th>DeathRate</th>\n",
              "    </tr>\n",
              "  </thead>\n",
              "  <tbody>\n",
              "    <tr>\n",
              "      <th>238</th>\n",
              "      <td>1900</td>\n",
              "      <td>10-14 Years</td>\n",
              "      <td>298.3</td>\n",
              "    </tr>\n",
              "    <tr>\n",
              "      <th>119</th>\n",
              "      <td>1900</td>\n",
              "      <td>5-9 Years</td>\n",
              "      <td>466.1</td>\n",
              "    </tr>\n",
              "    <tr>\n",
              "      <th>357</th>\n",
              "      <td>1900</td>\n",
              "      <td>15-19 Years</td>\n",
              "      <td>484.8</td>\n",
              "    </tr>\n",
              "  </tbody>\n",
              "</table>\n",
              "</div>"
            ],
            "text/plain": [
              "     Year     AgeGroup  DeathRate\n",
              "238  1900  10-14 Years      298.3\n",
              "119  1900    5-9 Years      466.1\n",
              "357  1900  15-19 Years      484.8"
            ]
          },
          "execution_count": 48,
          "metadata": {},
          "output_type": "execute_result"
        }
      ],
      "source": [
        "mortality_data.sort_values(['Year','DeathRate']).head(3)"
      ]
    },
    {
      "cell_type": "code",
      "execution_count": null,
      "metadata": {
        "id": "iC1AoZFfE1VY",
        "outputId": "9146326a-3f87-4c15-e712-f44810e2462e"
      },
      "outputs": [
        {
          "data": {
            "text/html": [
              "<div>\n",
              "<style scoped>\n",
              "    .dataframe tbody tr th:only-of-type {\n",
              "        vertical-align: middle;\n",
              "    }\n",
              "\n",
              "    .dataframe tbody tr th {\n",
              "        vertical-align: top;\n",
              "    }\n",
              "\n",
              "    .dataframe thead th {\n",
              "        text-align: right;\n",
              "    }\n",
              "</style>\n",
              "<table border=\"1\" class=\"dataframe\">\n",
              "  <thead>\n",
              "    <tr style=\"text-align: right;\">\n",
              "      <th></th>\n",
              "      <th>Year</th>\n",
              "      <th>AgeGroup</th>\n",
              "      <th>DeathRate</th>\n",
              "    </tr>\n",
              "  </thead>\n",
              "  <tbody>\n",
              "    <tr>\n",
              "      <th>0</th>\n",
              "      <td>1900</td>\n",
              "      <td>1-4 Years</td>\n",
              "      <td>1983.8</td>\n",
              "    </tr>\n",
              "    <tr>\n",
              "      <th>357</th>\n",
              "      <td>1900</td>\n",
              "      <td>15-19 Years</td>\n",
              "      <td>484.8</td>\n",
              "    </tr>\n",
              "    <tr>\n",
              "      <th>119</th>\n",
              "      <td>1900</td>\n",
              "      <td>5-9 Years</td>\n",
              "      <td>466.1</td>\n",
              "    </tr>\n",
              "    <tr>\n",
              "      <th>238</th>\n",
              "      <td>1900</td>\n",
              "      <td>10-14 Years</td>\n",
              "      <td>298.3</td>\n",
              "    </tr>\n",
              "    <tr>\n",
              "      <th>1</th>\n",
              "      <td>1901</td>\n",
              "      <td>1-4 Years</td>\n",
              "      <td>1695.0</td>\n",
              "    </tr>\n",
              "  </tbody>\n",
              "</table>\n",
              "</div>"
            ],
            "text/plain": [
              "     Year     AgeGroup  DeathRate\n",
              "0    1900    1-4 Years     1983.8\n",
              "357  1900  15-19 Years      484.8\n",
              "119  1900    5-9 Years      466.1\n",
              "238  1900  10-14 Years      298.3\n",
              "1    1901    1-4 Years     1695.0"
            ]
          },
          "execution_count": 49,
          "metadata": {},
          "output_type": "execute_result"
        }
      ],
      "source": [
        "mortality_data.sort_values(['Year','DeathRate'],\n",
        "                           ascending=[True,False]).head()"
      ]
    },
    {
      "cell_type": "markdown",
      "metadata": {
        "id": "6pOWUYU6E1VY"
      },
      "source": [
        "### Apply statistical methods"
      ]
    },
    {
      "cell_type": "code",
      "execution_count": null,
      "metadata": {
        "id": "zIENk7nnE1VY",
        "outputId": "98505cb7-eaf7-490b-da73-ff80b4a5bc4d"
      },
      "outputs": [
        {
          "data": {
            "text/plain": [
              "192.92415966386568"
            ]
          },
          "execution_count": 50,
          "metadata": {},
          "output_type": "execute_result"
        }
      ],
      "source": [
        "mortality_data.DeathRate.mean()"
      ]
    },
    {
      "cell_type": "code",
      "execution_count": null,
      "metadata": {
        "id": "aa61YzgTE1VY",
        "outputId": "819b3e32-46e2-4e47-eb48-62795dd00df3"
      },
      "outputs": [
        {
          "data": {
            "text/plain": [
              "AgeGroup     5-9 Years\n",
              "DeathRate       1983.8\n",
              "dtype: object"
            ]
          },
          "execution_count": 51,
          "metadata": {},
          "output_type": "execute_result"
        }
      ],
      "source": [
        "mortality_data[['AgeGroup','DeathRate']].max()"
      ]
    },
    {
      "cell_type": "code",
      "execution_count": null,
      "metadata": {
        "id": "ofqdni_fE1VZ",
        "outputId": "f6428c4f-d80c-4a3f-b9dc-925497c4710a"
      },
      "outputs": [
        {
          "data": {
            "text/plain": [
              "Year         476\n",
              "AgeGroup     476\n",
              "DeathRate    476\n",
              "dtype: int64"
            ]
          },
          "execution_count": 52,
          "metadata": {},
          "output_type": "execute_result"
        }
      ],
      "source": [
        "mortality_data.count()"
      ]
    },
    {
      "cell_type": "code",
      "execution_count": null,
      "metadata": {
        "id": "ScbVPgzPE1VZ",
        "outputId": "7695a915-2316-41b1-fa7c-fc4c7f4bd7d9"
      },
      "outputs": [
        {
          "data": {
            "text/html": [
              "<div>\n",
              "<style scoped>\n",
              "    .dataframe tbody tr th:only-of-type {\n",
              "        vertical-align: middle;\n",
              "    }\n",
              "\n",
              "    .dataframe tbody tr th {\n",
              "        vertical-align: top;\n",
              "    }\n",
              "\n",
              "    .dataframe thead th {\n",
              "        text-align: right;\n",
              "    }\n",
              "</style>\n",
              "<table border=\"1\" class=\"dataframe\">\n",
              "  <thead>\n",
              "    <tr style=\"text-align: right;\">\n",
              "      <th></th>\n",
              "      <th>Year</th>\n",
              "      <th>DeathRate</th>\n",
              "    </tr>\n",
              "  </thead>\n",
              "  <tbody>\n",
              "    <tr>\n",
              "      <th>0.1</th>\n",
              "      <td>1911.5</td>\n",
              "      <td>21.50</td>\n",
              "    </tr>\n",
              "    <tr>\n",
              "      <th>0.9</th>\n",
              "      <td>2006.5</td>\n",
              "      <td>430.85</td>\n",
              "    </tr>\n",
              "  </tbody>\n",
              "</table>\n",
              "</div>"
            ],
            "text/plain": [
              "       Year  DeathRate\n",
              "0.1  1911.5      21.50\n",
              "0.9  2006.5     430.85"
            ]
          },
          "execution_count": 53,
          "metadata": {},
          "output_type": "execute_result"
        }
      ],
      "source": [
        "mortality_data.quantile([.1,.9])"
      ]
    },
    {
      "cell_type": "code",
      "execution_count": null,
      "metadata": {
        "id": "W2rVgBJXE1VZ",
        "outputId": "fb503664-3925-4003-f846-6352915a68fe"
      },
      "outputs": [
        {
          "data": {
            "text/plain": [
              "0       1983.8\n",
              "1       3678.8\n",
              "2       5334.5\n",
              "3       6876.6\n",
              "4       8468.1\n",
              "5       9967.0\n",
              "6      11547.0\n",
              "7      13015.3\n",
              "8      14412.1\n",
              "9      15761.0\n",
              "10     17158.3\n",
              "11     18334.3\n",
              "12     19428.4\n",
              "13     20621.8\n",
              "14     21646.0\n",
              "15     22570.2\n",
              "16     23681.7\n",
              "17     24747.7\n",
              "18     26321.2\n",
              "19     27249.2\n",
              "20     28236.4\n",
              "21     29037.6\n",
              "22     29779.6\n",
              "23     30586.3\n",
              "24     31269.5\n",
              "25     31910.5\n",
              "26     32633.9\n",
              "27     33224.9\n",
              "28     33872.4\n",
              "29     34497.9\n",
              "        ...   \n",
              "446    89967.5\n",
              "447    90055.4\n",
              "448    90144.1\n",
              "449    90227.7\n",
              "450    90313.5\n",
              "451    90399.0\n",
              "452    90481.1\n",
              "453    90558.6\n",
              "454    90632.2\n",
              "455    90701.7\n",
              "456    90770.3\n",
              "457    90837.4\n",
              "458    90903.7\n",
              "459    90970.7\n",
              "460    91036.1\n",
              "461    91101.0\n",
              "462    91164.8\n",
              "463    91227.8\n",
              "464    91288.1\n",
              "465    91344.0\n",
              "466    91395.9\n",
              "467    91445.3\n",
              "468    91494.2\n",
              "469    91541.4\n",
              "470    91586.2\n",
              "471    91631.7\n",
              "472    91680.0\n",
              "473    91731.2\n",
              "474    91782.7\n",
              "475    91831.9\n",
              "Name: DeathRate, Length: 476, dtype: float64"
            ]
          },
          "execution_count": 54,
          "metadata": {},
          "output_type": "execute_result"
        }
      ],
      "source": [
        "mortality_data.DeathRate.cumsum()"
      ]
    },
    {
      "cell_type": "markdown",
      "metadata": {
        "id": "zqGA3MFIE1VZ"
      },
      "source": [
        "### Use Python for column arithmetic"
      ]
    },
    {
      "cell_type": "code",
      "execution_count": null,
      "metadata": {
        "id": "l2i19_tyE1VZ"
      },
      "outputs": [],
      "source": [
        "mortality_data['MeanCentered'] = \\\n",
        "    mortality_data.DeathRate - mortality_data.DeathRate.mean()"
      ]
    },
    {
      "cell_type": "code",
      "execution_count": null,
      "metadata": {
        "id": "NsVgfGLgE1VZ",
        "outputId": "b4a7adb2-a4ec-4a2e-ba0c-2430778b4806"
      },
      "outputs": [
        {
          "data": {
            "text/html": [
              "<div>\n",
              "<style scoped>\n",
              "    .dataframe tbody tr th:only-of-type {\n",
              "        vertical-align: middle;\n",
              "    }\n",
              "\n",
              "    .dataframe tbody tr th {\n",
              "        vertical-align: top;\n",
              "    }\n",
              "\n",
              "    .dataframe thead th {\n",
              "        text-align: right;\n",
              "    }\n",
              "</style>\n",
              "<table border=\"1\" class=\"dataframe\">\n",
              "  <thead>\n",
              "    <tr style=\"text-align: right;\">\n",
              "      <th></th>\n",
              "      <th>Year</th>\n",
              "      <th>AgeGroup</th>\n",
              "      <th>DeathRate</th>\n",
              "      <th>MeanCentered</th>\n",
              "    </tr>\n",
              "  </thead>\n",
              "  <tbody>\n",
              "    <tr>\n",
              "      <th>0</th>\n",
              "      <td>1900</td>\n",
              "      <td>1-4 Years</td>\n",
              "      <td>1983.8</td>\n",
              "      <td>1790.87584</td>\n",
              "    </tr>\n",
              "    <tr>\n",
              "      <th>1</th>\n",
              "      <td>1901</td>\n",
              "      <td>1-4 Years</td>\n",
              "      <td>1695.0</td>\n",
              "      <td>1502.07584</td>\n",
              "    </tr>\n",
              "    <tr>\n",
              "      <th>2</th>\n",
              "      <td>1902</td>\n",
              "      <td>1-4 Years</td>\n",
              "      <td>1655.7</td>\n",
              "      <td>1462.77584</td>\n",
              "    </tr>\n",
              "    <tr>\n",
              "      <th>3</th>\n",
              "      <td>1903</td>\n",
              "      <td>1-4 Years</td>\n",
              "      <td>1542.1</td>\n",
              "      <td>1349.17584</td>\n",
              "    </tr>\n",
              "  </tbody>\n",
              "</table>\n",
              "</div>"
            ],
            "text/plain": [
              "   Year   AgeGroup  DeathRate  MeanCentered\n",
              "0  1900  1-4 Years     1983.8    1790.87584\n",
              "1  1901  1-4 Years     1695.0    1502.07584\n",
              "2  1902  1-4 Years     1655.7    1462.77584\n",
              "3  1903  1-4 Years     1542.1    1349.17584"
            ]
          },
          "execution_count": 56,
          "metadata": {},
          "output_type": "execute_result"
        }
      ],
      "source": [
        "mortality_data.head(4)"
      ]
    },
    {
      "cell_type": "code",
      "execution_count": null,
      "metadata": {
        "id": "s3gGMiTHE1Va"
      },
      "outputs": [],
      "source": [
        "mortality_data['DeathRate'] = mortality_data.DeathRate / 100000"
      ]
    },
    {
      "cell_type": "code",
      "execution_count": null,
      "metadata": {
        "id": "jdEvQ5fhE1Va",
        "outputId": "8f442f88-e507-43e5-dfbb-7a5f8090d0b9"
      },
      "outputs": [
        {
          "data": {
            "text/html": [
              "<div>\n",
              "<style scoped>\n",
              "    .dataframe tbody tr th:only-of-type {\n",
              "        vertical-align: middle;\n",
              "    }\n",
              "\n",
              "    .dataframe tbody tr th {\n",
              "        vertical-align: top;\n",
              "    }\n",
              "\n",
              "    .dataframe thead th {\n",
              "        text-align: right;\n",
              "    }\n",
              "</style>\n",
              "<table border=\"1\" class=\"dataframe\">\n",
              "  <thead>\n",
              "    <tr style=\"text-align: right;\">\n",
              "      <th></th>\n",
              "      <th>Year</th>\n",
              "      <th>AgeGroup</th>\n",
              "      <th>DeathRate</th>\n",
              "      <th>MeanCentered</th>\n",
              "    </tr>\n",
              "  </thead>\n",
              "  <tbody>\n",
              "    <tr>\n",
              "      <th>0</th>\n",
              "      <td>1900</td>\n",
              "      <td>1-4 Years</td>\n",
              "      <td>0.019838</td>\n",
              "      <td>1790.87584</td>\n",
              "    </tr>\n",
              "    <tr>\n",
              "      <th>1</th>\n",
              "      <td>1901</td>\n",
              "      <td>1-4 Years</td>\n",
              "      <td>0.016950</td>\n",
              "      <td>1502.07584</td>\n",
              "    </tr>\n",
              "    <tr>\n",
              "      <th>2</th>\n",
              "      <td>1902</td>\n",
              "      <td>1-4 Years</td>\n",
              "      <td>0.016557</td>\n",
              "      <td>1462.77584</td>\n",
              "    </tr>\n",
              "    <tr>\n",
              "      <th>3</th>\n",
              "      <td>1903</td>\n",
              "      <td>1-4 Years</td>\n",
              "      <td>0.015421</td>\n",
              "      <td>1349.17584</td>\n",
              "    </tr>\n",
              "  </tbody>\n",
              "</table>\n",
              "</div>"
            ],
            "text/plain": [
              "   Year   AgeGroup  DeathRate  MeanCentered\n",
              "0  1900  1-4 Years   0.019838    1790.87584\n",
              "1  1901  1-4 Years   0.016950    1502.07584\n",
              "2  1902  1-4 Years   0.016557    1462.77584\n",
              "3  1903  1-4 Years   0.015421    1349.17584"
            ]
          },
          "execution_count": 58,
          "metadata": {},
          "output_type": "execute_result"
        }
      ],
      "source": [
        "mortality_data.head(4)"
      ]
    },
    {
      "cell_type": "markdown",
      "metadata": {
        "tags": [],
        "id": "vVEwFmAPE1Va"
      },
      "source": [
        "### Modify the string data in a column"
      ]
    },
    {
      "cell_type": "code",
      "execution_count": null,
      "metadata": {
        "id": "Kzt4_FkeE1Va"
      },
      "outputs": [],
      "source": [
        "mortality_data.AgeGroup.replace(\n",
        "    to_replace = ['1-4 Years','5-9 Years'],\n",
        "    value = ['01-04 Years','05-09 Years'],\n",
        "    inplace = True)"
      ]
    },
    {
      "cell_type": "code",
      "execution_count": null,
      "metadata": {
        "id": "sbYeiCc5E1Va"
      },
      "outputs": [],
      "source": [
        "mortality_data.AgeGroup.replace(\n",
        "    {'1-4 Years':'01-04 Years','5-9 Years':'05-09 Years'},\n",
        "    inplace = True)"
      ]
    },
    {
      "cell_type": "code",
      "execution_count": null,
      "metadata": {
        "id": "SsPYQtd0E1Va"
      },
      "outputs": [],
      "source": [
        "# mortality_data['AgeGroup'] = mortality_data.AgeGroup.str.replace('1-4 Years','01-04 Years')\n",
        "# mortality_data['AgeGroup'] = mortality_data.AgeGroup.str.replace('5-9 Years','05-09 Years')"
      ]
    },
    {
      "cell_type": "code",
      "execution_count": null,
      "metadata": {
        "id": "Nv6nF8Z9E1Vb",
        "outputId": "7e83b10f-966a-4db3-86da-a1056a9cba2b"
      },
      "outputs": [
        {
          "data": {
            "text/html": [
              "<div>\n",
              "<style scoped>\n",
              "    .dataframe tbody tr th:only-of-type {\n",
              "        vertical-align: middle;\n",
              "    }\n",
              "\n",
              "    .dataframe tbody tr th {\n",
              "        vertical-align: top;\n",
              "    }\n",
              "\n",
              "    .dataframe thead th {\n",
              "        text-align: right;\n",
              "    }\n",
              "</style>\n",
              "<table border=\"1\" class=\"dataframe\">\n",
              "  <thead>\n",
              "    <tr style=\"text-align: right;\">\n",
              "      <th></th>\n",
              "      <th>Year</th>\n",
              "      <th>AgeGroup</th>\n",
              "      <th>DeathRate</th>\n",
              "      <th>MeanCentered</th>\n",
              "    </tr>\n",
              "  </thead>\n",
              "  <tbody>\n",
              "    <tr>\n",
              "      <th>0</th>\n",
              "      <td>1900</td>\n",
              "      <td>01-04 Years</td>\n",
              "      <td>0.019838</td>\n",
              "      <td>1790.87584</td>\n",
              "    </tr>\n",
              "    <tr>\n",
              "      <th>1</th>\n",
              "      <td>1901</td>\n",
              "      <td>01-04 Years</td>\n",
              "      <td>0.016950</td>\n",
              "      <td>1502.07584</td>\n",
              "    </tr>\n",
              "    <tr>\n",
              "      <th>2</th>\n",
              "      <td>1902</td>\n",
              "      <td>01-04 Years</td>\n",
              "      <td>0.016557</td>\n",
              "      <td>1462.77584</td>\n",
              "    </tr>\n",
              "    <tr>\n",
              "      <th>3</th>\n",
              "      <td>1903</td>\n",
              "      <td>01-04 Years</td>\n",
              "      <td>0.015421</td>\n",
              "      <td>1349.17584</td>\n",
              "    </tr>\n",
              "  </tbody>\n",
              "</table>\n",
              "</div>"
            ],
            "text/plain": [
              "   Year     AgeGroup  DeathRate  MeanCentered\n",
              "0  1900  01-04 Years   0.019838    1790.87584\n",
              "1  1901  01-04 Years   0.016950    1502.07584\n",
              "2  1902  01-04 Years   0.016557    1462.77584\n",
              "3  1903  01-04 Years   0.015421    1349.17584"
            ]
          },
          "execution_count": 62,
          "metadata": {},
          "output_type": "execute_result"
        }
      ],
      "source": [
        "mortality_data.head(4)"
      ]
    },
    {
      "cell_type": "markdown",
      "metadata": {
        "id": "6jp4JlnyE1Vb"
      },
      "source": [
        "## Shape the data"
      ]
    },
    {
      "cell_type": "markdown",
      "metadata": {
        "id": "KtUPMxbIE1Vb"
      },
      "source": [
        "### Set and use an index"
      ]
    },
    {
      "cell_type": "code",
      "execution_count": null,
      "metadata": {
        "id": "hr3rGgBjE1Vb",
        "outputId": "2971156c-2680-4795-c7ba-cc34c2573176"
      },
      "outputs": [
        {
          "data": {
            "text/html": [
              "<div>\n",
              "<style scoped>\n",
              "    .dataframe tbody tr th:only-of-type {\n",
              "        vertical-align: middle;\n",
              "    }\n",
              "\n",
              "    .dataframe tbody tr th {\n",
              "        vertical-align: top;\n",
              "    }\n",
              "\n",
              "    .dataframe thead th {\n",
              "        text-align: right;\n",
              "    }\n",
              "</style>\n",
              "<table border=\"1\" class=\"dataframe\">\n",
              "  <thead>\n",
              "    <tr style=\"text-align: right;\">\n",
              "      <th></th>\n",
              "      <th>AgeGroup</th>\n",
              "      <th>DeathRate</th>\n",
              "      <th>MeanCentered</th>\n",
              "    </tr>\n",
              "    <tr>\n",
              "      <th>Year</th>\n",
              "      <th></th>\n",
              "      <th></th>\n",
              "      <th></th>\n",
              "    </tr>\n",
              "  </thead>\n",
              "  <tbody>\n",
              "    <tr>\n",
              "      <th>1900</th>\n",
              "      <td>01-04 Years</td>\n",
              "      <td>0.019838</td>\n",
              "      <td>1790.87584</td>\n",
              "    </tr>\n",
              "    <tr>\n",
              "      <th>1901</th>\n",
              "      <td>01-04 Years</td>\n",
              "      <td>0.016950</td>\n",
              "      <td>1502.07584</td>\n",
              "    </tr>\n",
              "  </tbody>\n",
              "</table>\n",
              "</div>"
            ],
            "text/plain": [
              "         AgeGroup  DeathRate  MeanCentered\n",
              "Year                                      \n",
              "1900  01-04 Years   0.019838    1790.87584\n",
              "1901  01-04 Years   0.016950    1502.07584"
            ]
          },
          "execution_count": 63,
          "metadata": {},
          "output_type": "execute_result"
        }
      ],
      "source": [
        "mortality_data = mortality_data.set_index('Year')\n",
        "mortality_data.head(2)"
      ]
    },
    {
      "cell_type": "code",
      "execution_count": null,
      "metadata": {
        "id": "v8eJLUXHE1Vb"
      },
      "outputs": [],
      "source": [
        "mortality_data.reset_index(inplace=True)"
      ]
    },
    {
      "cell_type": "code",
      "execution_count": null,
      "metadata": {
        "id": "lzNIfz_LE1Vb"
      },
      "outputs": [],
      "source": [
        "# NOTE: the following line of code causes ValueError: Index has duplicate keys\n",
        "# mortality_data = mortality_data.set_index('Year', verify_integrity=True)"
      ]
    },
    {
      "cell_type": "code",
      "execution_count": null,
      "metadata": {
        "id": "Z0UBdKULE1Vb",
        "outputId": "ade727ed-65c0-44fe-f73c-640cb1434ba9"
      },
      "outputs": [
        {
          "data": {
            "text/html": [
              "<div>\n",
              "<style scoped>\n",
              "    .dataframe tbody tr th:only-of-type {\n",
              "        vertical-align: middle;\n",
              "    }\n",
              "\n",
              "    .dataframe tbody tr th {\n",
              "        vertical-align: top;\n",
              "    }\n",
              "\n",
              "    .dataframe thead th {\n",
              "        text-align: right;\n",
              "    }\n",
              "</style>\n",
              "<table border=\"1\" class=\"dataframe\">\n",
              "  <thead>\n",
              "    <tr style=\"text-align: right;\">\n",
              "      <th></th>\n",
              "      <th></th>\n",
              "      <th>DeathRate</th>\n",
              "      <th>MeanCentered</th>\n",
              "    </tr>\n",
              "    <tr>\n",
              "      <th>Year</th>\n",
              "      <th>AgeGroup</th>\n",
              "      <th></th>\n",
              "      <th></th>\n",
              "    </tr>\n",
              "  </thead>\n",
              "  <tbody>\n",
              "    <tr>\n",
              "      <th>1900</th>\n",
              "      <th>01-04 Years</th>\n",
              "      <td>0.019838</td>\n",
              "      <td>1790.87584</td>\n",
              "    </tr>\n",
              "    <tr>\n",
              "      <th>1901</th>\n",
              "      <th>01-04 Years</th>\n",
              "      <td>0.016950</td>\n",
              "      <td>1502.07584</td>\n",
              "    </tr>\n",
              "  </tbody>\n",
              "</table>\n",
              "</div>"
            ],
            "text/plain": [
              "                  DeathRate  MeanCentered\n",
              "Year AgeGroup                            \n",
              "1900 01-04 Years   0.019838    1790.87584\n",
              "1901 01-04 Years   0.016950    1502.07584"
            ]
          },
          "execution_count": 66,
          "metadata": {},
          "output_type": "execute_result"
        }
      ],
      "source": [
        "mortality_data = mortality_data.set_index(\n",
        "    ['Year','AgeGroup'], verify_integrity=True)\n",
        "mortality_data.head(2)"
      ]
    },
    {
      "cell_type": "code",
      "execution_count": null,
      "metadata": {
        "scrolled": true,
        "id": "GLGRuOraE1Vc",
        "outputId": "60c42820-2afc-48ad-d99c-e268be1e1e24"
      },
      "outputs": [
        {
          "data": {
            "text/html": [
              "<div>\n",
              "<style scoped>\n",
              "    .dataframe tbody tr th:only-of-type {\n",
              "        vertical-align: middle;\n",
              "    }\n",
              "\n",
              "    .dataframe tbody tr th {\n",
              "        vertical-align: top;\n",
              "    }\n",
              "\n",
              "    .dataframe thead th {\n",
              "        text-align: right;\n",
              "    }\n",
              "</style>\n",
              "<table border=\"1\" class=\"dataframe\">\n",
              "  <thead>\n",
              "    <tr style=\"text-align: right;\">\n",
              "      <th></th>\n",
              "      <th>Year</th>\n",
              "      <th>AgeGroup</th>\n",
              "      <th>DeathRate</th>\n",
              "      <th>MeanCentered</th>\n",
              "    </tr>\n",
              "  </thead>\n",
              "  <tbody>\n",
              "    <tr>\n",
              "      <th>0</th>\n",
              "      <td>1900</td>\n",
              "      <td>01-04 Years</td>\n",
              "      <td>0.019838</td>\n",
              "      <td>1790.87584</td>\n",
              "    </tr>\n",
              "    <tr>\n",
              "      <th>1</th>\n",
              "      <td>1901</td>\n",
              "      <td>01-04 Years</td>\n",
              "      <td>0.016950</td>\n",
              "      <td>1502.07584</td>\n",
              "    </tr>\n",
              "  </tbody>\n",
              "</table>\n",
              "</div>"
            ],
            "text/plain": [
              "   Year     AgeGroup  DeathRate  MeanCentered\n",
              "0  1900  01-04 Years   0.019838    1790.87584\n",
              "1  1901  01-04 Years   0.016950    1502.07584"
            ]
          },
          "execution_count": 67,
          "metadata": {},
          "output_type": "execute_result"
        }
      ],
      "source": [
        "mortality_data.reset_index(inplace=True)\n",
        "mortality_data.head(2)"
      ]
    },
    {
      "cell_type": "markdown",
      "metadata": {
        "id": "hSwsDOE_E1Vc"
      },
      "source": [
        "### Pivot the data"
      ]
    },
    {
      "cell_type": "code",
      "execution_count": null,
      "metadata": {
        "id": "XP_ln_DzE1Vc",
        "outputId": "d391b4f7-7016-43f1-b884-63f827e220d7"
      },
      "outputs": [
        {
          "data": {
            "text/html": [
              "<div>\n",
              "<style scoped>\n",
              "    .dataframe tbody tr th:only-of-type {\n",
              "        vertical-align: middle;\n",
              "    }\n",
              "\n",
              "    .dataframe tbody tr th {\n",
              "        vertical-align: top;\n",
              "    }\n",
              "\n",
              "    .dataframe thead th {\n",
              "        text-align: right;\n",
              "    }\n",
              "</style>\n",
              "<table border=\"1\" class=\"dataframe\">\n",
              "  <thead>\n",
              "    <tr style=\"text-align: right;\">\n",
              "      <th>AgeGroup</th>\n",
              "      <th>01-04 Years</th>\n",
              "      <th>05-09 Years</th>\n",
              "      <th>10-14 Years</th>\n",
              "      <th>15-19 Years</th>\n",
              "    </tr>\n",
              "    <tr>\n",
              "      <th>Year</th>\n",
              "      <th></th>\n",
              "      <th></th>\n",
              "      <th></th>\n",
              "      <th></th>\n",
              "    </tr>\n",
              "  </thead>\n",
              "  <tbody>\n",
              "    <tr>\n",
              "      <th>1900</th>\n",
              "      <td>0.019838</td>\n",
              "      <td>0.004661</td>\n",
              "      <td>0.002983</td>\n",
              "      <td>0.004848</td>\n",
              "    </tr>\n",
              "    <tr>\n",
              "      <th>1901</th>\n",
              "      <td>0.016950</td>\n",
              "      <td>0.004276</td>\n",
              "      <td>0.002736</td>\n",
              "      <td>0.004544</td>\n",
              "    </tr>\n",
              "    <tr>\n",
              "      <th>1902</th>\n",
              "      <td>0.016557</td>\n",
              "      <td>0.004033</td>\n",
              "      <td>0.002525</td>\n",
              "      <td>0.004215</td>\n",
              "    </tr>\n",
              "  </tbody>\n",
              "</table>\n",
              "</div>"
            ],
            "text/plain": [
              "AgeGroup  01-04 Years  05-09 Years  10-14 Years  15-19 Years\n",
              "Year                                                        \n",
              "1900         0.019838     0.004661     0.002983     0.004848\n",
              "1901         0.016950     0.004276     0.002736     0.004544\n",
              "1902         0.016557     0.004033     0.002525     0.004215"
            ]
          },
          "execution_count": 68,
          "metadata": {},
          "output_type": "execute_result"
        }
      ],
      "source": [
        "mortality_wide = mortality_data.pivot(\n",
        "    index='Year', columns='AgeGroup', values='DeathRate')\n",
        "mortality_wide.head(3)"
      ]
    },
    {
      "cell_type": "code",
      "execution_count": null,
      "metadata": {
        "tags": [],
        "id": "IBCxPfzcE1Vc",
        "outputId": "387bf4fe-4255-45c4-8bc9-2f1f2cf3e662"
      },
      "outputs": [
        {
          "data": {
            "text/html": [
              "<div>\n",
              "<style scoped>\n",
              "    .dataframe tbody tr th:only-of-type {\n",
              "        vertical-align: middle;\n",
              "    }\n",
              "\n",
              "    .dataframe tbody tr th {\n",
              "        vertical-align: top;\n",
              "    }\n",
              "\n",
              "    .dataframe thead tr th {\n",
              "        text-align: left;\n",
              "    }\n",
              "\n",
              "    .dataframe thead tr:last-of-type th {\n",
              "        text-align: right;\n",
              "    }\n",
              "</style>\n",
              "<table border=\"1\" class=\"dataframe\">\n",
              "  <thead>\n",
              "    <tr>\n",
              "      <th></th>\n",
              "      <th colspan=\"4\" halign=\"left\">DeathRate</th>\n",
              "      <th colspan=\"4\" halign=\"left\">MeanCentered</th>\n",
              "    </tr>\n",
              "    <tr>\n",
              "      <th>AgeGroup</th>\n",
              "      <th>01-04 Years</th>\n",
              "      <th>05-09 Years</th>\n",
              "      <th>10-14 Years</th>\n",
              "      <th>15-19 Years</th>\n",
              "      <th>01-04 Years</th>\n",
              "      <th>05-09 Years</th>\n",
              "      <th>10-14 Years</th>\n",
              "      <th>15-19 Years</th>\n",
              "    </tr>\n",
              "    <tr>\n",
              "      <th>Year</th>\n",
              "      <th></th>\n",
              "      <th></th>\n",
              "      <th></th>\n",
              "      <th></th>\n",
              "      <th></th>\n",
              "      <th></th>\n",
              "      <th></th>\n",
              "      <th></th>\n",
              "    </tr>\n",
              "  </thead>\n",
              "  <tbody>\n",
              "    <tr>\n",
              "      <th>1900</th>\n",
              "      <td>0.019838</td>\n",
              "      <td>0.004661</td>\n",
              "      <td>0.002983</td>\n",
              "      <td>0.004848</td>\n",
              "      <td>1790.87584</td>\n",
              "      <td>273.17584</td>\n",
              "      <td>105.37584</td>\n",
              "      <td>291.87584</td>\n",
              "    </tr>\n",
              "    <tr>\n",
              "      <th>1901</th>\n",
              "      <td>0.016950</td>\n",
              "      <td>0.004276</td>\n",
              "      <td>0.002736</td>\n",
              "      <td>0.004544</td>\n",
              "      <td>1502.07584</td>\n",
              "      <td>234.67584</td>\n",
              "      <td>80.67584</td>\n",
              "      <td>261.47584</td>\n",
              "    </tr>\n",
              "    <tr>\n",
              "      <th>1902</th>\n",
              "      <td>0.016557</td>\n",
              "      <td>0.004033</td>\n",
              "      <td>0.002525</td>\n",
              "      <td>0.004215</td>\n",
              "      <td>1462.77584</td>\n",
              "      <td>210.37584</td>\n",
              "      <td>59.57584</td>\n",
              "      <td>228.57584</td>\n",
              "    </tr>\n",
              "  </tbody>\n",
              "</table>\n",
              "</div>"
            ],
            "text/plain": [
              "           DeathRate                                     MeanCentered  \\\n",
              "AgeGroup 01-04 Years 05-09 Years 10-14 Years 15-19 Years  01-04 Years   \n",
              "Year                                                                    \n",
              "1900        0.019838    0.004661    0.002983    0.004848   1790.87584   \n",
              "1901        0.016950    0.004276    0.002736    0.004544   1502.07584   \n",
              "1902        0.016557    0.004033    0.002525    0.004215   1462.77584   \n",
              "\n",
              "                                              \n",
              "AgeGroup 05-09 Years 10-14 Years 15-19 Years  \n",
              "Year                                          \n",
              "1900       273.17584   105.37584   291.87584  \n",
              "1901       234.67584    80.67584   261.47584  \n",
              "1902       210.37584    59.57584   228.57584  "
            ]
          },
          "execution_count": 69,
          "metadata": {},
          "output_type": "execute_result"
        }
      ],
      "source": [
        "mortality_wide = mortality_data.pivot(\n",
        "    index='Year', columns='AgeGroup')\n",
        "mortality_wide.head(3)"
      ]
    },
    {
      "cell_type": "markdown",
      "metadata": {
        "id": "94YaI-wnE1Vc"
      },
      "source": [
        "### Melt the data"
      ]
    },
    {
      "cell_type": "code",
      "execution_count": null,
      "metadata": {
        "id": "p4oN9HOpE1Vc",
        "outputId": "5cb10f0e-d7cd-4be6-d1e6-c4e4718fc9aa"
      },
      "outputs": [
        {
          "data": {
            "text/html": [
              "<div>\n",
              "<style scoped>\n",
              "    .dataframe tbody tr th:only-of-type {\n",
              "        vertical-align: middle;\n",
              "    }\n",
              "\n",
              "    .dataframe tbody tr th {\n",
              "        vertical-align: top;\n",
              "    }\n",
              "\n",
              "    .dataframe thead th {\n",
              "        text-align: right;\n",
              "    }\n",
              "</style>\n",
              "<table border=\"1\" class=\"dataframe\">\n",
              "  <thead>\n",
              "    <tr style=\"text-align: right;\">\n",
              "      <th></th>\n",
              "      <th>Year</th>\n",
              "      <th>01-04 Years</th>\n",
              "      <th>05-09 Years</th>\n",
              "      <th>10-14 Years</th>\n",
              "      <th>15-19 Years</th>\n",
              "    </tr>\n",
              "  </thead>\n",
              "  <tbody>\n",
              "    <tr>\n",
              "      <th>0</th>\n",
              "      <td>1900</td>\n",
              "      <td>0.019838</td>\n",
              "      <td>0.004661</td>\n",
              "      <td>0.002983</td>\n",
              "      <td>0.004848</td>\n",
              "    </tr>\n",
              "    <tr>\n",
              "      <th>1</th>\n",
              "      <td>1901</td>\n",
              "      <td>0.016950</td>\n",
              "      <td>0.004276</td>\n",
              "      <td>0.002736</td>\n",
              "      <td>0.004544</td>\n",
              "    </tr>\n",
              "    <tr>\n",
              "      <th>2</th>\n",
              "      <td>1902</td>\n",
              "      <td>0.016557</td>\n",
              "      <td>0.004033</td>\n",
              "      <td>0.002525</td>\n",
              "      <td>0.004215</td>\n",
              "    </tr>\n",
              "    <tr>\n",
              "      <th>3</th>\n",
              "      <td>1903</td>\n",
              "      <td>0.015421</td>\n",
              "      <td>0.004147</td>\n",
              "      <td>0.002682</td>\n",
              "      <td>0.004341</td>\n",
              "    </tr>\n",
              "  </tbody>\n",
              "</table>\n",
              "</div>"
            ],
            "text/plain": [
              "   Year  01-04 Years  05-09 Years  10-14 Years  15-19 Years\n",
              "0  1900     0.019838     0.004661     0.002983     0.004848\n",
              "1  1901     0.016950     0.004276     0.002736     0.004544\n",
              "2  1902     0.016557     0.004033     0.002525     0.004215\n",
              "3  1903     0.015421     0.004147     0.002682     0.004341"
            ]
          },
          "execution_count": 70,
          "metadata": {},
          "output_type": "execute_result"
        }
      ],
      "source": [
        "# get starting data\n",
        "mortality_wide = mortality_data.pivot(\n",
        "    index='Year', columns='AgeGroup', values='DeathRate')\n",
        "\n",
        "# save to Excel format to remove indexes\n",
        "mortality_wide.to_excel('mortality_wide.xlsx')\n",
        "mortality_wide = pd.read_excel('mortality_wide.xlsx')\n",
        "\n",
        "mortality_wide.head(4)"
      ]
    },
    {
      "cell_type": "code",
      "execution_count": null,
      "metadata": {
        "id": "kL1-Y1VDE1Vc",
        "outputId": "5cf990cb-9752-4a3e-dd4d-48e576c1de87"
      },
      "outputs": [
        {
          "data": {
            "text/html": [
              "<div>\n",
              "<style scoped>\n",
              "    .dataframe tbody tr th:only-of-type {\n",
              "        vertical-align: middle;\n",
              "    }\n",
              "\n",
              "    .dataframe tbody tr th {\n",
              "        vertical-align: top;\n",
              "    }\n",
              "\n",
              "    .dataframe thead th {\n",
              "        text-align: right;\n",
              "    }\n",
              "</style>\n",
              "<table border=\"1\" class=\"dataframe\">\n",
              "  <thead>\n",
              "    <tr style=\"text-align: right;\">\n",
              "      <th></th>\n",
              "      <th>Year</th>\n",
              "      <th>AgeGroup</th>\n",
              "      <th>DeathRate</th>\n",
              "    </tr>\n",
              "  </thead>\n",
              "  <tbody>\n",
              "    <tr>\n",
              "      <th>0</th>\n",
              "      <td>1900</td>\n",
              "      <td>01-04 Years</td>\n",
              "      <td>0.019838</td>\n",
              "    </tr>\n",
              "    <tr>\n",
              "      <th>1</th>\n",
              "      <td>1901</td>\n",
              "      <td>01-04 Years</td>\n",
              "      <td>0.016950</td>\n",
              "    </tr>\n",
              "    <tr>\n",
              "      <th>...</th>\n",
              "      <td>...</td>\n",
              "      <td>...</td>\n",
              "      <td>...</td>\n",
              "    </tr>\n",
              "    <tr>\n",
              "      <th>236</th>\n",
              "      <td>2017</td>\n",
              "      <td>05-09 Years</td>\n",
              "      <td>0.000116</td>\n",
              "    </tr>\n",
              "    <tr>\n",
              "      <th>237</th>\n",
              "      <td>2018</td>\n",
              "      <td>05-09 Years</td>\n",
              "      <td>0.000115</td>\n",
              "    </tr>\n",
              "  </tbody>\n",
              "</table>\n",
              "<p>238 rows × 3 columns</p>\n",
              "</div>"
            ],
            "text/plain": [
              "     Year     AgeGroup  DeathRate\n",
              "0    1900  01-04 Years   0.019838\n",
              "1    1901  01-04 Years   0.016950\n",
              "..    ...          ...        ...\n",
              "236  2017  05-09 Years   0.000116\n",
              "237  2018  05-09 Years   0.000115\n",
              "\n",
              "[238 rows x 3 columns]"
            ]
          },
          "metadata": {},
          "output_type": "display_data"
        }
      ],
      "source": [
        "mortality_long = mortality_wide.melt(\n",
        "    id_vars = 'Year',\n",
        "    value_vars=['01-04 Years','05-09 Years'],\n",
        "    var_name ='AgeGroup',\n",
        "    value_name='DeathRate')\n",
        "\n",
        "with pd.option_context('display.max_rows', 4):\n",
        "    display(mortality_long)"
      ]
    },
    {
      "cell_type": "markdown",
      "metadata": {
        "id": "UFhff47_E1Vd"
      },
      "source": [
        "## Analyze the data"
      ]
    },
    {
      "cell_type": "markdown",
      "metadata": {
        "id": "nh-RyqLPE1Vd"
      },
      "source": [
        "### Group the data"
      ]
    },
    {
      "cell_type": "code",
      "execution_count": null,
      "metadata": {
        "id": "OYaFecbTE1Vd",
        "outputId": "6ac7ebc6-42a7-4cad-dab1-e77988ac7fc1"
      },
      "outputs": [
        {
          "data": {
            "text/html": [
              "<div>\n",
              "<style scoped>\n",
              "    .dataframe tbody tr th:only-of-type {\n",
              "        vertical-align: middle;\n",
              "    }\n",
              "\n",
              "    .dataframe tbody tr th {\n",
              "        vertical-align: top;\n",
              "    }\n",
              "\n",
              "    .dataframe thead th {\n",
              "        text-align: right;\n",
              "    }\n",
              "</style>\n",
              "<table border=\"1\" class=\"dataframe\">\n",
              "  <thead>\n",
              "    <tr style=\"text-align: right;\">\n",
              "      <th></th>\n",
              "      <th>Year</th>\n",
              "      <th>DeathRate</th>\n",
              "      <th>MeanCentered</th>\n",
              "    </tr>\n",
              "    <tr>\n",
              "      <th>AgeGroup</th>\n",
              "      <th></th>\n",
              "      <th></th>\n",
              "      <th></th>\n",
              "    </tr>\n",
              "  </thead>\n",
              "  <tbody>\n",
              "    <tr>\n",
              "      <th>01-04 Years</th>\n",
              "      <td>1959</td>\n",
              "      <td>0.003832</td>\n",
              "      <td>190.301891</td>\n",
              "    </tr>\n",
              "    <tr>\n",
              "      <th>05-09 Years</th>\n",
              "      <td>1959</td>\n",
              "      <td>0.001173</td>\n",
              "      <td>-75.598109</td>\n",
              "    </tr>\n",
              "    <tr>\n",
              "      <th>10-14 Years</th>\n",
              "      <td>1959</td>\n",
              "      <td>0.000938</td>\n",
              "      <td>-99.154412</td>\n",
              "    </tr>\n",
              "    <tr>\n",
              "      <th>15-19 Years</th>\n",
              "      <td>1959</td>\n",
              "      <td>0.001774</td>\n",
              "      <td>-15.549370</td>\n",
              "    </tr>\n",
              "  </tbody>\n",
              "</table>\n",
              "</div>"
            ],
            "text/plain": [
              "             Year  DeathRate  MeanCentered\n",
              "AgeGroup                                  \n",
              "01-04 Years  1959   0.003832    190.301891\n",
              "05-09 Years  1959   0.001173    -75.598109\n",
              "10-14 Years  1959   0.000938    -99.154412\n",
              "15-19 Years  1959   0.001774    -15.549370"
            ]
          },
          "execution_count": 72,
          "metadata": {},
          "output_type": "execute_result"
        }
      ],
      "source": [
        "mortality_data.groupby('AgeGroup').mean()"
      ]
    },
    {
      "cell_type": "code",
      "execution_count": null,
      "metadata": {
        "id": "dSVCUxlBE1Vd",
        "outputId": "2664227c-b328-47a2-af40-c888027cfba0"
      },
      "outputs": [
        {
          "data": {
            "text/html": [
              "<div>\n",
              "<style scoped>\n",
              "    .dataframe tbody tr th:only-of-type {\n",
              "        vertical-align: middle;\n",
              "    }\n",
              "\n",
              "    .dataframe tbody tr th {\n",
              "        vertical-align: top;\n",
              "    }\n",
              "\n",
              "    .dataframe thead th {\n",
              "        text-align: right;\n",
              "    }\n",
              "</style>\n",
              "<table border=\"1\" class=\"dataframe\">\n",
              "  <thead>\n",
              "    <tr style=\"text-align: right;\">\n",
              "      <th></th>\n",
              "      <th>DeathRate</th>\n",
              "      <th>MeanCentered</th>\n",
              "    </tr>\n",
              "    <tr>\n",
              "      <th>Year</th>\n",
              "      <th></th>\n",
              "      <th></th>\n",
              "    </tr>\n",
              "  </thead>\n",
              "  <tbody>\n",
              "    <tr>\n",
              "      <th>1900</th>\n",
              "      <td>0.004755</td>\n",
              "      <td>282.52584</td>\n",
              "    </tr>\n",
              "    <tr>\n",
              "      <th>1901</th>\n",
              "      <td>0.004410</td>\n",
              "      <td>248.07584</td>\n",
              "    </tr>\n",
              "    <tr>\n",
              "      <th>1902</th>\n",
              "      <td>0.004124</td>\n",
              "      <td>219.47584</td>\n",
              "    </tr>\n",
              "    <tr>\n",
              "      <th>1903</th>\n",
              "      <td>0.004244</td>\n",
              "      <td>231.47584</td>\n",
              "    </tr>\n",
              "  </tbody>\n",
              "</table>\n",
              "</div>"
            ],
            "text/plain": [
              "      DeathRate  MeanCentered\n",
              "Year                         \n",
              "1900   0.004755     282.52584\n",
              "1901   0.004410     248.07584\n",
              "1902   0.004124     219.47584\n",
              "1903   0.004244     231.47584"
            ]
          },
          "execution_count": 73,
          "metadata": {},
          "output_type": "execute_result"
        }
      ],
      "source": [
        "mortality_data.groupby('Year').median().head(4)"
      ]
    },
    {
      "cell_type": "code",
      "execution_count": null,
      "metadata": {
        "id": "y1Aluw1tE1Vd",
        "outputId": "935b3667-8db5-4955-b670-6ef8b0faf458"
      },
      "outputs": [
        {
          "data": {
            "text/html": [
              "<div>\n",
              "<style scoped>\n",
              "    .dataframe tbody tr th:only-of-type {\n",
              "        vertical-align: middle;\n",
              "    }\n",
              "\n",
              "    .dataframe tbody tr th {\n",
              "        vertical-align: top;\n",
              "    }\n",
              "\n",
              "    .dataframe thead th {\n",
              "        text-align: right;\n",
              "    }\n",
              "</style>\n",
              "<table border=\"1\" class=\"dataframe\">\n",
              "  <thead>\n",
              "    <tr style=\"text-align: right;\">\n",
              "      <th></th>\n",
              "      <th></th>\n",
              "      <th>DeathRate</th>\n",
              "      <th>MeanCentered</th>\n",
              "    </tr>\n",
              "    <tr>\n",
              "      <th>Year</th>\n",
              "      <th>AgeGroup</th>\n",
              "      <th></th>\n",
              "      <th></th>\n",
              "    </tr>\n",
              "  </thead>\n",
              "  <tbody>\n",
              "    <tr>\n",
              "      <th rowspan=\"4\" valign=\"top\">1900</th>\n",
              "      <th>01-04 Years</th>\n",
              "      <td>1</td>\n",
              "      <td>1</td>\n",
              "    </tr>\n",
              "    <tr>\n",
              "      <th>05-09 Years</th>\n",
              "      <td>1</td>\n",
              "      <td>1</td>\n",
              "    </tr>\n",
              "    <tr>\n",
              "      <th>10-14 Years</th>\n",
              "      <td>1</td>\n",
              "      <td>1</td>\n",
              "    </tr>\n",
              "    <tr>\n",
              "      <th>15-19 Years</th>\n",
              "      <td>1</td>\n",
              "      <td>1</td>\n",
              "    </tr>\n",
              "    <tr>\n",
              "      <th>1901</th>\n",
              "      <th>01-04 Years</th>\n",
              "      <td>1</td>\n",
              "      <td>1</td>\n",
              "    </tr>\n",
              "  </tbody>\n",
              "</table>\n",
              "</div>"
            ],
            "text/plain": [
              "                  DeathRate  MeanCentered\n",
              "Year AgeGroup                            \n",
              "1900 01-04 Years          1             1\n",
              "     05-09 Years          1             1\n",
              "     10-14 Years          1             1\n",
              "     15-19 Years          1             1\n",
              "1901 01-04 Years          1             1"
            ]
          },
          "execution_count": 74,
          "metadata": {},
          "output_type": "execute_result"
        }
      ],
      "source": [
        "mortality_data.groupby(['Year','AgeGroup']).count().head()"
      ]
    },
    {
      "cell_type": "markdown",
      "metadata": {
        "id": "sa7l7138E1Vd"
      },
      "source": [
        "### Aggregate the data"
      ]
    },
    {
      "cell_type": "code",
      "execution_count": null,
      "metadata": {
        "id": "Z6nLd938E1Ve",
        "outputId": "1b43ca3a-f058-4517-ba7d-6ab8484e772a"
      },
      "outputs": [
        {
          "data": {
            "text/html": [
              "<div>\n",
              "<style scoped>\n",
              "    .dataframe tbody tr th:only-of-type {\n",
              "        vertical-align: middle;\n",
              "    }\n",
              "\n",
              "    .dataframe tbody tr th {\n",
              "        vertical-align: top;\n",
              "    }\n",
              "\n",
              "    .dataframe thead tr th {\n",
              "        text-align: left;\n",
              "    }\n",
              "\n",
              "    .dataframe thead tr:last-of-type th {\n",
              "        text-align: right;\n",
              "    }\n",
              "</style>\n",
              "<table border=\"1\" class=\"dataframe\">\n",
              "  <thead>\n",
              "    <tr>\n",
              "      <th></th>\n",
              "      <th colspan=\"2\" halign=\"left\">Year</th>\n",
              "      <th colspan=\"2\" halign=\"left\">DeathRate</th>\n",
              "      <th colspan=\"2\" halign=\"left\">MeanCentered</th>\n",
              "    </tr>\n",
              "    <tr>\n",
              "      <th></th>\n",
              "      <th>mean</th>\n",
              "      <th>median</th>\n",
              "      <th>mean</th>\n",
              "      <th>median</th>\n",
              "      <th>mean</th>\n",
              "      <th>median</th>\n",
              "    </tr>\n",
              "    <tr>\n",
              "      <th>AgeGroup</th>\n",
              "      <th></th>\n",
              "      <th></th>\n",
              "      <th></th>\n",
              "      <th></th>\n",
              "      <th></th>\n",
              "      <th></th>\n",
              "    </tr>\n",
              "  </thead>\n",
              "  <tbody>\n",
              "    <tr>\n",
              "      <th>01-04 Years</th>\n",
              "      <td>1959</td>\n",
              "      <td>1959</td>\n",
              "      <td>0.003832</td>\n",
              "      <td>0.001091</td>\n",
              "      <td>190.301891</td>\n",
              "      <td>-83.82416</td>\n",
              "    </tr>\n",
              "    <tr>\n",
              "      <th>05-09 Years</th>\n",
              "      <td>1959</td>\n",
              "      <td>1959</td>\n",
              "      <td>0.001173</td>\n",
              "      <td>0.000484</td>\n",
              "      <td>-75.598109</td>\n",
              "      <td>-144.52416</td>\n",
              "    </tr>\n",
              "    <tr>\n",
              "      <th>10-14 Years</th>\n",
              "      <td>1959</td>\n",
              "      <td>1959</td>\n",
              "      <td>0.000938</td>\n",
              "      <td>0.000446</td>\n",
              "      <td>-99.154412</td>\n",
              "      <td>-148.32416</td>\n",
              "    </tr>\n",
              "    <tr>\n",
              "      <th>15-19 Years</th>\n",
              "      <td>1959</td>\n",
              "      <td>1959</td>\n",
              "      <td>0.001774</td>\n",
              "      <td>0.001069</td>\n",
              "      <td>-15.549370</td>\n",
              "      <td>-86.02416</td>\n",
              "    </tr>\n",
              "  </tbody>\n",
              "</table>\n",
              "</div>"
            ],
            "text/plain": [
              "             Year        DeathRate           MeanCentered           \n",
              "             mean median      mean    median         mean     median\n",
              "AgeGroup                                                            \n",
              "01-04 Years  1959   1959  0.003832  0.001091   190.301891  -83.82416\n",
              "05-09 Years  1959   1959  0.001173  0.000484   -75.598109 -144.52416\n",
              "10-14 Years  1959   1959  0.000938  0.000446   -99.154412 -148.32416\n",
              "15-19 Years  1959   1959  0.001774  0.001069   -15.549370  -86.02416"
            ]
          },
          "execution_count": 75,
          "metadata": {},
          "output_type": "execute_result"
        }
      ],
      "source": [
        "mortality_data.groupby('AgeGroup').agg(['mean','median'])"
      ]
    },
    {
      "cell_type": "code",
      "execution_count": null,
      "metadata": {
        "id": "OYU1wYaaE1Ve",
        "outputId": "00fd83d1-8733-412c-b8be-0b66dd18e07b"
      },
      "outputs": [
        {
          "data": {
            "text/html": [
              "<div>\n",
              "<style scoped>\n",
              "    .dataframe tbody tr th:only-of-type {\n",
              "        vertical-align: middle;\n",
              "    }\n",
              "\n",
              "    .dataframe tbody tr th {\n",
              "        vertical-align: top;\n",
              "    }\n",
              "\n",
              "    .dataframe thead th {\n",
              "        text-align: right;\n",
              "    }\n",
              "</style>\n",
              "<table border=\"1\" class=\"dataframe\">\n",
              "  <thead>\n",
              "    <tr style=\"text-align: right;\">\n",
              "      <th></th>\n",
              "      <th>mean</th>\n",
              "      <th>median</th>\n",
              "      <th>std</th>\n",
              "      <th>nunique</th>\n",
              "    </tr>\n",
              "    <tr>\n",
              "      <th>AgeGroup</th>\n",
              "      <th></th>\n",
              "      <th></th>\n",
              "      <th></th>\n",
              "      <th></th>\n",
              "    </tr>\n",
              "  </thead>\n",
              "  <tbody>\n",
              "    <tr>\n",
              "      <th>01-04 Years</th>\n",
              "      <td>0.003832</td>\n",
              "      <td>0.001091</td>\n",
              "      <td>0.005005</td>\n",
              "      <td>117</td>\n",
              "    </tr>\n",
              "    <tr>\n",
              "      <th>05-09 Years</th>\n",
              "      <td>0.001173</td>\n",
              "      <td>0.000484</td>\n",
              "      <td>0.001275</td>\n",
              "      <td>115</td>\n",
              "    </tr>\n",
              "    <tr>\n",
              "      <th>10-14 Years</th>\n",
              "      <td>0.000938</td>\n",
              "      <td>0.000446</td>\n",
              "      <td>0.000884</td>\n",
              "      <td>115</td>\n",
              "    </tr>\n",
              "    <tr>\n",
              "      <th>15-19 Years</th>\n",
              "      <td>0.001774</td>\n",
              "      <td>0.001069</td>\n",
              "      <td>0.001384</td>\n",
              "      <td>117</td>\n",
              "    </tr>\n",
              "  </tbody>\n",
              "</table>\n",
              "</div>"
            ],
            "text/plain": [
              "                 mean    median       std  nunique\n",
              "AgeGroup                                          \n",
              "01-04 Years  0.003832  0.001091  0.005005      117\n",
              "05-09 Years  0.001173  0.000484  0.001275      115\n",
              "10-14 Years  0.000938  0.000446  0.000884      115\n",
              "15-19 Years  0.001774  0.001069  0.001384      117"
            ]
          },
          "execution_count": 76,
          "metadata": {},
          "output_type": "execute_result"
        }
      ],
      "source": [
        "mortality_data.groupby('AgeGroup')['DeathRate'] \\\n",
        "    .agg(['mean','median','std','nunique'])"
      ]
    },
    {
      "cell_type": "code",
      "execution_count": null,
      "metadata": {
        "id": "668-AxtlE1Ve",
        "outputId": "5a4a577b-1a01-4f76-d86c-99700e3e81d5"
      },
      "outputs": [
        {
          "data": {
            "text/html": [
              "<div>\n",
              "<style scoped>\n",
              "    .dataframe tbody tr th:only-of-type {\n",
              "        vertical-align: middle;\n",
              "    }\n",
              "\n",
              "    .dataframe tbody tr th {\n",
              "        vertical-align: top;\n",
              "    }\n",
              "\n",
              "    .dataframe thead th {\n",
              "        text-align: right;\n",
              "    }\n",
              "</style>\n",
              "<table border=\"1\" class=\"dataframe\">\n",
              "  <thead>\n",
              "    <tr style=\"text-align: right;\">\n",
              "      <th></th>\n",
              "      <th>mean</th>\n",
              "      <th>median</th>\n",
              "      <th>std</th>\n",
              "      <th>min</th>\n",
              "      <th>max</th>\n",
              "      <th>var</th>\n",
              "      <th>nunique</th>\n",
              "    </tr>\n",
              "    <tr>\n",
              "      <th>Year</th>\n",
              "      <th></th>\n",
              "      <th></th>\n",
              "      <th></th>\n",
              "      <th></th>\n",
              "      <th></th>\n",
              "      <th></th>\n",
              "      <th></th>\n",
              "    </tr>\n",
              "  </thead>\n",
              "  <tbody>\n",
              "    <tr>\n",
              "      <th>1900</th>\n",
              "      <td>0.008082</td>\n",
              "      <td>0.004755</td>\n",
              "      <td>0.007882</td>\n",
              "      <td>0.002983</td>\n",
              "      <td>0.019838</td>\n",
              "      <td>0.000062</td>\n",
              "      <td>4</td>\n",
              "    </tr>\n",
              "    <tr>\n",
              "      <th>1901</th>\n",
              "      <td>0.007127</td>\n",
              "      <td>0.004410</td>\n",
              "      <td>0.006597</td>\n",
              "      <td>0.002736</td>\n",
              "      <td>0.016950</td>\n",
              "      <td>0.000044</td>\n",
              "      <td>4</td>\n",
              "    </tr>\n",
              "    <tr>\n",
              "      <th>1902</th>\n",
              "      <td>0.006832</td>\n",
              "      <td>0.004124</td>\n",
              "      <td>0.006527</td>\n",
              "      <td>0.002525</td>\n",
              "      <td>0.016557</td>\n",
              "      <td>0.000043</td>\n",
              "      <td>4</td>\n",
              "    </tr>\n",
              "  </tbody>\n",
              "</table>\n",
              "</div>"
            ],
            "text/plain": [
              "          mean    median       std       min       max       var  nunique\n",
              "Year                                                                     \n",
              "1900  0.008082  0.004755  0.007882  0.002983  0.019838  0.000062        4\n",
              "1901  0.007127  0.004410  0.006597  0.002736  0.016950  0.000044        4\n",
              "1902  0.006832  0.004124  0.006527  0.002525  0.016557  0.000043        4"
            ]
          },
          "execution_count": 77,
          "metadata": {},
          "output_type": "execute_result"
        }
      ],
      "source": [
        "mortality_data.groupby('Year')['DeathRate'] \\\n",
        "    .agg(['mean','median','std','min','max','var','nunique']).head(3)"
      ]
    },
    {
      "cell_type": "markdown",
      "metadata": {
        "id": "CMsDZTQyE1Ve"
      },
      "source": [
        "## Visualize the data"
      ]
    },
    {
      "cell_type": "code",
      "execution_count": null,
      "metadata": {
        "id": "zTHCR5niE1Ve",
        "outputId": "7f9201a1-489b-43ce-fe58-e8d209a5d749"
      },
      "outputs": [
        {
          "data": {
            "text/plain": [
              "<matplotlib.axes._subplots.AxesSubplot at 0x24406a48b70>"
            ]
          },
          "execution_count": 78,
          "metadata": {},
          "output_type": "execute_result"
        }
      ],
      "source": [
        "mortality_data.pivot(index='Year',columns='AgeGroup')['DeathRate'].plot()"
      ]
    },
    {
      "cell_type": "code",
      "execution_count": null,
      "metadata": {
        "id": "r7nrpKNBE1Ve",
        "outputId": "74476403-3fb1-4a54-94ec-b15a74eda081"
      },
      "outputs": [
        {
          "data": {
            "text/plain": [
              "<matplotlib.axes._subplots.AxesSubplot at 0x24406d31860>"
            ]
          },
          "execution_count": 79,
          "metadata": {},
          "output_type": "execute_result"
        },
        {
          "data": {
            "image/png": "[encoded data removed]",
            "text/plain": [
              "<Figure size 432x288 with 1 Axes>"
            ]
          },
          "metadata": {},
          "output_type": "display_data"
        }
      ],
      "source": [
        "mortality_data.groupby('AgeGroup')['DeathRate'] \\\n",
        "    .agg(['mean','median','std']).plot.barh()"
      ]
    },
    {
      "cell_type": "code",
      "execution_count": null,
      "metadata": {
        "id": "3v9UR9L0E1Vf"
      },
      "outputs": [],
      "source": [
        ""
      ]
    }
  ],
  "metadata": {
    "kernelspec": {
      "display_name": "Python 3",
      "language": "python",
      "name": "python3"
    },
    "language_info": {
      "codemirror_mode": {
        "name": "ipython",
        "version": 3
      },
      "file_extension": ".py",
      "mimetype": "text/x-python",
      "name": "python",
      "nbconvert_exporter": "python",
      "pygments_lexer": "ipython3",
      "version": "3.6.5"
    },
    "nteract": {
      "version": "0.15.0"
    },
    "colab": {
      "name": "ch02_examples.ipynb",
      "provenance": []
    }
  },
  "nbformat": 4,
  "nbformat_minor": 0
}