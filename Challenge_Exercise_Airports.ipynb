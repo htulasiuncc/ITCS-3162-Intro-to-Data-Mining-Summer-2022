{
 "cells": [
  {
   "cell_type": "markdown",
   "metadata": {
    "id": "iJjMS_3sdytc"
   },
   "source": [
    "# Challenge Exercise: Airports case study Part 1"
   ]
  },
  {
   "cell_type": "markdown",
   "metadata": {
    "id": "lS_YRvbYdyti"
   },
   "source": [
    "#### Data file\n",
    "\n",
    "tsa_claims1.csv\n",
    "\n",
    "#### Scenario\n",
    "\n",
    "You are an analyst employed by the U.S. Transportation Security Administration (TSA). Your team lead has asked you to produce a report using a notebook that answers the following questions about insurance claims against airports in the U.S.\n",
    "\n",
    "#### Questions\n",
    "What is the most common type of insurance claim?<br>\n",
    "Which claim site within the airport are claims most commonly filed for?<br>\n",
    "What type of claim is made most at each claim site?<br>\n",
    "What is the typical claim amount?<br>\n",
    "What is the overall claim approval rate for the entire U.S.?<br>\n",
    "\n",
    "#### Instructions\n",
    "Create a Notebook for the study.<br>\n",
    "Explore the data and clean the data according to techniques we have learned.<br>\n",
    "a) use head and info to get more information.\n",
    "b) use string replace to remove spaces in column names\n",
    "c) remove columns that have 1 value that is the same\n",
    "d) handle nulls\n",
    "e) take care of object types that are actually numeric\n",
    "f) change any object types to category as appropriate\n",
    "g) change any object types to date time as appropriate\n",
    "\n",
    "Using markdown, explain why you cleaned it the way you did.<br>\n",
    "Create a heading for each question in ,markdown (see questions below). If necessary, perform additional cleaning or preparation for the question.<br>\n",
    "Create a table or plot that answers the question and use markdown to explain the result.<br>\n",
    "Repeat steps 3-5 for each question.<br>\n"
   ]
  },
  {
   "cell_type": "code",
   "execution_count": 138,
   "metadata": {
    "id": "uqGotrA_dytj"
   },
   "outputs": [],
   "source": [
    "import pandas as pd\n",
    "import seaborn as sns"
   ]
  },
  {
   "cell_type": "markdown",
   "metadata": {
    "id": "fhtfTEuJdytl"
   },
   "source": [
    "## Get the data"
   ]
  },
  {
   "cell_type": "code",
   "execution_count": 139,
   "metadata": {
    "id": "UmNcjF1wdytl"
   },
   "outputs": [],
   "source": [
    "# NOTE: Setting the low_memory parameter to False fixes a warning.\n",
    "tsaClaims = pd.read_csv('tsa_claims1.csv', low_memory=False)"
   ]
  },
  {
   "cell_type": "markdown",
   "metadata": {
    "id": "59Yv4MxJdytm"
   },
   "source": [
    "## Examine the data"
   ]
  },
  {
   "cell_type": "code",
   "execution_count": 140,
   "metadata": {
    "id": "pknFL2igdytm"
   },
   "outputs": [
    {
     "data": {
      "text/html": [
       "<div>\n",
       "<style scoped>\n",
       "    .dataframe tbody tr th:only-of-type {\n",
       "        vertical-align: middle;\n",
       "    }\n",
       "\n",
       "    .dataframe tbody tr th {\n",
       "        vertical-align: top;\n",
       "    }\n",
       "\n",
       "    .dataframe thead th {\n",
       "        text-align: right;\n",
       "    }\n",
       "</style>\n",
       "<table border=\"1\" class=\"dataframe\">\n",
       "  <thead>\n",
       "    <tr style=\"text-align: right;\">\n",
       "      <th></th>\n",
       "      <th>Claim Number</th>\n",
       "      <th>Date Received</th>\n",
       "      <th>Incident Date</th>\n",
       "      <th>Airport Code</th>\n",
       "      <th>Airport Name</th>\n",
       "      <th>Airline Name</th>\n",
       "      <th>Claim Type</th>\n",
       "      <th>Claim Site</th>\n",
       "      <th>Item</th>\n",
       "      <th>Claim Amount</th>\n",
       "      <th>Status</th>\n",
       "      <th>Close Amount</th>\n",
       "      <th>Disposition</th>\n",
       "    </tr>\n",
       "  </thead>\n",
       "  <tbody>\n",
       "    <tr>\n",
       "      <th>0</th>\n",
       "      <td>0909802M</td>\n",
       "      <td>1 4 2002</td>\n",
       "      <td>12 12 2002  12:00:00 AM</td>\n",
       "      <td>EWR</td>\n",
       "      <td>Newark International Airport</td>\n",
       "      <td>Continental Airlines</td>\n",
       "      <td>Property Damage</td>\n",
       "      <td>Checkpoint</td>\n",
       "      <td>Other</td>\n",
       "      <td>350.00</td>\n",
       "      <td>Approved</td>\n",
       "      <td>350.00</td>\n",
       "      <td>Approve in Full</td>\n",
       "    </tr>\n",
       "    <tr>\n",
       "      <th>1</th>\n",
       "      <td>0202445M</td>\n",
       "      <td>2 4 2002</td>\n",
       "      <td>11 26 2003  12:00:00 AM</td>\n",
       "      <td>STL</td>\n",
       "      <td>Lambert St. Louis International</td>\n",
       "      <td>American Airlines</td>\n",
       "      <td>Property Damage</td>\n",
       "      <td>Checked Baggage</td>\n",
       "      <td>Cell Phones</td>\n",
       "      <td>278.88</td>\n",
       "      <td>Settled</td>\n",
       "      <td>227.92</td>\n",
       "      <td>Settle</td>\n",
       "    </tr>\n",
       "    <tr>\n",
       "      <th>2</th>\n",
       "      <td>0909816M</td>\n",
       "      <td>2 7 2002</td>\n",
       "      <td>1 6 2003  12:00:00 AM</td>\n",
       "      <td>MIA</td>\n",
       "      <td>Miami International Airport</td>\n",
       "      <td>American Airlines</td>\n",
       "      <td>Property Damage</td>\n",
       "      <td>Checkpoint</td>\n",
       "      <td>Luggage (all types including footlockers)</td>\n",
       "      <td>50.00</td>\n",
       "      <td>Approved</td>\n",
       "      <td>50.00</td>\n",
       "      <td>Approve in Full</td>\n",
       "    </tr>\n",
       "    <tr>\n",
       "      <th>3</th>\n",
       "      <td>2005032379513.00</td>\n",
       "      <td>2 18 2002</td>\n",
       "      <td>2 5 2005  12:00:00 AM</td>\n",
       "      <td>MCO</td>\n",
       "      <td>Orlando International Airport</td>\n",
       "      <td>Delta (Song)</td>\n",
       "      <td>Property Damage</td>\n",
       "      <td>Checkpoint</td>\n",
       "      <td>Baby - Strollers; car seats; playpen; etc.</td>\n",
       "      <td>84.79</td>\n",
       "      <td>Approved</td>\n",
       "      <td>84.79</td>\n",
       "      <td>Approve in Full</td>\n",
       "    </tr>\n",
       "    <tr>\n",
       "      <th>4</th>\n",
       "      <td>2005032479636.00</td>\n",
       "      <td>2 18 2002</td>\n",
       "      <td>2 17 2005  12:00:00 AM</td>\n",
       "      <td>CAK</td>\n",
       "      <td>Akron-Canton Regional</td>\n",
       "      <td>Air Tran Airlines(do not use)</td>\n",
       "      <td>Passenger Property Loss</td>\n",
       "      <td>Checked Baggage</td>\n",
       "      <td>Other</td>\n",
       "      <td>459.01</td>\n",
       "      <td>Settled</td>\n",
       "      <td>227.00</td>\n",
       "      <td>Settle</td>\n",
       "    </tr>\n",
       "  </tbody>\n",
       "</table>\n",
       "</div>"
      ],
      "text/plain": [
       "       Claim Number Date Received            Incident Date Airport Code  \\\n",
       "0          0909802M      1 4 2002  12 12 2002  12:00:00 AM          EWR   \n",
       "1          0202445M      2 4 2002  11 26 2003  12:00:00 AM          STL   \n",
       "2          0909816M      2 7 2002    1 6 2003  12:00:00 AM          MIA   \n",
       "3  2005032379513.00     2 18 2002    2 5 2005  12:00:00 AM          MCO   \n",
       "4  2005032479636.00     2 18 2002   2 17 2005  12:00:00 AM          CAK   \n",
       "\n",
       "                      Airport Name                   Airline Name  \\\n",
       "0     Newark International Airport           Continental Airlines   \n",
       "1  Lambert St. Louis International              American Airlines   \n",
       "2      Miami International Airport              American Airlines   \n",
       "3    Orlando International Airport                   Delta (Song)   \n",
       "4            Akron-Canton Regional  Air Tran Airlines(do not use)   \n",
       "\n",
       "                Claim Type       Claim Site  \\\n",
       "0          Property Damage       Checkpoint   \n",
       "1          Property Damage  Checked Baggage   \n",
       "2          Property Damage       Checkpoint   \n",
       "3          Property Damage       Checkpoint   \n",
       "4  Passenger Property Loss  Checked Baggage   \n",
       "\n",
       "                                         Item  Claim Amount    Status  \\\n",
       "0                                       Other        350.00  Approved   \n",
       "1                                 Cell Phones        278.88   Settled   \n",
       "2   Luggage (all types including footlockers)         50.00  Approved   \n",
       "3  Baby - Strollers; car seats; playpen; etc.         84.79  Approved   \n",
       "4                                       Other        459.01   Settled   \n",
       "\n",
       "   Close Amount      Disposition  \n",
       "0        350.00  Approve in Full  \n",
       "1        227.92           Settle  \n",
       "2         50.00  Approve in Full  \n",
       "3         84.79  Approve in Full  \n",
       "4        227.00           Settle  "
      ]
     },
     "execution_count": 140,
     "metadata": {},
     "output_type": "execute_result"
    }
   ],
   "source": [
    "# use head() to examine the data\n",
    "tsaClaims.head()"
   ]
  },
  {
   "cell_type": "code",
   "execution_count": 141,
   "metadata": {
    "id": "o_Wd770odytn"
   },
   "outputs": [
    {
     "name": "stdout",
     "output_type": "stream",
     "text": [
      "<class 'pandas.core.frame.DataFrame'>\n",
      "RangeIndex: 94845 entries, 0 to 94844\n",
      "Data columns (total 13 columns):\n",
      " #   Column         Non-Null Count  Dtype  \n",
      "---  ------         --------------  -----  \n",
      " 0   Claim Number   94845 non-null  object \n",
      " 1   Date Received  94845 non-null  object \n",
      " 2   Incident Date  94845 non-null  object \n",
      " 3   Airport Code   94845 non-null  object \n",
      " 4   Airport Name   94845 non-null  object \n",
      " 5   Airline Name   94845 non-null  object \n",
      " 6   Claim Type     94845 non-null  object \n",
      " 7   Claim Site     94845 non-null  object \n",
      " 8   Item           94845 non-null  object \n",
      " 9   Claim Amount   94845 non-null  float64\n",
      " 10  Status         94845 non-null  object \n",
      " 11  Close Amount   94845 non-null  float64\n",
      " 12  Disposition    94845 non-null  object \n",
      "dtypes: float64(2), object(11)\n",
      "memory usage: 9.4+ MB\n"
     ]
    }
   ],
   "source": [
    "# use info() to learn more about the data\n",
    "tsaClaims.info()"
   ]
  },
  {
   "cell_type": "code",
   "execution_count": 142,
   "metadata": {
    "id": "ndOEHsLPdytn"
   },
   "outputs": [
    {
     "data": {
      "text/html": [
       "<div>\n",
       "<style scoped>\n",
       "    .dataframe tbody tr th:only-of-type {\n",
       "        vertical-align: middle;\n",
       "    }\n",
       "\n",
       "    .dataframe tbody tr th {\n",
       "        vertical-align: top;\n",
       "    }\n",
       "\n",
       "    .dataframe thead th {\n",
       "        text-align: right;\n",
       "    }\n",
       "</style>\n",
       "<table border=\"1\" class=\"dataframe\">\n",
       "  <thead>\n",
       "    <tr style=\"text-align: right;\">\n",
       "      <th></th>\n",
       "      <th>count</th>\n",
       "      <th>mean</th>\n",
       "      <th>std</th>\n",
       "      <th>min</th>\n",
       "      <th>25%</th>\n",
       "      <th>50%</th>\n",
       "      <th>75%</th>\n",
       "      <th>max</th>\n",
       "    </tr>\n",
       "  </thead>\n",
       "  <tbody>\n",
       "    <tr>\n",
       "      <th>Claim Amount</th>\n",
       "      <td>94845.0</td>\n",
       "      <td>3634.940272</td>\n",
       "      <td>524951.962954</td>\n",
       "      <td>0.0</td>\n",
       "      <td>65.0</td>\n",
       "      <td>183.69</td>\n",
       "      <td>480.68</td>\n",
       "      <td>125000000.0</td>\n",
       "    </tr>\n",
       "    <tr>\n",
       "      <th>Close Amount</th>\n",
       "      <td>94845.0</td>\n",
       "      <td>89.044851</td>\n",
       "      <td>882.072577</td>\n",
       "      <td>0.0</td>\n",
       "      <td>0.0</td>\n",
       "      <td>0.00</td>\n",
       "      <td>61.96</td>\n",
       "      <td>250000.0</td>\n",
       "    </tr>\n",
       "  </tbody>\n",
       "</table>\n",
       "</div>"
      ],
      "text/plain": [
       "                count         mean            std  min   25%     50%     75%  \\\n",
       "Claim Amount  94845.0  3634.940272  524951.962954  0.0  65.0  183.69  480.68   \n",
       "Close Amount  94845.0    89.044851     882.072577  0.0   0.0    0.00   61.96   \n",
       "\n",
       "                      max  \n",
       "Claim Amount  125000000.0  \n",
       "Close Amount     250000.0  "
      ]
     },
     "execution_count": 142,
     "metadata": {},
     "output_type": "execute_result"
    }
   ],
   "source": [
    "# use describe to get statistical information on the numerical fields\n",
    "tsaClaims.describe().T"
   ]
  },
  {
   "cell_type": "code",
   "execution_count": 143,
   "metadata": {
    "id": "Sd4FHJrjdyto"
   },
   "outputs": [
    {
     "data": {
      "text/plain": [
       "Claim Number     94845\n",
       "Date Received     2014\n",
       "Incident Date     3882\n",
       "Airport Code       411\n",
       "Airport Name       412\n",
       "Airline Name       186\n",
       "Claim Type           6\n",
       "Claim Site           4\n",
       "Item              3072\n",
       "Claim Amount     27013\n",
       "Status               5\n",
       "Close Amount     13570\n",
       "Disposition          3\n",
       "dtype: int64"
      ]
     },
     "execution_count": 143,
     "metadata": {},
     "output_type": "execute_result"
    }
   ],
   "source": [
    "# use nunique() to learn about the number unique\n",
    "tsaClaims.nunique()"
   ]
  },
  {
   "cell_type": "markdown",
   "metadata": {
    "id": "7bMYw9dwdytp",
    "tags": []
   },
   "source": [
    "## Clean the data"
   ]
  },
  {
   "cell_type": "code",
   "execution_count": 144,
   "metadata": {
    "id": "avyQ9BkHdytp"
   },
   "outputs": [],
   "source": [
    "# To make it easier to work with columns, remove spaces from column names.\n",
    "tsaClaims.columns = tsaClaims.columns.str.replace(' ', '')"
   ]
  },
  {
   "cell_type": "code",
   "execution_count": 145,
   "metadata": {
    "id": "Gg-TPtWXdytp"
   },
   "outputs": [
    {
     "data": {
      "text/html": [
       "<div>\n",
       "<style scoped>\n",
       "    .dataframe tbody tr th:only-of-type {\n",
       "        vertical-align: middle;\n",
       "    }\n",
       "\n",
       "    .dataframe tbody tr th {\n",
       "        vertical-align: top;\n",
       "    }\n",
       "\n",
       "    .dataframe thead th {\n",
       "        text-align: right;\n",
       "    }\n",
       "</style>\n",
       "<table border=\"1\" class=\"dataframe\">\n",
       "  <thead>\n",
       "    <tr style=\"text-align: right;\">\n",
       "      <th></th>\n",
       "      <th>ClaimNumber</th>\n",
       "      <th>DateReceived</th>\n",
       "      <th>IncidentDate</th>\n",
       "      <th>AirportCode</th>\n",
       "      <th>AirportName</th>\n",
       "      <th>AirlineName</th>\n",
       "      <th>ClaimType</th>\n",
       "      <th>ClaimSite</th>\n",
       "      <th>Item</th>\n",
       "      <th>ClaimAmount</th>\n",
       "      <th>Status</th>\n",
       "      <th>CloseAmount</th>\n",
       "      <th>Disposition</th>\n",
       "    </tr>\n",
       "  </thead>\n",
       "  <tbody>\n",
       "    <tr>\n",
       "      <th>0</th>\n",
       "      <td>0909802M</td>\n",
       "      <td>1 4 2002</td>\n",
       "      <td>12 12 2002  12:00:00 AM</td>\n",
       "      <td>EWR</td>\n",
       "      <td>Newark International Airport</td>\n",
       "      <td>Continental Airlines</td>\n",
       "      <td>Property Damage</td>\n",
       "      <td>Checkpoint</td>\n",
       "      <td>Other</td>\n",
       "      <td>350.00</td>\n",
       "      <td>Approved</td>\n",
       "      <td>350.00</td>\n",
       "      <td>Approve in Full</td>\n",
       "    </tr>\n",
       "    <tr>\n",
       "      <th>1</th>\n",
       "      <td>0202445M</td>\n",
       "      <td>2 4 2002</td>\n",
       "      <td>11 26 2003  12:00:00 AM</td>\n",
       "      <td>STL</td>\n",
       "      <td>Lambert St. Louis International</td>\n",
       "      <td>American Airlines</td>\n",
       "      <td>Property Damage</td>\n",
       "      <td>Checked Baggage</td>\n",
       "      <td>Cell Phones</td>\n",
       "      <td>278.88</td>\n",
       "      <td>Settled</td>\n",
       "      <td>227.92</td>\n",
       "      <td>Settle</td>\n",
       "    </tr>\n",
       "    <tr>\n",
       "      <th>2</th>\n",
       "      <td>0909816M</td>\n",
       "      <td>2 7 2002</td>\n",
       "      <td>1 6 2003  12:00:00 AM</td>\n",
       "      <td>MIA</td>\n",
       "      <td>Miami International Airport</td>\n",
       "      <td>American Airlines</td>\n",
       "      <td>Property Damage</td>\n",
       "      <td>Checkpoint</td>\n",
       "      <td>Luggage (all types including footlockers)</td>\n",
       "      <td>50.00</td>\n",
       "      <td>Approved</td>\n",
       "      <td>50.00</td>\n",
       "      <td>Approve in Full</td>\n",
       "    </tr>\n",
       "    <tr>\n",
       "      <th>3</th>\n",
       "      <td>2005032379513.00</td>\n",
       "      <td>2 18 2002</td>\n",
       "      <td>2 5 2005  12:00:00 AM</td>\n",
       "      <td>MCO</td>\n",
       "      <td>Orlando International Airport</td>\n",
       "      <td>Delta (Song)</td>\n",
       "      <td>Property Damage</td>\n",
       "      <td>Checkpoint</td>\n",
       "      <td>Baby - Strollers; car seats; playpen; etc.</td>\n",
       "      <td>84.79</td>\n",
       "      <td>Approved</td>\n",
       "      <td>84.79</td>\n",
       "      <td>Approve in Full</td>\n",
       "    </tr>\n",
       "    <tr>\n",
       "      <th>4</th>\n",
       "      <td>2005032479636.00</td>\n",
       "      <td>2 18 2002</td>\n",
       "      <td>2 17 2005  12:00:00 AM</td>\n",
       "      <td>CAK</td>\n",
       "      <td>Akron-Canton Regional</td>\n",
       "      <td>Air Tran Airlines(do not use)</td>\n",
       "      <td>Passenger Property Loss</td>\n",
       "      <td>Checked Baggage</td>\n",
       "      <td>Other</td>\n",
       "      <td>459.01</td>\n",
       "      <td>Settled</td>\n",
       "      <td>227.00</td>\n",
       "      <td>Settle</td>\n",
       "    </tr>\n",
       "  </tbody>\n",
       "</table>\n",
       "</div>"
      ],
      "text/plain": [
       "        ClaimNumber DateReceived             IncidentDate AirportCode  \\\n",
       "0          0909802M     1 4 2002  12 12 2002  12:00:00 AM         EWR   \n",
       "1          0202445M     2 4 2002  11 26 2003  12:00:00 AM         STL   \n",
       "2          0909816M     2 7 2002    1 6 2003  12:00:00 AM         MIA   \n",
       "3  2005032379513.00    2 18 2002    2 5 2005  12:00:00 AM         MCO   \n",
       "4  2005032479636.00    2 18 2002   2 17 2005  12:00:00 AM         CAK   \n",
       "\n",
       "                       AirportName                    AirlineName  \\\n",
       "0     Newark International Airport           Continental Airlines   \n",
       "1  Lambert St. Louis International              American Airlines   \n",
       "2      Miami International Airport              American Airlines   \n",
       "3    Orlando International Airport                   Delta (Song)   \n",
       "4            Akron-Canton Regional  Air Tran Airlines(do not use)   \n",
       "\n",
       "                 ClaimType        ClaimSite  \\\n",
       "0          Property Damage       Checkpoint   \n",
       "1          Property Damage  Checked Baggage   \n",
       "2          Property Damage       Checkpoint   \n",
       "3          Property Damage       Checkpoint   \n",
       "4  Passenger Property Loss  Checked Baggage   \n",
       "\n",
       "                                         Item  ClaimAmount    Status  \\\n",
       "0                                       Other       350.00  Approved   \n",
       "1                                 Cell Phones       278.88   Settled   \n",
       "2   Luggage (all types including footlockers)        50.00  Approved   \n",
       "3  Baby - Strollers; car seats; playpen; etc.        84.79  Approved   \n",
       "4                                       Other       459.01   Settled   \n",
       "\n",
       "   CloseAmount      Disposition  \n",
       "0       350.00  Approve in Full  \n",
       "1       227.92           Settle  \n",
       "2        50.00  Approve in Full  \n",
       "3        84.79  Approve in Full  \n",
       "4       227.00           Settle  "
      ]
     },
     "execution_count": 145,
     "metadata": {},
     "output_type": "execute_result"
    }
   ],
   "source": [
    "# check your work with head()\n",
    "tsaClaims.head()"
   ]
  },
  {
   "cell_type": "code",
   "execution_count": 146,
   "metadata": {
    "id": "76iutNNBdytq"
   },
   "outputs": [
    {
     "data": {
      "text/html": [
       "<div>\n",
       "<style scoped>\n",
       "    .dataframe tbody tr th:only-of-type {\n",
       "        vertical-align: middle;\n",
       "    }\n",
       "\n",
       "    .dataframe tbody tr th {\n",
       "        vertical-align: top;\n",
       "    }\n",
       "\n",
       "    .dataframe thead th {\n",
       "        text-align: right;\n",
       "    }\n",
       "</style>\n",
       "<table border=\"1\" class=\"dataframe\">\n",
       "  <thead>\n",
       "    <tr style=\"text-align: right;\">\n",
       "      <th></th>\n",
       "      <th>ClaimNumber</th>\n",
       "      <th>DateReceived</th>\n",
       "      <th>IncidentDate</th>\n",
       "      <th>AirportCode</th>\n",
       "      <th>AirportName</th>\n",
       "      <th>AirlineName</th>\n",
       "      <th>ClaimType</th>\n",
       "      <th>ClaimSite</th>\n",
       "      <th>Item</th>\n",
       "      <th>ClaimAmount</th>\n",
       "      <th>Status</th>\n",
       "      <th>CloseAmount</th>\n",
       "      <th>Disposition</th>\n",
       "    </tr>\n",
       "  </thead>\n",
       "  <tbody>\n",
       "    <tr>\n",
       "      <th>0</th>\n",
       "      <td>0909802M</td>\n",
       "      <td>1 4 2002</td>\n",
       "      <td>12 12 2002  12:00:00 AM</td>\n",
       "      <td>EWR</td>\n",
       "      <td>Newark International Airport</td>\n",
       "      <td>Continental Airlines</td>\n",
       "      <td>Property Damage</td>\n",
       "      <td>Checkpoint</td>\n",
       "      <td>Other</td>\n",
       "      <td>350.00</td>\n",
       "      <td>Approved</td>\n",
       "      <td>350.00</td>\n",
       "      <td>Approve in Full</td>\n",
       "    </tr>\n",
       "    <tr>\n",
       "      <th>1</th>\n",
       "      <td>0202445M</td>\n",
       "      <td>2 4 2002</td>\n",
       "      <td>11 26 2003  12:00:00 AM</td>\n",
       "      <td>STL</td>\n",
       "      <td>Lambert St. Louis International</td>\n",
       "      <td>American Airlines</td>\n",
       "      <td>Property Damage</td>\n",
       "      <td>Checked Baggage</td>\n",
       "      <td>Cell Phones</td>\n",
       "      <td>278.88</td>\n",
       "      <td>Settled</td>\n",
       "      <td>227.92</td>\n",
       "      <td>Settle</td>\n",
       "    </tr>\n",
       "    <tr>\n",
       "      <th>2</th>\n",
       "      <td>0909816M</td>\n",
       "      <td>2 7 2002</td>\n",
       "      <td>1 6 2003  12:00:00 AM</td>\n",
       "      <td>MIA</td>\n",
       "      <td>Miami International Airport</td>\n",
       "      <td>American Airlines</td>\n",
       "      <td>Property Damage</td>\n",
       "      <td>Checkpoint</td>\n",
       "      <td>Luggage (all types including footlockers)</td>\n",
       "      <td>50.00</td>\n",
       "      <td>Approved</td>\n",
       "      <td>50.00</td>\n",
       "      <td>Approve in Full</td>\n",
       "    </tr>\n",
       "    <tr>\n",
       "      <th>3</th>\n",
       "      <td>2005032379513.00</td>\n",
       "      <td>2 18 2002</td>\n",
       "      <td>2 5 2005  12:00:00 AM</td>\n",
       "      <td>MCO</td>\n",
       "      <td>Orlando International Airport</td>\n",
       "      <td>Delta (Song)</td>\n",
       "      <td>Property Damage</td>\n",
       "      <td>Checkpoint</td>\n",
       "      <td>Baby - Strollers; car seats; playpen; etc.</td>\n",
       "      <td>84.79</td>\n",
       "      <td>Approved</td>\n",
       "      <td>84.79</td>\n",
       "      <td>Approve in Full</td>\n",
       "    </tr>\n",
       "    <tr>\n",
       "      <th>4</th>\n",
       "      <td>2005032479636.00</td>\n",
       "      <td>2 18 2002</td>\n",
       "      <td>2 17 2005  12:00:00 AM</td>\n",
       "      <td>CAK</td>\n",
       "      <td>Akron-Canton Regional</td>\n",
       "      <td>Air Tran Airlines(do not use)</td>\n",
       "      <td>Passenger Property Loss</td>\n",
       "      <td>Checked Baggage</td>\n",
       "      <td>Other</td>\n",
       "      <td>459.01</td>\n",
       "      <td>Settled</td>\n",
       "      <td>227.00</td>\n",
       "      <td>Settle</td>\n",
       "    </tr>\n",
       "    <tr>\n",
       "      <th>...</th>\n",
       "      <td>...</td>\n",
       "      <td>...</td>\n",
       "      <td>...</td>\n",
       "      <td>...</td>\n",
       "      <td>...</td>\n",
       "      <td>...</td>\n",
       "      <td>...</td>\n",
       "      <td>...</td>\n",
       "      <td>...</td>\n",
       "      <td>...</td>\n",
       "      <td>...</td>\n",
       "      <td>...</td>\n",
       "      <td>...</td>\n",
       "    </tr>\n",
       "    <tr>\n",
       "      <th>94840</th>\n",
       "      <td>2010010567195.00</td>\n",
       "      <td>12 31 2009</td>\n",
       "      <td>12 14 2009  12:00:00 AM</td>\n",
       "      <td>EWR</td>\n",
       "      <td>Newark International Airport</td>\n",
       "      <td>Continental Airlines</td>\n",
       "      <td>Property Damage</td>\n",
       "      <td>Checked Baggage</td>\n",
       "      <td>Luggage (all types including footlockers)</td>\n",
       "      <td>175.90</td>\n",
       "      <td>Denied</td>\n",
       "      <td>0.00</td>\n",
       "      <td>Deny</td>\n",
       "    </tr>\n",
       "    <tr>\n",
       "      <th>94841</th>\n",
       "      <td>2010010667196.00</td>\n",
       "      <td>12 31 2009</td>\n",
       "      <td>12 17 2009  7:55:00 AM</td>\n",
       "      <td>BWI</td>\n",
       "      <td>Baltimore Washington Intl Thurgood Marshall</td>\n",
       "      <td>Southwest Airlines</td>\n",
       "      <td>Passenger Property Loss</td>\n",
       "      <td>Checked Baggage</td>\n",
       "      <td>Cell Phones (smartphone type-blackberry; iphon...</td>\n",
       "      <td>695.00</td>\n",
       "      <td>Denied</td>\n",
       "      <td>0.00</td>\n",
       "      <td>Deny</td>\n",
       "    </tr>\n",
       "    <tr>\n",
       "      <th>94842</th>\n",
       "      <td>2010010667198.00</td>\n",
       "      <td>12 31 2009</td>\n",
       "      <td>12 15 2009  12:00:00 AM</td>\n",
       "      <td>SMF</td>\n",
       "      <td>Sacramento International Airport</td>\n",
       "      <td>Southwest Airlines</td>\n",
       "      <td>Passenger Property Loss</td>\n",
       "      <td>Checked Baggage</td>\n",
       "      <td>Locks</td>\n",
       "      <td>25.50</td>\n",
       "      <td>Denied</td>\n",
       "      <td>0.00</td>\n",
       "      <td>Deny</td>\n",
       "    </tr>\n",
       "    <tr>\n",
       "      <th>94843</th>\n",
       "      <td>2010010667199.00</td>\n",
       "      <td>12 31 2009</td>\n",
       "      <td>12 16 2009  10:00:00 AM</td>\n",
       "      <td>ENV</td>\n",
       "      <td>Wendover Municipal Airport</td>\n",
       "      <td>Xtra Airways</td>\n",
       "      <td>Passenger Property Loss</td>\n",
       "      <td>Checked Baggage</td>\n",
       "      <td>Locks</td>\n",
       "      <td>20.00</td>\n",
       "      <td>Denied</td>\n",
       "      <td>0.00</td>\n",
       "      <td>Deny</td>\n",
       "    </tr>\n",
       "    <tr>\n",
       "      <th>94844</th>\n",
       "      <td>2009122866807.00</td>\n",
       "      <td>12 31 2009</td>\n",
       "      <td>11 21 2009  9:20:00 AM</td>\n",
       "      <td>JFK</td>\n",
       "      <td>John F. Kennedy International</td>\n",
       "      <td>American Airlines</td>\n",
       "      <td>Property Damage</td>\n",
       "      <td>Checkpoint</td>\n",
       "      <td>Computer - Laptop</td>\n",
       "      <td>1228.95</td>\n",
       "      <td>Settled</td>\n",
       "      <td>826.72</td>\n",
       "      <td>Settle</td>\n",
       "    </tr>\n",
       "  </tbody>\n",
       "</table>\n",
       "<p>94845 rows × 13 columns</p>\n",
       "</div>"
      ],
      "text/plain": [
       "            ClaimNumber DateReceived             IncidentDate AirportCode  \\\n",
       "0              0909802M     1 4 2002  12 12 2002  12:00:00 AM         EWR   \n",
       "1              0202445M     2 4 2002  11 26 2003  12:00:00 AM         STL   \n",
       "2              0909816M     2 7 2002    1 6 2003  12:00:00 AM         MIA   \n",
       "3      2005032379513.00    2 18 2002    2 5 2005  12:00:00 AM         MCO   \n",
       "4      2005032479636.00    2 18 2002   2 17 2005  12:00:00 AM         CAK   \n",
       "...                 ...          ...                      ...         ...   \n",
       "94840  2010010567195.00   12 31 2009  12 14 2009  12:00:00 AM         EWR   \n",
       "94841  2010010667196.00   12 31 2009   12 17 2009  7:55:00 AM         BWI   \n",
       "94842  2010010667198.00   12 31 2009  12 15 2009  12:00:00 AM         SMF   \n",
       "94843  2010010667199.00   12 31 2009  12 16 2009  10:00:00 AM         ENV   \n",
       "94844  2009122866807.00   12 31 2009   11 21 2009  9:20:00 AM         JFK   \n",
       "\n",
       "                                       AirportName  \\\n",
       "0                     Newark International Airport   \n",
       "1                  Lambert St. Louis International   \n",
       "2                      Miami International Airport   \n",
       "3                    Orlando International Airport   \n",
       "4                            Akron-Canton Regional   \n",
       "...                                            ...   \n",
       "94840                 Newark International Airport   \n",
       "94841  Baltimore Washington Intl Thurgood Marshall   \n",
       "94842             Sacramento International Airport   \n",
       "94843                   Wendover Municipal Airport   \n",
       "94844                John F. Kennedy International   \n",
       "\n",
       "                         AirlineName                ClaimType  \\\n",
       "0               Continental Airlines          Property Damage   \n",
       "1                  American Airlines          Property Damage   \n",
       "2                  American Airlines          Property Damage   \n",
       "3                       Delta (Song)          Property Damage   \n",
       "4      Air Tran Airlines(do not use)  Passenger Property Loss   \n",
       "...                              ...                      ...   \n",
       "94840           Continental Airlines          Property Damage   \n",
       "94841             Southwest Airlines  Passenger Property Loss   \n",
       "94842             Southwest Airlines  Passenger Property Loss   \n",
       "94843                   Xtra Airways  Passenger Property Loss   \n",
       "94844              American Airlines          Property Damage   \n",
       "\n",
       "             ClaimSite                                               Item  \\\n",
       "0           Checkpoint                                              Other   \n",
       "1      Checked Baggage                                        Cell Phones   \n",
       "2           Checkpoint          Luggage (all types including footlockers)   \n",
       "3           Checkpoint         Baby - Strollers; car seats; playpen; etc.   \n",
       "4      Checked Baggage                                              Other   \n",
       "...                ...                                                ...   \n",
       "94840  Checked Baggage          Luggage (all types including footlockers)   \n",
       "94841  Checked Baggage  Cell Phones (smartphone type-blackberry; iphon...   \n",
       "94842  Checked Baggage                                              Locks   \n",
       "94843  Checked Baggage                                              Locks   \n",
       "94844       Checkpoint                                  Computer - Laptop   \n",
       "\n",
       "       ClaimAmount    Status  CloseAmount      Disposition  \n",
       "0           350.00  Approved       350.00  Approve in Full  \n",
       "1           278.88   Settled       227.92           Settle  \n",
       "2            50.00  Approved        50.00  Approve in Full  \n",
       "3            84.79  Approved        84.79  Approve in Full  \n",
       "4           459.01   Settled       227.00           Settle  \n",
       "...            ...       ...          ...              ...  \n",
       "94840       175.90    Denied         0.00             Deny  \n",
       "94841       695.00    Denied         0.00             Deny  \n",
       "94842        25.50    Denied         0.00             Deny  \n",
       "94843        20.00    Denied         0.00             Deny  \n",
       "94844      1228.95   Settled       826.72           Settle  \n",
       "\n",
       "[94845 rows x 13 columns]"
      ]
     },
     "execution_count": 146,
     "metadata": {},
     "output_type": "execute_result"
    }
   ],
   "source": [
    "# handle any nulls\n",
    "tsaClaims.isnull().sum()\n",
    "tsaClaims.fillna(0)"
   ]
  },
  {
   "cell_type": "code",
   "execution_count": 147,
   "metadata": {
    "id": "-DuZEc2vdytq"
   },
   "outputs": [
    {
     "data": {
      "text/html": [
       "<div>\n",
       "<style scoped>\n",
       "    .dataframe tbody tr th:only-of-type {\n",
       "        vertical-align: middle;\n",
       "    }\n",
       "\n",
       "    .dataframe tbody tr th {\n",
       "        vertical-align: top;\n",
       "    }\n",
       "\n",
       "    .dataframe thead th {\n",
       "        text-align: right;\n",
       "    }\n",
       "</style>\n",
       "<table border=\"1\" class=\"dataframe\">\n",
       "  <thead>\n",
       "    <tr style=\"text-align: right;\">\n",
       "      <th></th>\n",
       "      <th>ClaimNumber</th>\n",
       "      <th>DateReceived</th>\n",
       "      <th>IncidentDate</th>\n",
       "      <th>AirportCode</th>\n",
       "      <th>AirportName</th>\n",
       "      <th>AirlineName</th>\n",
       "      <th>ClaimType</th>\n",
       "      <th>ClaimSite</th>\n",
       "      <th>Item</th>\n",
       "      <th>ClaimAmount</th>\n",
       "      <th>Status</th>\n",
       "      <th>CloseAmount</th>\n",
       "      <th>Disposition</th>\n",
       "    </tr>\n",
       "  </thead>\n",
       "  <tbody>\n",
       "    <tr>\n",
       "      <th>0</th>\n",
       "      <td>0909802M</td>\n",
       "      <td>1 4 2002</td>\n",
       "      <td>12 12 2002  12:00:00 AM</td>\n",
       "      <td>EWR</td>\n",
       "      <td>Newark International Airport</td>\n",
       "      <td>Continental Airlines</td>\n",
       "      <td>Property Damage</td>\n",
       "      <td>Checkpoint</td>\n",
       "      <td>Other</td>\n",
       "      <td>350.00</td>\n",
       "      <td>Approved</td>\n",
       "      <td>350.00</td>\n",
       "      <td>Approve in Full</td>\n",
       "    </tr>\n",
       "    <tr>\n",
       "      <th>1</th>\n",
       "      <td>0202445M</td>\n",
       "      <td>2 4 2002</td>\n",
       "      <td>11 26 2003  12:00:00 AM</td>\n",
       "      <td>STL</td>\n",
       "      <td>Lambert St. Louis International</td>\n",
       "      <td>American Airlines</td>\n",
       "      <td>Property Damage</td>\n",
       "      <td>Checked Baggage</td>\n",
       "      <td>Cell Phones</td>\n",
       "      <td>278.88</td>\n",
       "      <td>Settled</td>\n",
       "      <td>227.92</td>\n",
       "      <td>Settle</td>\n",
       "    </tr>\n",
       "    <tr>\n",
       "      <th>2</th>\n",
       "      <td>0909816M</td>\n",
       "      <td>2 7 2002</td>\n",
       "      <td>1 6 2003  12:00:00 AM</td>\n",
       "      <td>MIA</td>\n",
       "      <td>Miami International Airport</td>\n",
       "      <td>American Airlines</td>\n",
       "      <td>Property Damage</td>\n",
       "      <td>Checkpoint</td>\n",
       "      <td>Luggage (all types including footlockers)</td>\n",
       "      <td>50.00</td>\n",
       "      <td>Approved</td>\n",
       "      <td>50.00</td>\n",
       "      <td>Approve in Full</td>\n",
       "    </tr>\n",
       "    <tr>\n",
       "      <th>3</th>\n",
       "      <td>2005032379513.00</td>\n",
       "      <td>2 18 2002</td>\n",
       "      <td>2 5 2005  12:00:00 AM</td>\n",
       "      <td>MCO</td>\n",
       "      <td>Orlando International Airport</td>\n",
       "      <td>Delta (Song)</td>\n",
       "      <td>Property Damage</td>\n",
       "      <td>Checkpoint</td>\n",
       "      <td>Baby - Strollers; car seats; playpen; etc.</td>\n",
       "      <td>84.79</td>\n",
       "      <td>Approved</td>\n",
       "      <td>84.79</td>\n",
       "      <td>Approve in Full</td>\n",
       "    </tr>\n",
       "    <tr>\n",
       "      <th>4</th>\n",
       "      <td>2005032479636.00</td>\n",
       "      <td>2 18 2002</td>\n",
       "      <td>2 17 2005  12:00:00 AM</td>\n",
       "      <td>CAK</td>\n",
       "      <td>Akron-Canton Regional</td>\n",
       "      <td>Air Tran Airlines(do not use)</td>\n",
       "      <td>Passenger Property Loss</td>\n",
       "      <td>Checked Baggage</td>\n",
       "      <td>Other</td>\n",
       "      <td>459.01</td>\n",
       "      <td>Settled</td>\n",
       "      <td>227.00</td>\n",
       "      <td>Settle</td>\n",
       "    </tr>\n",
       "  </tbody>\n",
       "</table>\n",
       "</div>"
      ],
      "text/plain": [
       "        ClaimNumber DateReceived             IncidentDate AirportCode  \\\n",
       "0          0909802M     1 4 2002  12 12 2002  12:00:00 AM         EWR   \n",
       "1          0202445M     2 4 2002  11 26 2003  12:00:00 AM         STL   \n",
       "2          0909816M     2 7 2002    1 6 2003  12:00:00 AM         MIA   \n",
       "3  2005032379513.00    2 18 2002    2 5 2005  12:00:00 AM         MCO   \n",
       "4  2005032479636.00    2 18 2002   2 17 2005  12:00:00 AM         CAK   \n",
       "\n",
       "                       AirportName                    AirlineName  \\\n",
       "0     Newark International Airport           Continental Airlines   \n",
       "1  Lambert St. Louis International              American Airlines   \n",
       "2      Miami International Airport              American Airlines   \n",
       "3    Orlando International Airport                   Delta (Song)   \n",
       "4            Akron-Canton Regional  Air Tran Airlines(do not use)   \n",
       "\n",
       "                 ClaimType        ClaimSite  \\\n",
       "0          Property Damage       Checkpoint   \n",
       "1          Property Damage  Checked Baggage   \n",
       "2          Property Damage       Checkpoint   \n",
       "3          Property Damage       Checkpoint   \n",
       "4  Passenger Property Loss  Checked Baggage   \n",
       "\n",
       "                                         Item  ClaimAmount    Status  \\\n",
       "0                                       Other       350.00  Approved   \n",
       "1                                 Cell Phones       278.88   Settled   \n",
       "2   Luggage (all types including footlockers)        50.00  Approved   \n",
       "3  Baby - Strollers; car seats; playpen; etc.        84.79  Approved   \n",
       "4                                       Other       459.01   Settled   \n",
       "\n",
       "   CloseAmount      Disposition  \n",
       "0       350.00  Approve in Full  \n",
       "1       227.92           Settle  \n",
       "2        50.00  Approve in Full  \n",
       "3        84.79  Approve in Full  \n",
       "4       227.00           Settle  "
      ]
     },
     "execution_count": 147,
     "metadata": {},
     "output_type": "execute_result"
    }
   ],
   "source": [
    "# remove columns with one value\n",
    "tsaClaims_number_of_unique_values = tsaClaims.nunique()\n",
    "tsaClaims_columns_to_drop = tsaClaims_number_of_unique_values[tsaClaims_number_of_unique_values == 1].index\n",
    "tsaClaims_removed_one_value = tsaClaims.drop(tsaClaims_columns_to_drop, axis = 1)\n",
    "tsaClaims_removed_one_value.head()"
   ]
  },
  {
   "cell_type": "code",
   "execution_count": 164,
   "metadata": {
    "id": "gRSPK8YSdytq"
   },
   "outputs": [
    {
     "name": "stdout",
     "output_type": "stream",
     "text": [
      "<class 'pandas.core.frame.DataFrame'>\n",
      "RangeIndex: 94845 entries, 0 to 94844\n",
      "Data columns (total 13 columns):\n",
      " #   Column        Non-Null Count  Dtype         \n",
      "---  ------        --------------  -----         \n",
      " 0   ClaimNumber   94845 non-null  object        \n",
      " 1   DateReceived  94845 non-null  datetime64[ns]\n",
      " 2   IncidentDate  94845 non-null  object        \n",
      " 3   AirportCode   94845 non-null  object        \n",
      " 4   AirportName   94845 non-null  object        \n",
      " 5   AirlineName   94845 non-null  object        \n",
      " 6   ClaimType     94845 non-null  category      \n",
      " 7   ClaimSite     94845 non-null  category      \n",
      " 8   Item          94845 non-null  category      \n",
      " 9   ClaimAmount   94845 non-null  float64       \n",
      " 10  Status        94845 non-null  category      \n",
      " 11  CloseAmount   94845 non-null  float64       \n",
      " 12  Disposition   94845 non-null  category      \n",
      "dtypes: category(5), datetime64[ns](1), float64(2), object(5)\n",
      "memory usage: 6.4+ MB\n"
     ]
    }
   ],
   "source": [
    "# apply data types to columns as appropriate (date time, category)\n",
    "tsaClaims['DateReceived'] = pd.to_datetime(tsaClaims['DateReceived'])\n",
    "tsaClaims = tsaClaims.astype({\"ClaimType\":'category', \"ClaimSite\":'category', \"Item\":'category', \"Status\":'category', \"Disposition\":'category'})\n",
    "\n"
   ]
  },
  {
   "cell_type": "markdown",
   "metadata": {
    "id": "bLvBKDxBdytr"
   },
   "source": [
    "## Analyze the data"
   ]
  },
  {
   "cell_type": "markdown",
   "metadata": {
    "id": "gCawS-5Zdytr"
   },
   "source": [
    "### What is the most common type of claim?"
   ]
  },
  {
   "cell_type": "code",
   "execution_count": 148,
   "metadata": {
    "id": "tLpiUQfydyts"
   },
   "outputs": [
    {
     "data": {
      "text/plain": [
       "ClaimType\n",
       "Employee Loss (MPCECA)       308\n",
       "Motor Vehicle                  6\n",
       "Passenger Property Loss    60264\n",
       "Passenger Theft              331\n",
       "Personal Injury              208\n",
       "Property Damage            33728\n",
       "dtype: int64"
      ]
     },
     "execution_count": 148,
     "metadata": {},
     "output_type": "execute_result"
    }
   ],
   "source": [
    "# Group by ClaimType and count the number of claims for each type\n",
    "claimType = tsaClaims.groupby('ClaimType').size()\n",
    "\n",
    "\n",
    "# Reset the index so the ClaimType column can be used by Seaborn\n",
    "# (this code is given to you)\n",
    "claimType.reset_index()\n",
    "\n",
    "claimType.head(10)"
   ]
  },
  {
   "cell_type": "code",
   "execution_count": 130,
   "metadata": {
    "id": "tgMVTgGudyts"
   },
   "outputs": [
    {
     "data": {
      "image/png": "[encoded data removed]",
      "text/plain": [
       "<Figure size 432x288 with 1 Axes>"
      ]
     },
     "metadata": {
      "needs_background": "light"
     },
     "output_type": "display_data"
    }
   ],
   "source": [
    "# Plot all claim types that have more than 400 rows...this removes the less common claim types|\n",
    "ClaimType_count_plot = sns.countplot(x='ClaimType', data = tsaClaims)"
   ]
  },
  {
   "cell_type": "markdown",
   "metadata": {
    "id": "wkeC-uuVdytt",
    "jp-MarkdownHeadingCollapsed": true,
    "tags": []
   },
   "source": [
    "#### What claim type if the most common?\n",
    "Passenger Property Loss"
   ]
  },
  {
   "cell_type": "markdown",
   "metadata": {
    "id": "D3ucuPtddytt"
   },
   "source": [
    "### Which claim site is the most common?"
   ]
  },
  {
   "cell_type": "code",
   "execution_count": 149,
   "metadata": {
    "id": "1OTq6PnRdytu"
   },
   "outputs": [
    {
     "data": {
      "text/plain": [
       "ClaimType\n",
       "Employee Loss (MPCECA)       308\n",
       "Motor Vehicle                  6\n",
       "Passenger Property Loss    60264\n",
       "Passenger Theft              331\n",
       "Personal Injury              208\n",
       "Property Damage            33728\n",
       "dtype: int64"
      ]
     },
     "execution_count": 149,
     "metadata": {},
     "output_type": "execute_result"
    }
   ],
   "source": [
    "# Group by ClaimType and count the number of claims for each type.\n",
    "groupby_claimType_Count = tsaClaims.groupby('ClaimType').size()\n",
    "groupby_claimType_Count.reset_index()\n",
    "groupby_claimType_Count.head(10)"
   ]
  },
  {
   "cell_type": "code",
   "execution_count": 150,
   "metadata": {
    "id": "t_GSre0cdytv"
   },
   "outputs": [
    {
     "data": {
      "image/png": "[encoded data removed]",
      "text/plain": [
       "<Figure size 432x288 with 1 Axes>"
      ]
     },
     "metadata": {
      "needs_background": "light"
     },
     "output_type": "display_data"
    }
   ],
   "source": [
    "# create an appropriate plot showing claim count on x asix and \n",
    "# claim site on y\n",
    "ClaimSite_count_plot = sns.countplot(x='ClaimSite', data = tsaClaims)"
   ]
  },
  {
   "cell_type": "markdown",
   "metadata": {
    "id": "3RMWWw7xdytv"
   },
   "source": [
    "#### Which claim site is the most common?\n",
    "Checked Baggage"
   ]
  },
  {
   "cell_type": "code",
   "execution_count": 151,
   "metadata": {},
   "outputs": [
    {
     "data": {
      "text/plain": [
       "ClaimSite\n",
       "Checked Baggage    80551\n",
       "Checkpoint         14012\n",
       "Motor Vehicle          2\n",
       "Other                280\n",
       "dtype: int64"
      ]
     },
     "execution_count": 151,
     "metadata": {},
     "output_type": "execute_result"
    }
   ],
   "source": [
    "groupby_claimType_Count = tsaClaims.groupby('ClaimSite').size()\n",
    "groupby_claimType_Count.reset_index()\n",
    "groupby_claimType_Count.head()"
   ]
  },
  {
   "cell_type": "markdown",
   "metadata": {
    "id": "Wj4TWLIDdytv"
   },
   "source": [
    "### Which type of claim is typically made at each claim site?"
   ]
  },
  {
   "cell_type": "code",
   "execution_count": 152,
   "metadata": {
    "id": "AFtRNIeydytv"
   },
   "outputs": [
    {
     "data": {
      "text/plain": [
       "ClaimType                ClaimSite      \n",
       "Employee Loss (MPCECA)   Checked Baggage      275\n",
       "                         Checkpoint            32\n",
       "                         Other                  1\n",
       "Motor Vehicle            Checked Baggage        4\n",
       "                         Checkpoint             1\n",
       "                         Other                  1\n",
       "Passenger Property Loss  Checked Baggage    53363\n",
       "                         Checkpoint          6740\n",
       "                         Motor Vehicle          2\n",
       "                         Other                159\n",
       "Passenger Theft          Checked Baggage      294\n",
       "                         Checkpoint            36\n",
       "                         Other                  1\n",
       "Personal Injury          Checked Baggage       89\n",
       "                         Checkpoint           112\n",
       "                         Other                  7\n",
       "Property Damage          Checked Baggage    26526\n",
       "                         Checkpoint          7091\n",
       "                         Other                111\n",
       "dtype: int64"
      ]
     },
     "execution_count": 152,
     "metadata": {},
     "output_type": "execute_result"
    }
   ],
   "source": [
    "# create a chart that groups claimtype and claim site with a count of claim number (reset_index)\n",
    "ClaimSite_ClaimType_group = tsaClaims.groupby(['ClaimType','ClaimSite']).size()\n",
    "ClaimSite_ClaimType_group.reset_index()\n",
    "ClaimSite_ClaimType_group\n"
   ]
  },
  {
   "cell_type": "code",
   "execution_count": 153,
   "metadata": {},
   "outputs": [
    {
     "data": {
      "text/plain": [
       "ClaimType                ClaimSite      \n",
       "Employee Loss (MPCECA)   Checked Baggage    False\n",
       "                         Checkpoint         False\n",
       "                         Other              False\n",
       "Motor Vehicle            Checked Baggage    False\n",
       "                         Checkpoint         False\n",
       "                         Other              False\n",
       "Passenger Property Loss  Checked Baggage     True\n",
       "                         Checkpoint          True\n",
       "                         Motor Vehicle      False\n",
       "                         Other              False\n",
       "Passenger Theft          Checked Baggage    False\n",
       "                         Checkpoint         False\n",
       "                         Other              False\n",
       "Personal Injury          Checked Baggage    False\n",
       "                         Checkpoint         False\n",
       "                         Other              False\n",
       "Property Damage          Checked Baggage     True\n",
       "                         Checkpoint          True\n",
       "                         Other              False\n",
       "dtype: bool"
      ]
     },
     "execution_count": 153,
     "metadata": {},
     "output_type": "execute_result"
    }
   ],
   "source": [
    "# show the results with count > 300\n",
    "ClaimSite_ClaimType_group_over300 = ClaimSite_ClaimType_group > 300\n",
    "ClaimSite_ClaimType_group_over300"
   ]
  },
  {
   "cell_type": "code",
   "execution_count": 154,
   "metadata": {
    "id": "iql8Uks5dytv"
   },
   "outputs": [
    {
     "data": {
      "image/png": "[encoded data removed]",
      "text/plain": [
       "<Figure size 432x288 with 1 Axes>"
      ]
     },
     "metadata": {
      "needs_background": "light"
     },
     "output_type": "display_data"
    }
   ],
   "source": [
    "# use sns.datplot to create a plot\n",
    "ClaimSite_ClaimType_group_plot = sns.countplot(x='ClaimType', hue='ClaimSite', data=tsaClaims)\n"
   ]
  },
  {
   "cell_type": "markdown",
   "metadata": {
    "id": "dTb8onFpdytw"
   },
   "source": [
    "#### Compare checked baggage and checkpoint site - what types of claims aare made at these two sites?\n",
    "\n",
    "In the count where we found values over 300, for checked baggage and checkpoint site, we got Passenger Property Loss and Property Damage as the claims for these sites. "
   ]
  },
  {
   "cell_type": "markdown",
   "metadata": {
    "id": "aexfsJRLdytw"
   },
   "source": [
    "### What is the typical claim amount?"
   ]
  },
  {
   "cell_type": "code",
   "execution_count": 155,
   "metadata": {
    "id": "lp3WvEvmdytw"
   },
   "outputs": [
    {
     "data": {
      "text/html": [
       "<div>\n",
       "<style scoped>\n",
       "    .dataframe tbody tr th:only-of-type {\n",
       "        vertical-align: middle;\n",
       "    }\n",
       "\n",
       "    .dataframe tbody tr th {\n",
       "        vertical-align: top;\n",
       "    }\n",
       "\n",
       "    .dataframe thead th {\n",
       "        text-align: right;\n",
       "    }\n",
       "</style>\n",
       "<table border=\"1\" class=\"dataframe\">\n",
       "  <thead>\n",
       "    <tr style=\"text-align: right;\">\n",
       "      <th></th>\n",
       "      <th>count</th>\n",
       "      <th>mean</th>\n",
       "      <th>std</th>\n",
       "      <th>min</th>\n",
       "      <th>25%</th>\n",
       "      <th>50%</th>\n",
       "      <th>75%</th>\n",
       "      <th>max</th>\n",
       "    </tr>\n",
       "  </thead>\n",
       "  <tbody>\n",
       "    <tr>\n",
       "      <th>ClaimAmount</th>\n",
       "      <td>94845.0</td>\n",
       "      <td>3634.940272</td>\n",
       "      <td>524951.962954</td>\n",
       "      <td>0.0</td>\n",
       "      <td>65.0</td>\n",
       "      <td>183.69</td>\n",
       "      <td>480.68</td>\n",
       "      <td>125000000.0</td>\n",
       "    </tr>\n",
       "    <tr>\n",
       "      <th>CloseAmount</th>\n",
       "      <td>94845.0</td>\n",
       "      <td>89.044851</td>\n",
       "      <td>882.072577</td>\n",
       "      <td>0.0</td>\n",
       "      <td>0.0</td>\n",
       "      <td>0.00</td>\n",
       "      <td>61.96</td>\n",
       "      <td>250000.0</td>\n",
       "    </tr>\n",
       "  </tbody>\n",
       "</table>\n",
       "</div>"
      ],
      "text/plain": [
       "               count         mean            std  min   25%     50%     75%  \\\n",
       "ClaimAmount  94845.0  3634.940272  524951.962954  0.0  65.0  183.69  480.68   \n",
       "CloseAmount  94845.0    89.044851     882.072577  0.0   0.0    0.00   61.96   \n",
       "\n",
       "                     max  \n",
       "ClaimAmount  125000000.0  \n",
       "CloseAmount     250000.0  "
      ]
     },
     "execution_count": 155,
     "metadata": {},
     "output_type": "execute_result"
    }
   ],
   "source": [
    "# use describe to look at the claim amount\n",
    "tsaClaims.describe().T"
   ]
  },
  {
   "cell_type": "code",
   "execution_count": 156,
   "metadata": {
    "id": "kx7BMdKpdytw"
   },
   "outputs": [
    {
     "data": {
      "text/plain": [
       "Status\n",
       "Approved                          23165\n",
       "Canceled                              6\n",
       "Denied                            53272\n",
       "Pending response from claimant        1\n",
       "Settled                           18401\n",
       "dtype: int64"
      ]
     },
     "execution_count": 156,
     "metadata": {},
     "output_type": "execute_result"
    }
   ],
   "source": [
    "# group claims by status and show claimnumber counts\n",
    "groupby_ClaimStatus = tsaClaims.groupby('Status').size()\n",
    "\n",
    "groupby_ClaimStatus.head(10)"
   ]
  },
  {
   "cell_type": "code",
   "execution_count": 80,
   "metadata": {
    "id": "JJRg9QErdytw"
   },
   "outputs": [
    {
     "data": {
      "text/plain": [
       "<seaborn.axisgrid.FacetGrid at 0x1b616c25550>"
      ]
     },
     "execution_count": 157,
     "metadata": {},
     "output_type": "execute_result"
    },
    {
     "data": {
      "image/png": "[encoded data removed]",
      "text/plain": [
       "<Figure size 360x360 with 1 Axes>"
      ]
     },
     "metadata": {
      "needs_background": "light"
     },
     "output_type": "display_data"
    }
   ],
   "source": [
    "# Use a distribution plot for all claims that are less than 5,000\n",
    "sns.displot(tsaClaims.ClaimAmount[tsaClaims.ClaimAmount < 5000])\n"
   ]
  },
  {
   "cell_type": "markdown",
   "metadata": {
    "id": "KRYTK1Rqdytw"
   },
   "source": [
    "#### The typical claim is less than $250."
   ]
  },
  {
   "cell_type": "markdown",
   "metadata": {
    "id": "QO_SMlYGdytx"
   },
   "source": [
    "### What percent of claims are approved?"
   ]
  },
  {
   "cell_type": "code",
   "execution_count": 82,
   "metadata": {
    "id": "lvRVr7uldytx"
   },
   "outputs": [
    {
     "data": {
      "text/plain": [
       "Status\n",
       "Approved                          23165\n",
       "Canceled                              6\n",
       "Denied                            53272\n",
       "Pending response from claimant        1\n",
       "Settled                           18401\n",
       "dtype: int64"
      ]
     },
     "execution_count": 158,
     "metadata": {},
     "output_type": "execute_result"
    }
   ],
   "source": [
    "# group by status and show count of claim number\n",
    "groupby_ClaimStatus = tsaClaims.groupby('Status').size()\n",
    "groupby_ClaimStatus.head()\n"
   ]
  },
  {
   "cell_type": "code",
   "execution_count": 105,
   "metadata": {
    "id": "VMaNnUq_dytx"
   },
   "outputs": [
    {
     "data": {
      "text/plain": [
       "24.42406030892509"
      ]
     },
     "execution_count": 105,
     "metadata": {},
     "output_type": "execute_result"
    }
   ],
   "source": [
    "# calculate approval rate\n",
    "approval_amount = tsaClaims.loc[(tsaClaims['Status'] == \"Approved\")].count()\n",
    "approval_amount\n",
    "total_claims = tsaClaims['Status'].count()\n",
    "approval_rate = (approval_amount/total_claims) *100\n",
    "approval_rate['Status']\n"
   ]
  },
  {
   "cell_type": "markdown",
   "metadata": {
    "id": "bg-ozd5_dytz"
   },
   "source": [
    "#### What is the rate of approval?"
   ]
  },
  {
   "cell_type": "code",
   "execution_count": 100,
   "metadata": {
    "id": "dbHisY-7dytz"
   },
   "outputs": [],
   "source": [
    "# 24.42%"
   ]
  }
 ],
 "metadata": {
  "colab": {
   "name": "Challenge_Exercise_Airports.ipynb",
   "provenance": []
  },
  "kernelspec": {
   "display_name": "Python 3 (ipykernel)",
   "language": "python",
   "name": "python3"
  },
  "language_info": {
   "codemirror_mode": {
    "name": "ipython",
    "version": 3
   },
   "file_extension": ".py",
   "mimetype": "text/x-python",
   "name": "python",
   "nbconvert_exporter": "python",
   "pygments_lexer": "ipython3",
   "version": "3.9.12"
  }
 },
 "nbformat": 4,
 "nbformat_minor": 4
}
